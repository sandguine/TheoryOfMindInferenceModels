{
 "cells": [
  {
   "cell_type": "code",
   "execution_count": 1,
   "metadata": {
    "ExecuteTime": {
     "end_time": "2019-01-25T23:42:43.259382Z",
     "start_time": "2019-01-25T23:42:43.255146Z"
    }
   },
   "outputs": [],
   "source": [
    "import importlib\n",
    "import os"
   ]
  },
  {
   "cell_type": "code",
   "execution_count": 2,
   "metadata": {
    "ExecuteTime": {
     "end_time": "2019-01-25T23:42:43.267543Z",
     "start_time": "2019-01-25T23:42:43.263696Z"
    }
   },
   "outputs": [],
   "source": [
    "filedir = '.'\n",
    "submissionFolderPaths = [root.rsplit('/')[1:] for root, _, _ in os.walk(filedir)][2:]"
   ]
  },
  {
   "cell_type": "code",
   "execution_count": 3,
   "metadata": {
    "ExecuteTime": {
     "end_time": "2019-01-25T23:42:43.282112Z",
     "start_time": "2019-01-25T23:42:43.268790Z"
    },
    "scrolled": true
   },
   "outputs": [
    {
     "data": {
      "text/plain": [
       "[['HW1_Submissions', 'CHEN, PEI-HUNG_21839752_assignsubmission_file_'],\n",
       " ['HW1_Submissions', 'PHAM, CALVIN_21839726_assignsubmission_file_'],\n",
       " ['HW1_Submissions', 'ZHAO, KE_21839761_assignsubmission_file_'],\n",
       " ['HW1_Submissions', 'YANG, GUANQUN_21839734_assignsubmission_file_'],\n",
       " ['HW1_Submissions',\n",
       "  'LEACH, WILLIAM KENTAROU KANEKO_21839733_assignsubmission_file_'],\n",
       " ['HW1_Submissions', 'BAI, ZEYU_21839720_assignsubmission_file_'],\n",
       " ['HW1_Submissions', 'LI, SHUANGYU_21839772_assignsubmission_file_'],\n",
       " ['HW1_Submissions', 'LIU, CUNYANG_21839728_assignsubmission_file_'],\n",
       " ['HW1_Submissions', 'GOYAL, SHUCHI_21839747_assignsubmission_file_'],\n",
       " ['HW1_Submissions', 'LIANG, KEN-FU_21839750_assignsubmission_file_'],\n",
       " ['HW1_Submissions', 'JIANG, ZIYI_21839737_assignsubmission_file_'],\n",
       " ['HW1_Submissions', 'ZHANG, JIANWEI_21839754_assignsubmission_file_'],\n",
       " ['HW1_Submissions', 'TRAN, RICHARD_21839770_assignsubmission_file_'],\n",
       " ['HW1_Submissions', 'SHAHI, PRACHI_21839753_assignsubmission_file_'],\n",
       " ['HW1_Submissions', 'MANGALORE, PRATIK_21839731_assignsubmission_file_'],\n",
       " ['HW1_Submissions', 'ZHANG, YUNCHU_21839735_assignsubmission_file_'],\n",
       " ['HW1_Submissions', 'XIONG, WENLONG_21839725_assignsubmission_file_'],\n",
       " ['HW1_Submissions', 'LI, QING_21851928_assignsubmission_file_'],\n",
       " ['HW1_Submissions', 'FAN, LIFENG_21839729_assignsubmission_file_'],\n",
       " ['HW1_Submissions', 'ICHIEN, NICHOLAS_21839768_assignsubmission_file_'],\n",
       " ['HW1_Submissions', 'BA, YUNHAO_21839766_assignsubmission_file_'],\n",
       " ['HW1_Submissions', 'MALAVALLI, RAHUL_21839727_assignsubmission_file_'],\n",
       " ['HW1_Submissions', 'QIU, YUXING_21839723_assignsubmission_file_'],\n",
       " ['HW1_Submissions', 'ONYAMBU, ONYANCHA_21839724_assignsubmission_file_'],\n",
       " ['HW1_Submissions', 'HSU, WEN-DYAN_21839760_assignsubmission_file_'],\n",
       " ['HW1_Submissions', 'VERMA, AVIJIT_21839755_assignsubmission_file_'],\n",
       " ['HW1_Submissions', 'GAO, XIAOFENG_21839771_assignsubmission_file_'],\n",
       " ['.ipynb_checkpoints'],\n",
       " ['__pycache__']]"
      ]
     },
     "execution_count": 3,
     "metadata": {},
     "output_type": "execute_result"
    }
   ],
   "source": [
    "submissionFolderPaths"
   ]
  },
  {
   "cell_type": "code",
   "execution_count": 4,
   "metadata": {
    "ExecuteTime": {
     "end_time": "2019-01-25T23:42:43.287030Z",
     "start_time": "2019-01-25T23:42:43.283881Z"
    }
   },
   "outputs": [],
   "source": [
    "validPackageNames = ['.'.join(folder) for folder in submissionFolderPaths if folder[0][0].isalpha()]"
   ]
  },
  {
   "cell_type": "code",
   "execution_count": 5,
   "metadata": {
    "ExecuteTime": {
     "end_time": "2019-01-25T23:42:43.292247Z",
     "start_time": "2019-01-25T23:42:43.288344Z"
    }
   },
   "outputs": [
    {
     "data": {
      "text/plain": [
       "27"
      ]
     },
     "execution_count": 5,
     "metadata": {},
     "output_type": "execute_result"
    }
   ],
   "source": [
    "len(validPackageNames)"
   ]
  },
  {
   "cell_type": "code",
   "execution_count": 6,
   "metadata": {
    "ExecuteTime": {
     "end_time": "2019-01-25T23:42:43.298522Z",
     "start_time": "2019-01-25T23:42:43.293993Z"
    }
   },
   "outputs": [
    {
     "data": {
      "text/plain": [
       "['HW1_Submissions.CHEN, PEI-HUNG_21839752_assignsubmission_file_',\n",
       " 'HW1_Submissions.PHAM, CALVIN_21839726_assignsubmission_file_',\n",
       " 'HW1_Submissions.ZHAO, KE_21839761_assignsubmission_file_',\n",
       " 'HW1_Submissions.YANG, GUANQUN_21839734_assignsubmission_file_',\n",
       " 'HW1_Submissions.LEACH, WILLIAM KENTAROU KANEKO_21839733_assignsubmission_file_',\n",
       " 'HW1_Submissions.BAI, ZEYU_21839720_assignsubmission_file_',\n",
       " 'HW1_Submissions.LI, SHUANGYU_21839772_assignsubmission_file_',\n",
       " 'HW1_Submissions.LIU, CUNYANG_21839728_assignsubmission_file_',\n",
       " 'HW1_Submissions.GOYAL, SHUCHI_21839747_assignsubmission_file_',\n",
       " 'HW1_Submissions.LIANG, KEN-FU_21839750_assignsubmission_file_',\n",
       " 'HW1_Submissions.JIANG, ZIYI_21839737_assignsubmission_file_',\n",
       " 'HW1_Submissions.ZHANG, JIANWEI_21839754_assignsubmission_file_',\n",
       " 'HW1_Submissions.TRAN, RICHARD_21839770_assignsubmission_file_',\n",
       " 'HW1_Submissions.SHAHI, PRACHI_21839753_assignsubmission_file_',\n",
       " 'HW1_Submissions.MANGALORE, PRATIK_21839731_assignsubmission_file_',\n",
       " 'HW1_Submissions.ZHANG, YUNCHU_21839735_assignsubmission_file_',\n",
       " 'HW1_Submissions.XIONG, WENLONG_21839725_assignsubmission_file_',\n",
       " 'HW1_Submissions.LI, QING_21851928_assignsubmission_file_',\n",
       " 'HW1_Submissions.FAN, LIFENG_21839729_assignsubmission_file_',\n",
       " 'HW1_Submissions.ICHIEN, NICHOLAS_21839768_assignsubmission_file_',\n",
       " 'HW1_Submissions.BA, YUNHAO_21839766_assignsubmission_file_',\n",
       " 'HW1_Submissions.MALAVALLI, RAHUL_21839727_assignsubmission_file_',\n",
       " 'HW1_Submissions.QIU, YUXING_21839723_assignsubmission_file_',\n",
       " 'HW1_Submissions.ONYAMBU, ONYANCHA_21839724_assignsubmission_file_',\n",
       " 'HW1_Submissions.HSU, WEN-DYAN_21839760_assignsubmission_file_',\n",
       " 'HW1_Submissions.VERMA, AVIJIT_21839755_assignsubmission_file_',\n",
       " 'HW1_Submissions.GAO, XIAOFENG_21839771_assignsubmission_file_']"
      ]
     },
     "execution_count": 6,
     "metadata": {},
     "output_type": "execute_result"
    }
   ],
   "source": [
    "validPackageNames"
   ]
  },
  {
   "cell_type": "code",
   "execution_count": 7,
   "metadata": {
    "ExecuteTime": {
     "end_time": "2019-01-25T23:42:43.303285Z",
     "start_time": "2019-01-25T23:42:43.299854Z"
    }
   },
   "outputs": [],
   "source": [
    "priorA = {'gold': 3/6, 'silver': 1/6, 'bronze': 2/6}\n",
    "priorB = {'samoas': 3/20, 'tagalogs':2/20, 'mintthins': 14/20, 'lemondrops':1/20}\n",
    "\n",
    "likMedal = {'gold': .5, 'silver': .9, 'bronze': .2}\n",
    "likCookie = {'samoas': .8, 'tagalogs': .6, 'mintthins': .5 , 'lemondrops': .1}\n",
    "\n",
    "likelihood = {('gold', 'samoas'): 0.4, ('gold', 'tagalogs'): 0.3, ('gold', 'mintthins'): 0.25, ('gold', 'lemondrops'): 0.05, ('silver', 'samoas'): 0.72, ('silver', 'tagalogs'): 0.54, ('silver', 'mintthins'): 0.45, ('silver', 'lemondrops'): 0.09, ('bronze', 'samoas'): 0.16, ('bronze', 'tagalogs'): 0.12, ('bronze', 'mintthins'): 0.1, ('bronze', 'lemondrops'): 0.02}"
   ]
  },
  {
   "cell_type": "code",
   "execution_count": null,
   "metadata": {},
   "outputs": [],
   "source": [
    "priorA = {'gold': 3/6, 'silver': 1/6, 'bronze': 2/6}\n",
    "priorB = {'samoas': 3/20, 'tagalogs':2/20, 'mintthins': 14/20, 'lemondrops':1/20}\n",
    "likelihood = {('gold', 'samoas'): 0.4, ('gold', 'tagalogs'): 0.3, ('gold', 'mintthins'): 0.25, ('gold', 'lemondrops'): 0.05, ('silver', 'samoas'): 0.72, ('silver', 'tagalogs'): 0.54, ('silver', 'mintthins'): 0.45, ('silver', 'lemondrops'): 0.09, ('bronze', 'samoas'): 0.16, ('bronze', 'tagalogs'): 0.12, ('bronze', 'mintthins'): 0.1, ('bronze', 'lemondrops'): 0.02}\n",
    "print(getPosterior(priorA, priorB, likelihood))"
   ]
  },
  {
   "cell_type": "code",
   "execution_count": 8,
   "metadata": {
    "ExecuteTime": {
     "end_time": "2019-01-25T23:42:43.358765Z",
     "start_time": "2019-01-25T23:42:43.306441Z"
    }
   },
   "outputs": [
    {
     "name": "stdout",
     "output_type": "stream",
     "text": [
      "HW1_Submissions.CHEN, PEI-HUNG_21839752_assignsubmission_file_\n",
      "[{'gold': 0.5357142857142856, 'silver': 0.3214285714285714, 'bronze': 0.14285714285714282}, {'samoas': 0.22429906542056072, 'tagalogs': 0.11214953271028037, 'mintthins': 0.6542056074766355, 'lemondrops': 0.009345794392523366}]\n",
      "\n",
      "\n",
      "HW1_Submissions.PHAM, CALVIN_21839726_assignsubmission_file_\n",
      "[{'gold': 0.5357142857142856, 'silver': 0.3214285714285714, 'bronze': 0.14285714285714282}, {'samoas': 0.22429906542056072, 'tagalogs': 0.11214953271028037, 'mintthins': 0.6542056074766355, 'lemondrops': 0.009345794392523366}]\n",
      "\n",
      "\n",
      "HW1_Submissions.ZHAO, KE_21839761_assignsubmission_file_\n",
      "[{'gold': 0.5357142857142856, 'silver': 0.3214285714285714, 'bronze': 0.14285714285714282}, {'samoas': 0.22429906542056072, 'tagalogs': 0.11214953271028037, 'mintthins': 0.6542056074766355, 'lemondrops': 0.009345794392523366}]\n",
      "\n",
      "\n",
      "HW1_Submissions.YANG, GUANQUN_21839734_assignsubmission_file_\n",
      "[{'gold': 0.5357142857142856, 'silver': 0.3214285714285714, 'bronze': 0.14285714285714282}, {'samoas': 0.22429906542056072, 'tagalogs': 0.11214953271028037, 'mintthins': 0.6542056074766355, 'lemondrops': 0.009345794392523366}]\n",
      "\n",
      "\n",
      "HW1_Submissions.LEACH, WILLIAM KENTAROU KANEKO_21839733_assignsubmission_file_\n",
      "[{'gold': 0.5357142857142856, 'silver': 0.3214285714285714, 'bronze': 0.14285714285714282}, {'samoas': 0.22429906542056072, 'tagalogs': 0.11214953271028037, 'mintthins': 0.6542056074766355, 'lemondrops': 0.009345794392523366}]\n",
      "\n",
      "\n",
      "HW1_Submissions.BAI, ZEYU_21839720_assignsubmission_file_\n",
      "[{'gold': 0.5357142857142856, 'silver': 0.3214285714285714, 'bronze': 0.14285714285714282}, {'samoas': 0.22429906542056072, 'tagalogs': 0.11214953271028037, 'mintthins': 0.6542056074766355, 'lemondrops': 0.009345794392523366}]\n",
      "\n",
      "\n",
      "HW1_Submissions.LI, SHUANGYU_21839772_assignsubmission_file_\n",
      "[{'gold': 0.5357142857142856, 'silver': 0.3214285714285714, 'bronze': 0.14285714285714282}, {'samoas': 0.22429906542056072, 'tagalogs': 0.11214953271028037, 'mintthins': 0.6542056074766355, 'lemondrops': 0.009345794392523366}]\n",
      "\n",
      "\n",
      "HW1_Submissions.LIU, CUNYANG_21839728_assignsubmission_file_\n",
      "[{'gold': 0.5357142857142856, 'silver': 0.3214285714285714, 'bronze': 0.14285714285714282}, {'samoas': 0.22429906542056072, 'tagalogs': 0.11214953271028037, 'mintthins': 0.6542056074766355, 'lemondrops': 0.009345794392523366}]\n",
      "\n",
      "\n",
      "HW1_Submissions.GOYAL, SHUCHI_21839747_assignsubmission_file_\n",
      "[{'gold': 0.5357142857142856, 'silver': 0.3214285714285714, 'bronze': 0.14285714285714282}, {'samoas': 0.22429906542056072, 'tagalogs': 0.11214953271028037, 'mintthins': 0.6542056074766355, 'lemondrops': 0.009345794392523366}]\n",
      "\n",
      "\n",
      "HW1_Submissions.LIANG, KEN-FU_21839750_assignsubmission_file_\n",
      "[{'gold': 0.5357142857142856, 'silver': 0.3214285714285714, 'bronze': 0.14285714285714282}, {'samoas': 0.22429906542056072, 'tagalogs': 0.11214953271028037, 'mintthins': 0.6542056074766355, 'lemondrops': 0.009345794392523366}]\n",
      "\n",
      "\n",
      "HW1_Submissions.JIANG, ZIYI_21839737_assignsubmission_file_\n",
      "[{'gold': 0.5357142857142856, 'silver': 0.3214285714285714, 'bronze': 0.14285714285714282}, {'samoas': 0.22429906542056072, 'tagalogs': 0.11214953271028037, 'mintthins': 0.6542056074766355, 'lemondrops': 0.009345794392523366}]\n",
      "\n",
      "\n",
      "HW1_Submissions.ZHANG, JIANWEI_21839754_assignsubmission_file_\n",
      "[{'gold': 0.5357142857142856, 'silver': 0.3214285714285714, 'bronze': 0.14285714285714282}, {'samoas': 0.22429906542056072, 'tagalogs': 0.11214953271028037, 'mintthins': 0.6542056074766355, 'lemondrops': 0.009345794392523366}]\n",
      "\n",
      "\n",
      "HW1_Submissions.TRAN, RICHARD_21839770_assignsubmission_file_\n",
      "[{'gold': 0.5357142857142856, 'silver': 0.3214285714285714, 'bronze': 0.14285714285714282}, {'samoas': 0.22429906542056072, 'tagalogs': 0.11214953271028037, 'mintthins': 0.6542056074766355, 'lemondrops': 0.009345794392523366}]\n",
      "\n",
      "\n",
      "HW1_Submissions.SHAHI, PRACHI_21839753_assignsubmission_file_\n",
      "[{'gold': 0.5357142857142856, 'silver': 0.3214285714285714, 'bronze': 0.14285714285714282}, {'samoas': 0.22429906542056072, 'tagalogs': 0.11214953271028037, 'mintthins': 0.6542056074766355, 'lemondrops': 0.009345794392523366}]\n",
      "\n",
      "\n",
      "HW1_Submissions.MANGALORE, PRATIK_21839731_assignsubmission_file_\n",
      "[{'gold': 0.5357142857142856, 'silver': 0.3214285714285714, 'bronze': 0.14285714285714282}, {'samoas': 0.22429906542056072, 'tagalogs': 0.11214953271028037, 'mintthins': 0.6542056074766355, 'lemondrops': 0.009345794392523366}]\n",
      "\n",
      "\n",
      "HW1_Submissions.ZHANG, YUNCHU_21839735_assignsubmission_file_\n",
      "[{'gold': 0.5357142857142856, 'silver': 0.3214285714285714, 'bronze': 0.14285714285714282}, {'samoas': 0.22429906542056072, 'tagalogs': 0.11214953271028037, 'mintthins': 0.6542056074766355, 'lemondrops': 0.009345794392523366}]\n",
      "\n",
      "\n",
      "HW1_Submissions.XIONG, WENLONG_21839725_assignsubmission_file_\n",
      "[{'gold': 0.5357142857142856, 'silver': 0.3214285714285714, 'bronze': 0.14285714285714282}, {'samoas': 0.22429906542056072, 'tagalogs': 0.11214953271028037, 'mintthins': 0.6542056074766355, 'lemondrops': 0.009345794392523366}]\n",
      "\n",
      "\n",
      "HW1_Submissions.LI, QING_21851928_assignsubmission_file_\n",
      "[{'gold': 0.5357142857142856, 'silver': 0.3214285714285714, 'bronze': 0.14285714285714282}, {'samoas': 0.22429906542056072, 'tagalogs': 0.11214953271028037, 'mintthins': 0.6542056074766355, 'lemondrops': 0.009345794392523366}]\n",
      "\n",
      "\n",
      "HW1_Submissions.FAN, LIFENG_21839729_assignsubmission_file_\n",
      "[{'gold': 0.5357142857142856, 'silver': 0.3214285714285714, 'bronze': 0.14285714285714282}, {'samoas': 0.22429906542056072, 'tagalogs': 0.11214953271028037, 'mintthins': 0.6542056074766355, 'lemondrops': 0.009345794392523366}]\n",
      "\n",
      "\n",
      "HW1_Submissions.ICHIEN, NICHOLAS_21839768_assignsubmission_file_\n",
      "[{'gold': 0.5357142857142856, 'silver': 0.3214285714285714, 'bronze': 0.14285714285714282}, {'samoas': 0.22429906542056072, 'tagalogs': 0.11214953271028037, 'mintthins': 0.6542056074766355, 'lemondrops': 0.009345794392523366}]\n",
      "\n",
      "\n",
      "HW1_Submissions.BA, YUNHAO_21839766_assignsubmission_file_\n",
      "[{'gold': 0.5357142857142856, 'silver': 0.3214285714285714, 'bronze': 0.14285714285714282}, {'samoas': 0.22429906542056072, 'tagalogs': 0.11214953271028037, 'mintthins': 0.6542056074766355, 'lemondrops': 0.009345794392523366}]\n",
      "\n",
      "\n",
      "HW1_Submissions.MALAVALLI, RAHUL_21839727_assignsubmission_file_\n",
      "[{'gold': 0.5357142857142856, 'silver': 0.3214285714285714, 'bronze': 0.14285714285714282}, {'samoas': 0.22429906542056072, 'tagalogs': 0.11214953271028037, 'mintthins': 0.6542056074766355, 'lemondrops': 0.009345794392523366}]\n",
      "\n",
      "\n",
      "HW1_Submissions.QIU, YUXING_21839723_assignsubmission_file_\n",
      "[{'gold': 0.5357142857142856, 'silver': 0.3214285714285714, 'bronze': 0.14285714285714282}, {'samoas': 0.22429906542056072, 'tagalogs': 0.11214953271028037, 'mintthins': 0.6542056074766355, 'lemondrops': 0.009345794392523366}]\n",
      "\n",
      "\n",
      "HW1_Submissions.ONYAMBU, ONYANCHA_21839724_assignsubmission_file_\n",
      "[{'gold': 0.5357142857142856, 'silver': 0.3214285714285714, 'bronze': 0.14285714285714282}, {'samoas': 0.22429906542056072, 'tagalogs': 0.11214953271028037, 'mintthins': 0.6542056074766355, 'lemondrops': 0.009345794392523366}]\n",
      "\n",
      "\n",
      "HW1_Submissions.HSU, WEN-DYAN_21839760_assignsubmission_file_\n",
      "[{'gold': 0.5357142857142856, 'silver': 0.3214285714285714, 'bronze': 0.14285714285714282}, {'samoas': 0.22429906542056072, 'tagalogs': 0.11214953271028037, 'mintthins': 0.6542056074766355, 'lemondrops': 0.009345794392523366}]\n",
      "\n",
      "\n",
      "HW1_Submissions.VERMA, AVIJIT_21839755_assignsubmission_file_\n",
      "[{'gold': 0.5357142857142856, 'silver': 0.3214285714285714, 'bronze': 0.14285714285714282}, {'samoas': 0.22429906542056072, 'tagalogs': 0.11214953271028037, 'mintthins': 0.6542056074766355, 'lemondrops': 0.009345794392523366}]\n",
      "\n",
      "\n",
      "HW1_Submissions.GAO, XIAOFENG_21839771_assignsubmission_file_\n",
      "[{'gold': 0.5357142857142856, 'silver': 0.3214285714285714, 'bronze': 0.14285714285714282}, {'samoas': 0.22429906542056072, 'tagalogs': 0.11214953271028037, 'mintthins': 0.6542056074766355, 'lemondrops': 0.009345794392523366}]\n",
      "\n",
      "\n"
     ]
    }
   ],
   "source": [
    "for package in validPackageNames:\n",
    "    module = importlib.import_module('BayesianInference', package)\n",
    "    importlib.reload(module)\n",
    "    print(package)\n",
    "    print(module.getPosterior(priorA, priorB, likelihood))\n",
    "    print(\"\\n\")"
   ]
  }
 ],
 "metadata": {
  "kernelspec": {
   "display_name": "Python 3",
   "language": "python",
   "name": "python3"
  },
  "language_info": {
   "codemirror_mode": {
    "name": "ipython",
    "version": 3
   },
   "file_extension": ".py",
   "mimetype": "text/x-python",
   "name": "python",
   "nbconvert_exporter": "python",
   "pygments_lexer": "ipython3",
   "version": "3.6.6"
  },
  "toc": {
   "base_numbering": 1,
   "nav_menu": {},
   "number_sections": true,
   "sideBar": true,
   "skip_h1_title": false,
   "title_cell": "Table of Contents",
   "title_sidebar": "Contents",
   "toc_cell": false,
   "toc_position": {},
   "toc_section_display": true,
   "toc_window_display": false
  }
 },
 "nbformat": 4,
 "nbformat_minor": 2
}
