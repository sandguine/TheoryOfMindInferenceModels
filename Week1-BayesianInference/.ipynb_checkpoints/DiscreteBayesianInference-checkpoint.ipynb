{
 "cells": [
  {
   "cell_type": "markdown",
   "metadata": {},
   "source": [
    "Tests must start with 'test'"
   ]
  },
  {
   "cell_type": "code",
   "execution_count": 5,
   "metadata": {
    "ExecuteTime": {
     "end_time": "2019-01-14T18:07:29.814000Z",
     "start_time": "2019-01-14T18:07:29.778105Z"
    }
   },
   "outputs": [],
   "source": [
    "import numpy as np\n",
    "import itertools"
   ]
  },
  {
   "cell_type": "code",
   "execution_count": 6,
   "metadata": {
    "ExecuteTime": {
     "end_time": "2019-01-14T18:07:30.892573Z",
     "start_time": "2019-01-14T18:07:30.886432Z"
    }
   },
   "outputs": [],
   "source": [
    "def setUpBayesianInference(eventAMeanSampleSpaceSize, eventBMeanSampleSpaceSize, randomSeed, isPriorUniform=False):\n",
    "    np.random.seed(randomSeed)\n",
    "    aProbabilities = constructRandomPMF(eventAMeanSampleSpaceSize, 'a')\n",
    "    bProbabilities = constructRandomPMF(eventBMeanSampleSpaceSize, 'b')\n",
    "    jointProbabilities = getJointPMFOfTwoEvents(aProbabilities, bProbabilities)\n",
    "    \n",
    "    sampleSpaceANames = list(aProbabilities.keys())\n",
    "    sampleSpaceBNames = list(bProbabilities.keys())\n",
    "    \n",
    "    aPrior = constructPrior(sampleSpaceANames,isPriorUniform)\n",
    "    bPrior = constructPrior(sampleSpaceBNames,isPriorUniform)\n",
    "    \n",
    "    likelihood = generateLikelihood(jointProbabilities)\n",
    "    \n",
    "    return([jointProbabilities,  aPrior,  bPrior, likelihood])\n"
   ]
  },
  {
   "cell_type": "code",
   "execution_count": 31,
   "metadata": {
    "ExecuteTime": {
     "end_time": "2019-01-14T01:58:16.073748Z",
     "start_time": "2019-01-14T01:58:16.059709Z"
    },
    "scrolled": true
   },
   "outputs": [
    {
     "name": "stdout",
     "output_type": "stream",
     "text": [
      "{('a0', 'b0'): 0.17570541041399762, ('a0', 'b1'): 0.14968292489841234, ('a0', 'b2'): 0.03806977382780534, ('a0', 'b3'): 0.14528021147121237, ('a1', 'b0'): 0.1696694184426647, ('a1', 'b1'): 0.1445408810034426, ('a1', 'b2'): 0.03676196635259063, ('a1', 'b3'): 0.14028941358987443}\n",
      "{'a0': 0.1901883045926098, 'a1': 0.8098116954073902}\n",
      "{'b0': 0.3754696289252865, 'b1': 0.21730244836408819, 'b2': 0.3722099802058252, 'b3': 0.03501794250480023}\n",
      "{('a0', 'b0'): 0.505246090121704, ('a0', 'b1'): 0.06528650438687811, ('a0', 'b2'): 0.42812232759738944, ('a0', 'b3'): 0.09653091566061256, ('a1', 'b0'): 0.12715997170127746, ('a1', 'b1'): 0.5967453089785958, ('a1', 'b2'): 0.22601200060423587, ('a1', 'b3'): 0.10694568430998297}\n"
     ]
    }
   ],
   "source": [
    "generativeDistribution, priorA, priorB, likelihood = setUpBayesianInference(5, 5, 2)\n",
    "print(generativeDistribution)\n",
    "print(priorA)\n",
    "print(priorB)\n",
    "print(likelihood)"
   ]
  },
  {
   "cell_type": "markdown",
   "metadata": {},
   "source": [
    "## Helper Functions"
   ]
  },
  {
   "cell_type": "code",
   "execution_count": 7,
   "metadata": {
    "ExecuteTime": {
     "end_time": "2019-01-14T18:07:34.250873Z",
     "start_time": "2019-01-14T18:07:34.224698Z"
    }
   },
   "outputs": [],
   "source": [
    "def normalizeDictionaryValues(unnormalizedDictionary):\n",
    "    totalSum = sum(unnormalizedDictionary.values())\n",
    "    normalizedDictionary = {originalKey: val/totalSum for originalKey, val in unnormalizedDictionary.items()}\n",
    "    return(normalizedDictionary)\n",
    "\n",
    "def constructRandomPMF(meanSampleSpaceSize, eventIDString):\n",
    "    sampleSpaceSize = np.maximum(2, np.random.poisson(meanSampleSpaceSize))\n",
    "    outcomeNames = [eventIDString+str(outcomeIndex) for outcomeIndex in range(sampleSpaceSize)]\n",
    "    unnormalizedProbabilities = {outcome: np.random.random() for outcome in outcomeNames}\n",
    "    eventPMF = normalizeDictionaryValues(unnormalizedProbabilities)\n",
    "    return(eventPMF)\n",
    "\n",
    "def getJointPMFOfTwoEvents(eventAPMF, eventBPMF):\n",
    "    jointPMF = {(keya, keyb):eventAPMF[keya]*eventBPMF[keyb] for keya, keyb in itertools.product(eventAPMF.keys(), eventBPMF.keys())}\n",
    "    return(jointPMF)\n",
    "\n",
    "def generateLikelihood(jointDistribution):\n",
    "    likelihood = {jointKey: np.random.random() for jointKey in jointDistribution.keys()}\n",
    "    return(likelihood)\n",
    "\n",
    "def constructPrior(namesOfAllOutcomes, isUniform = False):\n",
    "    if isUniform:\n",
    "        prior = {a: 1/len(namesOfAllOutcomes) for a in namesOfAllOutcomes}\n",
    "    else:\n",
    "        unnormalizedPrior = {outcome: np.random.random() for outcome in namesOfAllOutcomes}\n",
    "        prior = normalizeDictionaryValues(unnormalizedPrior)\n",
    "    return(prior)\n"
   ]
  },
  {
   "cell_type": "code",
   "execution_count": 8,
   "metadata": {
    "ExecuteTime": {
     "end_time": "2019-01-14T18:07:37.451714Z",
     "start_time": "2019-01-14T18:07:37.446571Z"
    }
   },
   "outputs": [],
   "source": [
    "def getPosterior(priorOfA, priorOfB, likelihood):\n",
    "    normalizedPriorOfA = normalizeDictionaryValues(priorOfA)\n",
    "    normalizedPriorOfB = normalizeDictionaryValues(priorOfB)\n",
    "    \n",
    "    unnormalizedJointPosterior = {(aEvent, bEvent): calculateOutcomePosterier(normalizedPriorOfA, normalizedPriorOfB, likelihood, aEvent, bEvent) \\\n",
    "                      for aEvent, bEvent in likelihood.keys()}\n",
    "    jointPosterior = normalizeDictionaryValues(unnormalizedJointPosterior)\n",
    "    \n",
    "    marginalOfA = {keyOfA : getMarginalizedOutcomeProbability(keyOfA, jointPosterior) for keyOfA in normalizedPriorOfA.keys()}\n",
    "    marginalOfB = {keyOfB : getMarginalizedOutcomeProbability(keyOfB, jointPosterior) for keyOfB in normalizedPriorOfB.keys()}\n",
    "    \n",
    "    return([marginalOfA, marginalOfB])\n",
    "\n",
    "\n",
    "\n",
    "def getMarginalizedOutcomeProbability(outcome, jointPMF):\n",
    "    probabilityOfOutcome = sum([jointPMF[(keyOne, keyTwo)] if (keyOne==outcome )or (keyTwo==outcome)  else 0 for (keyOne, keyTwo) in jointPMF.keys()])\n",
    "    return(probabilityOfOutcome)\n",
    "\n",
    "def calculateOutcomePosterier(priorOfA, priorOfB, likelihood, aEvent, bEvent):\n",
    "    posterior = priorOfA[aEvent]*priorOfB[bEvent]*likelihood[(aEvent, bEvent)]\n",
    "    return(posterior)"
   ]
  },
  {
   "cell_type": "code",
   "execution_count": null,
   "metadata": {
    "ExecuteTime": {
     "end_time": "2019-01-14T01:00:38.475488Z",
     "start_time": "2019-01-14T01:00:38.468666Z"
    }
   },
   "outputs": [],
   "source": [
    "getPosterior(priorA, priorB, likelihood)"
   ]
  },
  {
   "cell_type": "markdown",
   "metadata": {},
   "source": [
    "## Examples"
   ]
  },
  {
   "cell_type": "code",
   "execution_count": null,
   "metadata": {
    "ExecuteTime": {
     "end_time": "2019-01-11T01:03:31.307359Z",
     "start_time": "2019-01-11T01:03:31.302532Z"
    }
   },
   "outputs": [],
   "source": [
    "toyPriorofA = {'a0': .8, 'a1': .2}\n",
    "toyPriorofB = {'b0': .25, 'b1': .25, 'b2': .25, 'b3': .25}\n",
    "toyLikelihood = {(keya, keyb): np.random.random() for keya, keyb in itertools.product(toyPriorofA.keys(), toyPriorofB.keys())}"
   ]
  },
  {
   "cell_type": "code",
   "execution_count": null,
   "metadata": {
    "ExecuteTime": {
     "end_time": "2019-01-11T01:04:28.982392Z",
     "start_time": "2019-01-11T01:04:28.979840Z"
    }
   },
   "outputs": [],
   "source": [
    "toyLikelihood2 = normalizeDictionaryValues(toyLikelihood)"
   ]
  },
  {
   "cell_type": "code",
   "execution_count": null,
   "metadata": {
    "ExecuteTime": {
     "end_time": "2019-01-11T01:04:37.326937Z",
     "start_time": "2019-01-11T01:04:37.324090Z"
    }
   },
   "outputs": [],
   "source": [
    "getPosterior(toyPriorofA, toyPriorofB, toyLikelihood2)"
   ]
  },
  {
   "cell_type": "code",
   "execution_count": null,
   "metadata": {
    "ExecuteTime": {
     "end_time": "2019-01-11T01:03:48.467610Z",
     "start_time": "2019-01-11T01:03:48.461521Z"
    },
    "scrolled": true
   },
   "outputs": [],
   "source": [
    "getPosterior(toyPriorofA, toyPriorofB, toyLikelihood)"
   ]
  },
  {
   "cell_type": "code",
   "execution_count": 9,
   "metadata": {
    "ExecuteTime": {
     "end_time": "2019-01-14T18:07:43.762660Z",
     "start_time": "2019-01-14T18:07:43.760457Z"
    }
   },
   "outputs": [],
   "source": [
    "lika = {'a0': .6, 'a1': .1}\n",
    "likb = {'b0': .7, 'b1': .2}\n",
    "jointLik = getJointPMFOfTwoEvents(lika, likb)"
   ]
  },
  {
   "cell_type": "code",
   "execution_count": 10,
   "metadata": {
    "ExecuteTime": {
     "end_time": "2019-01-14T18:07:51.254731Z",
     "start_time": "2019-01-14T18:07:51.251431Z"
    }
   },
   "outputs": [
    {
     "name": "stdout",
     "output_type": "stream",
     "text": [
      "{('a0', 'b0'): 0.42, ('a0', 'b1'): 0.12, ('a1', 'b0'): 0.06999999999999999, ('a1', 'b1'): 0.020000000000000004}\n"
     ]
    }
   ],
   "source": [
    "print(jointLik)"
   ]
  },
  {
   "cell_type": "code",
   "execution_count": 5,
   "metadata": {
    "ExecuteTime": {
     "end_time": "2019-01-14T01:06:32.554794Z",
     "start_time": "2019-01-14T01:06:32.552036Z"
    }
   },
   "outputs": [],
   "source": [
    "toypriorofA = {'a0': .5, 'a1': .5}\n",
    "toypriorofB = {'b0': .25, 'b1': .75}\n",
    "likelihood = {('a0', 'b0'): 0.1, ('a0', 'b1'): 0.1, ('a1', 'b0'): 0.7, ('a1', 'b1'): 0.1}"
   ]
  },
  {
   "cell_type": "code",
   "execution_count": 6,
   "metadata": {
    "ExecuteTime": {
     "end_time": "2019-01-14T01:06:34.912200Z",
     "start_time": "2019-01-14T01:06:34.901610Z"
    }
   },
   "outputs": [
    {
     "data": {
      "text/plain": [
       "[{'a0': 0.2857142857142857, 'a1': 0.7142857142857142},\n",
       " {'b0': 0.5714285714285714, 'b1': 0.4285714285714286}]"
      ]
     },
     "execution_count": 6,
     "metadata": {},
     "output_type": "execute_result"
    }
   ],
   "source": [
    "getPosterior(toypriorofA, toypriorofB, likelihood)"
   ]
  },
  {
   "cell_type": "code",
   "execution_count": 17,
   "metadata": {
    "ExecuteTime": {
     "end_time": "2019-01-14T01:18:50.030964Z",
     "start_time": "2019-01-14T01:18:50.027535Z"
    },
    "scrolled": true
   },
   "outputs": [
    {
     "name": "stdout",
     "output_type": "stream",
     "text": [
      "{('red', 'x'): 0.2, ('red', 'y'): 0.3, ('red', 'z'): 0.4, ('blue', 'x'): 0.08, ('blue', 'y'): 0.12, ('blue', 'z'): 0.16, ('green', 'x'): 0.24, ('green', 'y'): 0.36, ('green', 'z'): 0.48, ('purple', 'x'): 0.32, ('purple', 'y'): 0.48, ('purple', 'z'): 0.64}\n",
      "[{'red': 0.10204081632653064, 'blue': 0.163265306122449, 'green': 0.24489795918367352, 'purple': 0.4897959183673469}, {'x': 0.125, 'y': 0.375, 'z': 0.5}]\n"
     ]
    }
   ],
   "source": [
    "exampleTwoPriorofA = {'red': 1/10 , 'blue': 4/10, 'green': 2/10, 'purple': 3/10}\n",
    "exampleTwoPriorofB = {'x': 1/5, 'y': 2/5, 'z': 2/5}\n",
    "\n",
    "likA = {'red': .5 , 'blue': .2, 'green': .6, 'purple': .8}\n",
    "likB = {'x': .4, 'y': .6, 'z': .8}\n",
    "\n",
    "\n",
    "#exampleTwoLikelihood = getJointPMFOfTwoEvents(likA, likB)\n",
    "exampleTwoLikelihood = {('red', 'x'): 0.2, ('red', 'y'): 0.3, ('red', 'z'): 0.4, ('blue', 'x'): 0.08, ('blue', 'y'): 0.12, ('blue', 'z'): 0.16, ('green', 'x'): 0.24, ('green', 'y'): 0.36, ('green', 'z'): 0.48, ('purple', 'x'): 0.32, ('purple', 'y'): 0.48, ('purple', 'z'): 0.64}\n",
    "\n",
    "print(exampleTwoLikelihood)\n",
    "\n",
    "print(getPosterior(exampleTwoPriorofA, exampleTwoPriorofB, exampleTwoLikelihood))"
   ]
  },
  {
   "cell_type": "code",
   "execution_count": 33,
   "metadata": {
    "ExecuteTime": {
     "end_time": "2019-01-14T02:22:50.296962Z",
     "start_time": "2019-01-14T02:22:50.290078Z"
    }
   },
   "outputs": [],
   "source": [
    "exampleThreePriorA = {'gold': 3/6, 'silver': 1/6, 'bronze': 2/6}\n",
    "exampleThreePriorB = {'samoas': 3/20, 'tagalogs':2/20, 'mintthins': 14/20, 'lemondrops':1/20}\n",
    "\n",
    "likMedal = {'gold': .5, 'silver': .9, 'bronze': .2}\n",
    "likCookie = {'samoas': .8, 'tagalogs': .6, 'mintthins': .5 , 'lemondrops': .1}\n",
    "\n",
    "exampleThreeLikelihood = {('gold', 'samoas'): 0.4, ('gold', 'tagalogs'): 0.3, ('gold', 'mintthins'): 0.25, ('gold', 'lemondrops'): 0.05, ('silver', 'samoas'): 0.72, ('silver', 'tagalogs'): 0.54, ('silver', 'mintthins'): 0.45, ('silver', 'lemondrops'): 0.09, ('bronze', 'samoas'): 0.16, ('bronze', 'tagalogs'): 0.12, ('bronze', 'mintthins'): 0.1, ('bronze', 'lemondrops'): 0.02}"
   ]
  },
  {
   "cell_type": "code",
   "execution_count": 34,
   "metadata": {
    "ExecuteTime": {
     "end_time": "2019-01-14T02:22:58.486931Z",
     "start_time": "2019-01-14T02:22:58.481303Z"
    }
   },
   "outputs": [
    {
     "name": "stdout",
     "output_type": "stream",
     "text": [
      "{('gold', 'samoas'): 0.4, ('gold', 'tagalogs'): 0.3, ('gold', 'mintthins'): 0.25, ('gold', 'lemondrops'): 0.05, ('silver', 'samoas'): 0.7200000000000001, ('silver', 'tagalogs'): 0.54, ('silver', 'mintthins'): 0.45, ('silver', 'lemondrops'): 0.09000000000000001, ('bronze', 'samoas'): 0.16000000000000003, ('bronze', 'tagalogs'): 0.12, ('bronze', 'mintthins'): 0.1, ('bronze', 'lemondrops'): 0.020000000000000004}\n"
     ]
    }
   ],
   "source": [
    "print(exampleThreeLikelihood)"
   ]
  },
  {
   "cell_type": "code",
   "execution_count": 36,
   "metadata": {
    "ExecuteTime": {
     "end_time": "2019-01-14T03:00:28.193032Z",
     "start_time": "2019-01-14T03:00:28.187434Z"
    }
   },
   "outputs": [
    {
     "data": {
      "text/plain": [
       "[{'gold': 0.5357142857142856,\n",
       "  'silver': 0.3214285714285714,\n",
       "  'bronze': 0.14285714285714282},\n",
       " {'samoas': 0.22429906542056074,\n",
       "  'tagalogs': 0.11214953271028037,\n",
       "  'mintthins': 0.6542056074766355,\n",
       "  'lemondrops': 0.009345794392523367}]"
      ]
     },
     "execution_count": 36,
     "metadata": {},
     "output_type": "execute_result"
    }
   ],
   "source": [
    "getPosterior(exampleThreePriorA, exampleThreePriorB, exampleThreeLikelihood)"
   ]
  },
  {
   "cell_type": "code",
   "execution_count": null,
   "metadata": {},
   "outputs": [],
   "source": []
  }
 ],
 "metadata": {
  "kernelspec": {
   "display_name": "Python 3",
   "language": "python",
   "name": "python3"
  },
  "language_info": {
   "codemirror_mode": {
    "name": "ipython",
    "version": 3
   },
   "file_extension": ".py",
   "mimetype": "text/x-python",
   "name": "python",
   "nbconvert_exporter": "python",
   "pygments_lexer": "ipython3",
   "version": "3.6.6"
  },
  "toc": {
   "base_numbering": 1,
   "nav_menu": {},
   "number_sections": true,
   "sideBar": true,
   "skip_h1_title": false,
   "title_cell": "Table of Contents",
   "title_sidebar": "Contents",
   "toc_cell": false,
   "toc_position": {},
   "toc_section_display": true,
   "toc_window_display": false
  }
 },
 "nbformat": 4,
 "nbformat_minor": 2
}
