{
 "cells": [
  {
   "cell_type": "markdown",
   "metadata": {},
   "source": [
    "## Perform Bayesian inference to find a posterior, given a prior and likelihood (of joint events)"
   ]
  },
  {
   "cell_type": "code",
   "execution_count": 1,
   "metadata": {
    "ExecuteTime": {
     "end_time": "2019-11-18T20:59:25.293576Z",
     "start_time": "2019-11-18T20:59:25.254004Z"
    }
   },
   "outputs": [],
   "source": [
    "import numpy as np\n",
    "import itertools\n",
    "from setUpBayesianInference import *"
   ]
  },
  {
   "cell_type": "markdown",
   "metadata": {},
   "source": [
    "# Find Posterior given the priors and likelihood"
   ]
  },
  {
   "cell_type": "markdown",
   "metadata": {},
   "source": [
    "Uses Bayes law to find the joint posterior and then marginalizes to find marginal posteriors\n",
    "\n",
    "$$P(A, B | D) \\propto P(D|A,B)P(A, B)$$\n",
    "\n",
    "$$ P(A|D) = \\sum_B P(A,B|D) $$"
   ]
  },
  {
   "cell_type": "code",
   "execution_count": 2,
   "metadata": {
    "ExecuteTime": {
     "end_time": "2019-11-18T20:59:25.298697Z",
     "start_time": "2019-11-18T20:59:25.295267Z"
    }
   },
   "outputs": [],
   "source": [
    "def getPosterior(priorOfA, priorOfB, likelihood):\n",
    "    normalizedPriorOfA = normalizeDictionaryValues(priorOfA)\n",
    "    normalizedPriorOfB = normalizeDictionaryValues(priorOfB)\n",
    "    \n",
    "    unnormalizedJointPosterior = {(aEvent, bEvent): calculateOutcomePosterier(normalizedPriorOfA, normalizedPriorOfB, likelihood, aEvent, bEvent) \\\n",
    "                      for aEvent, bEvent in likelihood.keys()}\n",
    "    jointPosterior = normalizeDictionaryValues(unnormalizedJointPosterior)\n",
    "    \n",
    "    marginalOfA = {keyOfA : getMarginalizedOutcomeProbability(keyOfA, jointPosterior) for keyOfA in normalizedPriorOfA.keys()}\n",
    "    marginalOfB = {keyOfB : getMarginalizedOutcomeProbability(keyOfB, jointPosterior) for keyOfB in normalizedPriorOfB.keys()}\n",
    "    \n",
    "    return([marginalOfA, marginalOfB])"
   ]
  },
  {
   "cell_type": "markdown",
   "metadata": {},
   "source": [
    "## Helper Functions"
   ]
  },
  {
   "cell_type": "code",
   "execution_count": 3,
   "metadata": {
    "ExecuteTime": {
     "end_time": "2019-11-18T20:59:25.304276Z",
     "start_time": "2019-11-18T20:59:25.299876Z"
    }
   },
   "outputs": [],
   "source": [
    "def getMarginalizedOutcomeProbability(outcome, jointPMF):\n",
    "    probabilityOfOutcome = sum([jointPMF[(keyOne, keyTwo)] if (keyOne==outcome )or (keyTwo==outcome)  else 0 for (keyOne, keyTwo) in jointPMF.keys()])\n",
    "    return(probabilityOfOutcome)\n",
    "\n",
    "def calculateOutcomePosterier(priorOfA, priorOfB, likelihood, aEvent, bEvent):\n",
    "    posterior = priorOfA[aEvent]*priorOfB[bEvent]*likelihood[(aEvent, bEvent)]\n",
    "    return(posterior)"
   ]
  },
  {
   "cell_type": "markdown",
   "metadata": {},
   "source": [
    "## Examples"
   ]
  },
  {
   "cell_type": "markdown",
   "metadata": {
    "ExecuteTime": {
     "end_time": "2019-02-21T19:10:35.283206Z",
     "start_time": "2019-02-21T19:10:35.278271Z"
    }
   },
   "source": [
    "### Setup the Inference\n",
    "\n",
    "(using our data generating process)"
   ]
  },
  {
   "cell_type": "code",
   "execution_count": 4,
   "metadata": {
    "ExecuteTime": {
     "end_time": "2019-11-18T20:59:25.308263Z",
     "start_time": "2019-11-18T20:59:25.305556Z"
    },
    "scrolled": false
   },
   "outputs": [
    {
     "name": "stdout",
     "output_type": "stream",
     "text": [
      "Prior of A:  {'a0': 0.1901883045926098, 'a1': 0.8098116954073902} \n",
      "\n",
      "Prior of B:  {'b0': 0.3754696289252865, 'b1': 0.21730244836408819, 'b2': 0.3722099802058252, 'b3': 0.03501794250480023} \n",
      "\n",
      "Likelihood:  {('a0', 'b0'): 0.2703934662172901, ('a0', 'b1'): 0.23034740251572647, ('a0', 'b2'): 0.058585663805993414, ('a0', 'b3'): 0.22357205654580428, ('a1', 'b0'): 0.2611046640834065, ('a1', 'b1'): 0.2224342991632098, ('a1', 'b2'): 0.05657307582970412, ('a1', 'b3'): 0.21589170603670374} \n",
      "\n"
     ]
    }
   ],
   "source": [
    "priorA, priorB, likelihood = setUpBayesianInference(eventAMeanSampleSpaceSize=5, \n",
    "                                                    eventBMeanSampleSpaceSize=5, \n",
    "                                                    randomSeed = 2)\n",
    "print(\"Prior of A: \", priorA, \"\\n\")\n",
    "print(\"Prior of B: \",priorB, \"\\n\")\n",
    "print(\"Likelihood: \", likelihood, \"\\n\")"
   ]
  },
  {
   "cell_type": "code",
   "execution_count": 5,
   "metadata": {
    "ExecuteTime": {
     "end_time": "2019-11-18T20:59:25.316015Z",
     "start_time": "2019-11-18T20:59:25.309398Z"
    },
    "scrolled": true
   },
   "outputs": [
    {
     "data": {
      "text/plain": [
       "[{'a0': 0.19563062885653146, 'a1': 0.8043693711434686},\n",
       " {'b0': 0.560244192974484,\n",
       "  'b1': 0.2762194753670806,\n",
       "  'b2': 0.12033327206270723,\n",
       "  'b3': 0.043203059595728226}]"
      ]
     },
     "execution_count": 5,
     "metadata": {},
     "output_type": "execute_result"
    }
   ],
   "source": [
    "getPosterior(priorA, priorB, likelihood)"
   ]
  },
  {
   "cell_type": "markdown",
   "metadata": {},
   "source": [
    "### Example 1"
   ]
  },
  {
   "cell_type": "code",
   "execution_count": 6,
   "metadata": {
    "ExecuteTime": {
     "end_time": "2019-11-18T20:59:25.320657Z",
     "start_time": "2019-11-18T20:59:25.317159Z"
    }
   },
   "outputs": [],
   "source": [
    "lika = {'a0': .6, 'a1': .1}\n",
    "likb = {'b0': .7, 'b1': .2}\n",
    "jointLik = getJointLikelihood(lika, likb)\n",
    "pa = {'a0': .5, 'a1': .5}\n",
    "pb = {'b0': .25, 'b1': .75}"
   ]
  },
  {
   "cell_type": "code",
   "execution_count": 7,
   "metadata": {
    "ExecuteTime": {
     "end_time": "2019-11-18T20:59:25.324352Z",
     "start_time": "2019-11-18T20:59:25.321790Z"
    }
   },
   "outputs": [
    {
     "name": "stdout",
     "output_type": "stream",
     "text": [
      "{('a0', 'b0'): 0.42, ('a0', 'b1'): 0.12, ('a1', 'b0'): 0.06999999999999999, ('a1', 'b1'): 0.020000000000000004}\n"
     ]
    }
   ],
   "source": [
    "print(jointLik)"
   ]
  },
  {
   "cell_type": "code",
   "execution_count": 8,
   "metadata": {
    "ExecuteTime": {
     "end_time": "2019-11-18T20:59:25.328402Z",
     "start_time": "2019-11-18T20:59:25.325635Z"
    }
   },
   "outputs": [
    {
     "data": {
      "text/plain": [
       "[{'a0': 0.8571428571428571, 'a1': 0.14285714285714285},\n",
       " {'b0': 0.5384615384615384, 'b1': 0.46153846153846156}]"
      ]
     },
     "execution_count": 8,
     "metadata": {},
     "output_type": "execute_result"
    }
   ],
   "source": [
    "getPosterior(pa, pb, jointLik)"
   ]
  },
  {
   "cell_type": "markdown",
   "metadata": {},
   "source": [
    "### Example 2"
   ]
  },
  {
   "cell_type": "code",
   "execution_count": 9,
   "metadata": {
    "ExecuteTime": {
     "end_time": "2019-11-18T20:59:25.333463Z",
     "start_time": "2019-11-18T20:59:25.329501Z"
    },
    "scrolled": true
   },
   "outputs": [
    {
     "name": "stdout",
     "output_type": "stream",
     "text": [
      "{('red', 'x'): 0.2, ('red', 'y'): 0.3, ('red', 'z'): 0.4, ('blue', 'x'): 0.08, ('blue', 'y'): 0.12, ('blue', 'z'): 0.16, ('green', 'x'): 0.24, ('green', 'y'): 0.36, ('green', 'z'): 0.48, ('purple', 'x'): 0.32, ('purple', 'y'): 0.48, ('purple', 'z'): 0.64}\n"
     ]
    }
   ],
   "source": [
    "exampleTwoPriorofA = {'red': 1/10 , 'blue': 4/10, 'green': 2/10, 'purple': 3/10}\n",
    "exampleTwoPriorofB = {'x': 1/5, 'y': 2/5, 'z': 2/5}\n",
    "\n",
    "likA = {'red': .5 , 'blue': .2, 'green': .6, 'purple': .8}\n",
    "likB = {'x': .4, 'y': .6, 'z': .8}\n",
    "\n",
    "\n",
    "#exampleTwoLikelihood = getJointLikelihood(likA, likB)\n",
    "exampleTwoLikelihood = {('red', 'x'): 0.2, ('red', 'y'): 0.3, ('red', 'z'): 0.4, ('blue', 'x'): 0.08, ('blue', 'y'): 0.12, ('blue', 'z'): 0.16, ('green', 'x'): 0.24, ('green', 'y'): 0.36, ('green', 'z'): 0.48, ('purple', 'x'): 0.32, ('purple', 'y'): 0.48, ('purple', 'z'): 0.64}\n",
    "\n",
    "print(exampleTwoLikelihood)"
   ]
  },
  {
   "cell_type": "code",
   "execution_count": 10,
   "metadata": {
    "ExecuteTime": {
     "end_time": "2019-11-18T20:59:25.337390Z",
     "start_time": "2019-11-18T20:59:25.334850Z"
    }
   },
   "outputs": [
    {
     "name": "stdout",
     "output_type": "stream",
     "text": [
      "[{'red': 0.10204081632653064, 'blue': 0.163265306122449, 'green': 0.24489795918367352, 'purple': 0.4897959183673469}, {'x': 0.125, 'y': 0.375, 'z': 0.5}]\n"
     ]
    }
   ],
   "source": [
    "print(getPosterior(exampleTwoPriorofA, exampleTwoPriorofB, exampleTwoLikelihood))"
   ]
  },
  {
   "cell_type": "markdown",
   "metadata": {},
   "source": [
    "### Testing Example"
   ]
  },
  {
   "cell_type": "code",
   "execution_count": 11,
   "metadata": {
    "ExecuteTime": {
     "end_time": "2019-11-18T20:59:25.341860Z",
     "start_time": "2019-11-18T20:59:25.338716Z"
    }
   },
   "outputs": [],
   "source": [
    "exampleThreePriorA = {'gold': 3/6, 'silver': 1/6, 'bronze': 2/6}\n",
    "exampleThreePriorB = {'samoas': 3/20, 'tagalogs':2/20, 'mintthins': 14/20, 'lemondrops':1/20}\n",
    "\n",
    "likMedal = {'gold': .5, 'silver': .9, 'bronze': .2}\n",
    "likCookie = {'samoas': .8, 'tagalogs': .6, 'mintthins': .5 , 'lemondrops': .1}\n",
    "\n",
    "exampleThreeLikelihood = {('gold', 'samoas'): 0.4, ('gold', 'tagalogs'): 0.3, ('gold', 'mintthins'): 0.25, ('gold', 'lemondrops'): 0.05, ('silver', 'samoas'): 0.72, ('silver', 'tagalogs'): 0.54, ('silver', 'mintthins'): 0.45, ('silver', 'lemondrops'): 0.09, ('bronze', 'samoas'): 0.16, ('bronze', 'tagalogs'): 0.12, ('bronze', 'mintthins'): 0.1, ('bronze', 'lemondrops'): 0.02}"
   ]
  },
  {
   "cell_type": "code",
   "execution_count": 12,
   "metadata": {
    "ExecuteTime": {
     "end_time": "2019-11-18T20:59:25.347330Z",
     "start_time": "2019-11-18T20:59:25.343247Z"
    }
   },
   "outputs": [
    {
     "name": "stdout",
     "output_type": "stream",
     "text": [
      "{('gold', 'samoas'): 0.4, ('gold', 'tagalogs'): 0.3, ('gold', 'mintthins'): 0.25, ('gold', 'lemondrops'): 0.05, ('silver', 'samoas'): 0.72, ('silver', 'tagalogs'): 0.54, ('silver', 'mintthins'): 0.45, ('silver', 'lemondrops'): 0.09, ('bronze', 'samoas'): 0.16, ('bronze', 'tagalogs'): 0.12, ('bronze', 'mintthins'): 0.1, ('bronze', 'lemondrops'): 0.02}\n"
     ]
    }
   ],
   "source": [
    "print(exampleThreeLikelihood)"
   ]
  },
  {
   "cell_type": "code",
   "execution_count": 13,
   "metadata": {
    "ExecuteTime": {
     "end_time": "2019-11-18T20:59:25.351955Z",
     "start_time": "2019-11-18T20:59:25.348548Z"
    }
   },
   "outputs": [
    {
     "data": {
      "text/plain": [
       "[{'gold': 0.5357142857142856,\n",
       "  'silver': 0.3214285714285714,\n",
       "  'bronze': 0.14285714285714282},\n",
       " {'samoas': 0.22429906542056072,\n",
       "  'tagalogs': 0.11214953271028037,\n",
       "  'mintthins': 0.6542056074766355,\n",
       "  'lemondrops': 0.009345794392523366}]"
      ]
     },
     "execution_count": 13,
     "metadata": {},
     "output_type": "execute_result"
    }
   ],
   "source": [
    "getPosterior(exampleThreePriorA, exampleThreePriorB, exampleThreeLikelihood)"
   ]
  }
 ],
 "metadata": {
  "kernelspec": {
   "display_name": "Python 3",
   "language": "python",
   "name": "python3"
  },
  "language_info": {
   "codemirror_mode": {
    "name": "ipython",
    "version": 3
   },
   "file_extension": ".py",
   "mimetype": "text/x-python",
   "name": "python",
   "nbconvert_exporter": "python",
   "pygments_lexer": "ipython3",
   "version": "3.6.8"
  },
  "toc": {
   "base_numbering": 1,
   "nav_menu": {},
   "number_sections": true,
   "sideBar": true,
   "skip_h1_title": false,
   "title_cell": "Table of Contents",
   "title_sidebar": "Contents",
   "toc_cell": false,
   "toc_position": {},
   "toc_section_display": true,
   "toc_window_display": false
  }
 },
 "nbformat": 4,
 "nbformat_minor": 2
}
