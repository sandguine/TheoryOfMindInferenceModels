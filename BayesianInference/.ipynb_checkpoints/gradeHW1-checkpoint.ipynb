{
 "cells": [
  {
   "cell_type": "code",
   "execution_count": 1,
   "metadata": {
    "ExecuteTime": {
     "end_time": "2019-01-22T21:11:34.578620Z",
     "start_time": "2019-01-22T21:11:34.572987Z"
    }
   },
   "outputs": [],
   "source": [
    "import importlib\n",
    "import os"
   ]
  },
  {
   "cell_type": "code",
   "execution_count": 2,
   "metadata": {
    "ExecuteTime": {
     "end_time": "2019-01-22T21:11:35.297806Z",
     "start_time": "2019-01-22T21:11:35.287544Z"
    }
   },
   "outputs": [
    {
     "name": "stdout",
     "output_type": "stream",
     "text": [
      "['.']\n",
      "['.', 'HW1_Submissions']\n",
      "['.', 'HW1_Submissions', 'CHEN, PEI-HUNG_21839752_assignsubmission_file_']\n",
      "['.', 'HW1_Submissions', 'PHAM, CALVIN_21839726_assignsubmission_file_']\n",
      "['.', 'HW1_Submissions', 'ZHAO, KE_21839761_assignsubmission_file_']\n",
      "['.', 'HW1_Submissions', 'YANG, GUANQUN_21839734_assignsubmission_file_']\n",
      "['.', 'HW1_Submissions', 'LEACH, WILLIAM KENTAROU KANEKO_21839733_assignsubmission_file_']\n",
      "['.', 'HW1_Submissions', 'BAI, ZEYU_21839720_assignsubmission_file_']\n",
      "['.', 'HW1_Submissions', 'LI, SHUANGYU_21839772_assignsubmission_file_']\n",
      "['.', 'HW1_Submissions', 'LIU, CUNYANG_21839728_assignsubmission_file_']\n",
      "['.', 'HW1_Submissions', 'GOYAL, SHUCHI_21839747_assignsubmission_file_']\n",
      "['.', 'HW1_Submissions', 'LIANG, KEN-FU_21839750_assignsubmission_file_']\n",
      "['.', 'HW1_Submissions', 'JIANG, ZIYI_21839737_assignsubmission_file_']\n",
      "['.', 'HW1_Submissions', 'ZHANG, JIANWEI_21839754_assignsubmission_file_']\n",
      "['.', 'HW1_Submissions', 'TRAN, RICHARD_21839770_assignsubmission_file_']\n",
      "['.', 'HW1_Submissions', 'SHAHI, PRACHI_21839753_assignsubmission_file_']\n",
      "['.', 'HW1_Submissions', 'MANGALORE, PRATIK_21839731_assignsubmission_file_']\n",
      "['.', 'HW1_Submissions', 'ZHANG, YUNCHU_21839735_assignsubmission_file_']\n",
      "['.', 'HW1_Submissions', 'XIONG, WENLONG_21839725_assignsubmission_file_']\n",
      "['.', 'HW1_Submissions', 'LI, QING_21851928_assignsubmission_file_']\n",
      "['.', 'HW1_Submissions', 'FAN, LIFENG_21839729_assignsubmission_file_']\n",
      "['.', 'HW1_Submissions', 'ICHIEN, NICHOLAS_21839768_assignsubmission_file_']\n",
      "['.', 'HW1_Submissions', 'BA, YUNHAO_21839766_assignsubmission_file_']\n",
      "['.', 'HW1_Submissions', 'MALAVALLI, RAHUL_21839727_assignsubmission_file_']\n",
      "['.', 'HW1_Submissions', 'QIU, YUXING_21839723_assignsubmission_file_']\n",
      "['.', 'HW1_Submissions', 'ONYAMBU, ONYANCHA_21839724_assignsubmission_file_']\n",
      "['.', 'HW1_Submissions', 'HSU, WEN-DYAN_21839760_assignsubmission_file_']\n",
      "['.', 'HW1_Submissions', 'VERMA, AVIJIT_21839755_assignsubmission_file_']\n",
      "['.', 'HW1_Submissions', 'GAO, XIAOFENG_21839771_assignsubmission_file_']\n",
      "['.', '.ipynb_checkpoints']\n",
      "['.', '__pycache__']\n"
     ]
    }
   ],
   "source": [
    "filedir = '.'\n",
    "for root, _, files in os.walk(filedir):\n",
    "    print(root.rsplit('/'))\n",
    "    #print(files)"
   ]
  },
  {
   "cell_type": "code",
   "execution_count": 3,
   "metadata": {
    "ExecuteTime": {
     "end_time": "2019-01-22T21:11:45.819274Z",
     "start_time": "2019-01-22T21:11:45.814705Z"
    }
   },
   "outputs": [],
   "source": [
    "filedir = '.'\n",
    "submissionFolderPaths = [root.rsplit('/')[1:] for root, _, _ in os.walk(filedir)][1:]\n"
   ]
  },
  {
   "cell_type": "code",
   "execution_count": 4,
   "metadata": {
    "ExecuteTime": {
     "end_time": "2019-01-22T21:11:49.030766Z",
     "start_time": "2019-01-22T21:11:48.995283Z"
    }
   },
   "outputs": [
    {
     "data": {
      "text/plain": [
       "[['HW1_Submissions'],\n",
       " ['HW1_Submissions', 'CHEN, PEI-HUNG_21839752_assignsubmission_file_'],\n",
       " ['HW1_Submissions', 'PHAM, CALVIN_21839726_assignsubmission_file_'],\n",
       " ['HW1_Submissions', 'ZHAO, KE_21839761_assignsubmission_file_'],\n",
       " ['HW1_Submissions', 'YANG, GUANQUN_21839734_assignsubmission_file_'],\n",
       " ['HW1_Submissions',\n",
       "  'LEACH, WILLIAM KENTAROU KANEKO_21839733_assignsubmission_file_'],\n",
       " ['HW1_Submissions', 'BAI, ZEYU_21839720_assignsubmission_file_'],\n",
       " ['HW1_Submissions', 'LI, SHUANGYU_21839772_assignsubmission_file_'],\n",
       " ['HW1_Submissions', 'LIU, CUNYANG_21839728_assignsubmission_file_'],\n",
       " ['HW1_Submissions', 'GOYAL, SHUCHI_21839747_assignsubmission_file_'],\n",
       " ['HW1_Submissions', 'LIANG, KEN-FU_21839750_assignsubmission_file_'],\n",
       " ['HW1_Submissions', 'JIANG, ZIYI_21839737_assignsubmission_file_'],\n",
       " ['HW1_Submissions', 'ZHANG, JIANWEI_21839754_assignsubmission_file_'],\n",
       " ['HW1_Submissions', 'TRAN, RICHARD_21839770_assignsubmission_file_'],\n",
       " ['HW1_Submissions', 'SHAHI, PRACHI_21839753_assignsubmission_file_'],\n",
       " ['HW1_Submissions', 'MANGALORE, PRATIK_21839731_assignsubmission_file_'],\n",
       " ['HW1_Submissions', 'ZHANG, YUNCHU_21839735_assignsubmission_file_'],\n",
       " ['HW1_Submissions', 'XIONG, WENLONG_21839725_assignsubmission_file_'],\n",
       " ['HW1_Submissions', 'LI, QING_21851928_assignsubmission_file_'],\n",
       " ['HW1_Submissions', 'FAN, LIFENG_21839729_assignsubmission_file_'],\n",
       " ['HW1_Submissions', 'ICHIEN, NICHOLAS_21839768_assignsubmission_file_'],\n",
       " ['HW1_Submissions', 'BA, YUNHAO_21839766_assignsubmission_file_'],\n",
       " ['HW1_Submissions', 'MALAVALLI, RAHUL_21839727_assignsubmission_file_'],\n",
       " ['HW1_Submissions', 'QIU, YUXING_21839723_assignsubmission_file_'],\n",
       " ['HW1_Submissions', 'ONYAMBU, ONYANCHA_21839724_assignsubmission_file_'],\n",
       " ['HW1_Submissions', 'HSU, WEN-DYAN_21839760_assignsubmission_file_'],\n",
       " ['HW1_Submissions', 'VERMA, AVIJIT_21839755_assignsubmission_file_'],\n",
       " ['HW1_Submissions', 'GAO, XIAOFENG_21839771_assignsubmission_file_'],\n",
       " ['.ipynb_checkpoints'],\n",
       " ['__pycache__']]"
      ]
     },
     "execution_count": 4,
     "metadata": {},
     "output_type": "execute_result"
    }
   ],
   "source": [
    "submissionFolderPaths"
   ]
  },
  {
   "cell_type": "code",
   "execution_count": 5,
   "metadata": {
    "ExecuteTime": {
     "end_time": "2019-01-22T21:12:00.686924Z",
     "start_time": "2019-01-22T21:12:00.681730Z"
    }
   },
   "outputs": [],
   "source": [
    "validPackageNames = ['.'.join(folder) for folder in submissionFolderPaths if folder[0][0].isalpha()]"
   ]
  },
  {
   "cell_type": "code",
   "execution_count": 6,
   "metadata": {
    "ExecuteTime": {
     "end_time": "2019-01-22T21:12:01.372362Z",
     "start_time": "2019-01-22T21:12:01.360299Z"
    }
   },
   "outputs": [
    {
     "data": {
      "text/plain": [
       "['HW1_Submissions',\n",
       " 'HW1_Submissions.CHEN, PEI-HUNG_21839752_assignsubmission_file_',\n",
       " 'HW1_Submissions.PHAM, CALVIN_21839726_assignsubmission_file_',\n",
       " 'HW1_Submissions.ZHAO, KE_21839761_assignsubmission_file_',\n",
       " 'HW1_Submissions.YANG, GUANQUN_21839734_assignsubmission_file_',\n",
       " 'HW1_Submissions.LEACH, WILLIAM KENTAROU KANEKO_21839733_assignsubmission_file_',\n",
       " 'HW1_Submissions.BAI, ZEYU_21839720_assignsubmission_file_',\n",
       " 'HW1_Submissions.LI, SHUANGYU_21839772_assignsubmission_file_',\n",
       " 'HW1_Submissions.LIU, CUNYANG_21839728_assignsubmission_file_',\n",
       " 'HW1_Submissions.GOYAL, SHUCHI_21839747_assignsubmission_file_',\n",
       " 'HW1_Submissions.LIANG, KEN-FU_21839750_assignsubmission_file_',\n",
       " 'HW1_Submissions.JIANG, ZIYI_21839737_assignsubmission_file_',\n",
       " 'HW1_Submissions.ZHANG, JIANWEI_21839754_assignsubmission_file_',\n",
       " 'HW1_Submissions.TRAN, RICHARD_21839770_assignsubmission_file_',\n",
       " 'HW1_Submissions.SHAHI, PRACHI_21839753_assignsubmission_file_',\n",
       " 'HW1_Submissions.MANGALORE, PRATIK_21839731_assignsubmission_file_',\n",
       " 'HW1_Submissions.ZHANG, YUNCHU_21839735_assignsubmission_file_',\n",
       " 'HW1_Submissions.XIONG, WENLONG_21839725_assignsubmission_file_',\n",
       " 'HW1_Submissions.LI, QING_21851928_assignsubmission_file_',\n",
       " 'HW1_Submissions.FAN, LIFENG_21839729_assignsubmission_file_',\n",
       " 'HW1_Submissions.ICHIEN, NICHOLAS_21839768_assignsubmission_file_',\n",
       " 'HW1_Submissions.BA, YUNHAO_21839766_assignsubmission_file_',\n",
       " 'HW1_Submissions.MALAVALLI, RAHUL_21839727_assignsubmission_file_',\n",
       " 'HW1_Submissions.QIU, YUXING_21839723_assignsubmission_file_',\n",
       " 'HW1_Submissions.ONYAMBU, ONYANCHA_21839724_assignsubmission_file_',\n",
       " 'HW1_Submissions.HSU, WEN-DYAN_21839760_assignsubmission_file_',\n",
       " 'HW1_Submissions.VERMA, AVIJIT_21839755_assignsubmission_file_',\n",
       " 'HW1_Submissions.GAO, XIAOFENG_21839771_assignsubmission_file_']"
      ]
     },
     "execution_count": 6,
     "metadata": {},
     "output_type": "execute_result"
    }
   ],
   "source": [
    "validPackageNames"
   ]
  },
  {
   "cell_type": "code",
   "execution_count": null,
   "metadata": {
    "ExecuteTime": {
     "end_time": "2019-01-14T22:10:11.719135Z",
     "start_time": "2019-01-14T22:10:11.682041Z"
    }
   },
   "outputs": [],
   "source": [
    "for package in validPackageNames:\n",
    "    module = importlib.import_module('BayesianInference.py', package)\n",
    "    print(module.getPosterior({'a0': .5, 'a1': .5}, {'b0': .25, 'b1': .75}, {('a0', 'b0'): 0.42, ('a0', 'b1'): 0.12, ('a1', 'b0'): 0.07, ('a1', 'b1'): 0.02}))"
   ]
  },
  {
   "cell_type": "code",
   "execution_count": null,
   "metadata": {},
   "outputs": [],
   "source": [
    "files = ['submission1', 'BayesianInference.py', 'BayesianInference.py']\n",
    "\n",
    "for file in files:\n",
    "    module = importlib.import_module(file)\n",
    "    print module\n",
    "    print module.powerFunction(2,3)"
   ]
  },
  {
   "cell_type": "code",
   "execution_count": null,
   "metadata": {
    "ExecuteTime": {
     "end_time": "2019-01-14T22:16:31.355591Z",
     "start_time": "2019-01-14T22:16:31.345529Z"
    }
   },
   "outputs": [],
   "source": [
    "os.path.dirname(os.path.realpath('.'))"
   ]
  },
  {
   "cell_type": "code",
   "execution_count": null,
   "metadata": {
    "ExecuteTime": {
     "end_time": "2019-01-14T22:29:05.866469Z",
     "start_time": "2019-01-14T22:29:05.827975Z"
    }
   },
   "outputs": [],
   "source": [
    "module = importlib.import_module('BayesianInference', 'Person2')"
   ]
  },
  {
   "cell_type": "code",
   "execution_count": null,
   "metadata": {
    "ExecuteTime": {
     "end_time": "2019-01-14T22:11:14.902016Z",
     "start_time": "2019-01-14T22:11:14.869579Z"
    },
    "scrolled": true
   },
   "outputs": [],
   "source": [
    "\n",
    "print(module)\n",
    "print(module.getPosterior({'a0': .5, 'a1': .5}, {'b0': .25, 'b1': .75}, {('a0', 'b0'): 0.42, ('a0', 'b1'): 0.12, ('a1', 'b0'): 0.07, ('a1', 'b1'): 0.02}))"
   ]
  }
 ],
 "metadata": {
  "kernelspec": {
   "display_name": "Python 3",
   "language": "python",
   "name": "python3"
  },
  "language_info": {
   "codemirror_mode": {
    "name": "ipython",
    "version": 3
   },
   "file_extension": ".py",
   "mimetype": "text/x-python",
   "name": "python",
   "nbconvert_exporter": "python",
   "pygments_lexer": "ipython3",
   "version": "3.6.6"
  },
  "toc": {
   "base_numbering": 1,
   "nav_menu": {},
   "number_sections": true,
   "sideBar": true,
   "skip_h1_title": false,
   "title_cell": "Table of Contents",
   "title_sidebar": "Contents",
   "toc_cell": false,
   "toc_position": {},
   "toc_section_display": true,
   "toc_window_display": false
  }
 },
 "nbformat": 4,
 "nbformat_minor": 2
}
