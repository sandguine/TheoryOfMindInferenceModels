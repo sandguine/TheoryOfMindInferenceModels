{
 "cells": [
  {
   "cell_type": "code",
   "execution_count": 1,
   "metadata": {
    "ExecuteTime": {
     "end_time": "2019-01-24T20:26:33.997585Z",
     "start_time": "2019-01-24T20:26:33.893183Z"
    }
   },
   "outputs": [],
   "source": [
    "import numpy as np\n",
    "import itertools"
   ]
  },
  {
   "cell_type": "markdown",
   "metadata": {},
   "source": [
    "## Helper to View Nested Dictionaries"
   ]
  },
  {
   "cell_type": "code",
   "execution_count": null,
   "metadata": {
    "ExecuteTime": {
     "end_time": "2019-01-18T20:58:50.854907Z",
     "start_time": "2019-01-18T20:58:50.844297Z"
    }
   },
   "outputs": [],
   "source": [
    "levelsReward  = [\"state\", \"action\", \"next state\", \"reward\"]\n",
    "levelsTransition  = [\"state\", \"action\", \"next state\", \"probability\"]\n",
    "\n",
    "def viewDictionaryStructure(d, levels, indent=0):\n",
    "    for key, value in d.items():\n",
    "        print('\\t' * indent + str(levels[indent]) + \": \"+ str(key))\n",
    "        if isinstance(value, dict):\n",
    "            viewDictionaryStructure(value, levels, indent+1)\n",
    "        else:\n",
    "            print('\\t' * (indent+1) + str(levels[indent+1])+ \": \" + str(value))"
   ]
  },
  {
   "cell_type": "markdown",
   "metadata": {},
   "source": [
    "# Setup transition"
   ]
  },
  {
   "cell_type": "code",
   "execution_count": 1,
   "metadata": {
    "ExecuteTime": {
     "end_time": "2019-01-18T22:37:13.626550Z",
     "start_time": "2019-01-18T22:37:13.621427Z"
    }
   },
   "outputs": [],
   "source": [
    "class SetupTransition(object):\n",
    "    def __init__(self, gridWidth, gridHeight, actionSet):\n",
    "        self.gridWidth = gridWidth\n",
    "        self.gridHeight = gridHeight\n",
    "        self.stateSet = list(itertools.product(range(self.gridWidth), range(self.gridHeight)))\n",
    "        self.actionSet = actionSet\n",
    "\n",
    "\n",
    "    def __call__(self):\n",
    "        transitionTable = {state: self.getStateTransition(state) for state in self.stateSet}\n",
    "        return(transitionTable) \n",
    "\n",
    "    def getStateTransition(self, state):\n",
    "        actionTransitionDistribution = {action: self.getStateActionTransition(state, action) for action in self.actionSet}\n",
    "        return(actionTransitionDistribution)\n",
    "    \n",
    "    def getStateActionTransition(self, currentState, action):\n",
    "        nextState = self.getNextState(currentState, action)\n",
    "        \n",
    "        #determinisitic transition\n",
    "        #transitionDistribution = {nextState: 1}\n",
    "            \n",
    "        \n",
    "        #probabilistic:\n",
    "    \n",
    "        validNextStates = list(set([self.getNextState(currentState, a) for a in self.actionSet]))\n",
    "        rangeValidNextStates = len(validNextStates)\n",
    "        slipStates = np.random.choice(rangeValidNextStates, 3)\n",
    "        transitionDistribution = {nextState:.7}\n",
    "\n",
    "        for slipIndex in slipStates:\n",
    "            if validNextStates[slipIndex] not in transitionDistribution:\n",
    "                transitionDistribution[validNextStates[slipIndex]] = .1\n",
    "            else:\n",
    "                transitionDistribution[validNextStates[slipIndex]] += .1\n",
    "    \n",
    "        return(transitionDistribution)\n",
    "\n",
    "    \n",
    "    def getNextState(self, state, action):\n",
    "        potentialNextState = tuple([state[i] + action[i] for i in range(len(state))])\n",
    "        if potentialNextState in self.stateSet:\n",
    "            return(potentialNextState)\n",
    "        return(state) "
   ]
  },
  {
   "cell_type": "markdown",
   "metadata": {},
   "source": [
    "# Setup Reward"
   ]
  },
  {
   "cell_type": "code",
   "execution_count": 2,
   "metadata": {
    "ExecuteTime": {
     "end_time": "2019-01-18T22:37:15.563181Z",
     "start_time": "2019-01-18T22:37:15.559451Z"
    }
   },
   "outputs": [],
   "source": [
    "class SetupRewardTable(object):\n",
    "    def __init__(self,transitionTable, actionSet, goalState, trapState):\n",
    "        self.transitionTable = transitionTable\n",
    "        self.stateSet = list(transitionTable.keys())\n",
    "        self.actionSet = actionSet\n",
    "        self.goalState = goalState\n",
    "        self.trapState = trapState\n",
    "        \n",
    "    def __call__(self):\n",
    "        rewardTable = {state:{action:{nextState: self.applyRewardFunction(state, action, nextState) for nextState in nextStateDict.keys() }for action, nextStateDict in actionDict.items()} for state, actionDict in self.transitionTable.items()}\n",
    "        return(rewardTable)\n",
    "\n",
    "    def applyRewardFunction(self, state, action, nextState):\n",
    "        goalReward = 10\n",
    "        trapCost = -100\n",
    "        moveCost = -1\n",
    "        \n",
    "        if state == self.goalState and nextState != self.goalState:\n",
    "            return(goalReward)\n",
    "        elif state == self.trapState:\n",
    "            return(trapCost)\n",
    "        return(moveCost)"
   ]
  },
  {
   "cell_type": "markdown",
   "metadata": {},
   "source": [
    "# Perform Value Iteration"
   ]
  },
  {
   "cell_type": "code",
   "execution_count": 13,
   "metadata": {
    "ExecuteTime": {
     "end_time": "2019-01-18T22:40:34.503679Z",
     "start_time": "2019-01-18T22:40:34.495598Z"
    }
   },
   "outputs": [],
   "source": [
    "class ValueIteration(object):\n",
    "    def __init__(self, transitionTable, rewardTable, valueTable, convergenceTolerance, discountingFactor = 1):\n",
    "        self.transitionTable = transitionTable\n",
    "        self.rewardTable  = rewardTable\n",
    "        self.valueTable = valueTable\n",
    "        self.convergenceTolerance = convergenceTolerance\n",
    "        self.gamma = discountingFactor\n",
    "\n",
    "    def __call__(self):\n",
    "        \n",
    "        theta = self.convergenceTolerance*100\n",
    "        while(theta > self.convergenceTolerance):\n",
    "            theta = 0\n",
    "            for state, actionDict in self.transitionTable.items():\n",
    "                valueOfStateAtTimeT = self.valueTable[state]\n",
    "                qforAllActions = [self.getQValue(state, action) for action in actionDict.keys()]\n",
    "                self.valueTable[state] = max(qforAllActions) \n",
    "                theta = max(theta, abs(valueOfStateAtTimeT-self.valueTable[state]))\n",
    "        policyTable = {state:self.getStatePolicy(state) for state in self.transitionTable.keys()}\n",
    "\n",
    "        return([self.valueTable, policyTable])\n",
    "    \n",
    "    def getStatePolicy(self, state):\n",
    "        maxQValue = max([round(self.getQValue(state, action),5) for action in self.transitionTable[state].keys()])\n",
    "        optimalActionSet = [action for action in self.transitionTable[state].keys() \\\n",
    "                            if round(self.getQValue(state, action),5) == maxQValue]\n",
    "        statePolicy = {action: 1/(len(optimalActionSet)) for action in optimalActionSet}\n",
    "        return(statePolicy)\n",
    "        \n",
    "    def getQValue(self, state, action):\n",
    "        nextStatesQ = [prob*(self.rewardTable[state][action][nextState] \\\n",
    "                             + self.gamma*self.valueTable[nextState]) \\\n",
    "                      for nextState, prob in self.transitionTable[state][action].items()]\n",
    "        qValue = sum(nextStatesQ)\n",
    "        return(qValue)"
   ]
  },
  {
   "cell_type": "markdown",
   "metadata": {},
   "source": [
    "# Visualize Value Table"
   ]
  },
  {
   "cell_type": "code",
   "execution_count": 9,
   "metadata": {
    "ExecuteTime": {
     "end_time": "2019-01-18T22:39:14.655150Z",
     "start_time": "2019-01-18T22:39:14.548028Z"
    },
    "scrolled": true
   },
   "outputs": [],
   "source": [
    "import numpy as np\n",
    "import matplotlib.pyplot as plt\n",
    "from matplotlib.patches import Rectangle"
   ]
  },
  {
   "cell_type": "code",
   "execution_count": 10,
   "metadata": {
    "ExecuteTime": {
     "end_time": "2019-01-18T22:39:15.371987Z",
     "start_time": "2019-01-18T22:39:15.367732Z"
    }
   },
   "outputs": [],
   "source": [
    "def visualizeValueTable(gridWidth, gridHeight, goalState, trapState, valueTable):\n",
    "    #grid height/width\n",
    "    xs = np.linspace(-.5, gridWidth-.5, gridWidth+1)\n",
    "    ys = np.linspace(-.50, gridHeight-.5, gridHeight+1)\n",
    "\n",
    "    ax = plt.gca()\n",
    "\n",
    "    #goal and trap coloring\n",
    "    goal = (goalState[0]-.5, goalState[1]-.5)\n",
    "    trap = (trapState[0]-.5, trapState[1]-.5)\n",
    "    ax.add_patch(Rectangle(goal, 1, 1, fill=True, color='#008610', alpha=.1))\n",
    "    ax.add_patch(Rectangle(trap, 1, 1, fill=True, color='red', alpha=.1))\n",
    "\n",
    "    # grid lines\n",
    "    for x in xs:\n",
    "        plt.plot([x, x], [ys[0], ys[-1]], color='black', alpha=.33)\n",
    "    for y in ys:\n",
    "        plt.plot([xs[0], xs[-1]], [y, y], color='black', alpha=.33)\n",
    "\n",
    "    for (statex, statey), val in valueTable.items():\n",
    "        plt.text(statex, statey, str(round(val, 3)))    \n",
    "\n",
    "    plt.show()"
   ]
  },
  {
   "cell_type": "markdown",
   "metadata": {},
   "source": [
    "# Test Examples - Generated"
   ]
  },
  {
   "cell_type": "markdown",
   "metadata": {},
   "source": [
    "## Example 1: Deterministic"
   ]
  },
  {
   "cell_type": "code",
   "execution_count": 14,
   "metadata": {
    "ExecuteTime": {
     "end_time": "2019-01-18T22:41:07.811498Z",
     "start_time": "2019-01-18T22:41:07.800980Z"
    }
   },
   "outputs": [],
   "source": [
    "gridWidth = 3 #4\n",
    "gridHeight = 5 #3\n",
    "allActions = [(1,0), (0,1), (-1,0), (0,-1)]\n",
    "goalState = (1,1)\n",
    "trapState = (1,2)\n",
    "\n",
    "np.random.seed(1000)\n",
    "getTransition = SetupTransition(gridWidth, gridHeight, allActions)\n",
    "transition = getTransition()\n",
    "\n",
    "getReward = SetupRewardTable(transition, allActions, goalState, trapState)\n",
    "reward = getReward()\n",
    "\n",
    "value = {state:0 for state in reward.keys()}\n",
    "\n",
    "\n",
    "performValueIteration = ValueIteration(transition, reward, value, .000001, .9)\n",
    "optimalValues, policy = performValueIteration()"
   ]
  },
  {
   "cell_type": "code",
   "execution_count": null,
   "metadata": {
    "ExecuteTime": {
     "end_time": "2019-01-18T22:09:02.610490Z",
     "start_time": "2019-01-18T22:09:02.593568Z"
    }
   },
   "outputs": [],
   "source": [
    "viewDictionaryStructure(transition, levelsTransition)"
   ]
  },
  {
   "cell_type": "code",
   "execution_count": null,
   "metadata": {
    "ExecuteTime": {
     "end_time": "2019-01-18T22:09:02.843266Z",
     "start_time": "2019-01-18T22:09:02.831936Z"
    }
   },
   "outputs": [],
   "source": [
    "viewDictionaryStructure(reward, levelsReward)"
   ]
  },
  {
   "cell_type": "code",
   "execution_count": 20,
   "metadata": {
    "ExecuteTime": {
     "end_time": "2019-01-18T22:44:30.527487Z",
     "start_time": "2019-01-18T22:44:30.521975Z"
    }
   },
   "outputs": [
    {
     "data": {
      "text/plain": [
       "{(0, 0): 0,\n",
       " (0, 1): 0,\n",
       " (0, 2): 0,\n",
       " (0, 3): 0,\n",
       " (0, 4): 0,\n",
       " (1, 0): 0,\n",
       " (1, 1): 0,\n",
       " (1, 2): 0,\n",
       " (1, 3): 0,\n",
       " (1, 4): 0,\n",
       " (2, 0): 0,\n",
       " (2, 1): 0,\n",
       " (2, 2): 0,\n",
       " (2, 3): 0,\n",
       " (2, 4): 0}"
      ]
     },
     "execution_count": 20,
     "metadata": {},
     "output_type": "execute_result"
    }
   ],
   "source": [
    "value = {state:0 for state in reward.keys()}\n",
    "value"
   ]
  },
  {
   "cell_type": "code",
   "execution_count": 15,
   "metadata": {
    "ExecuteTime": {
     "end_time": "2019-01-18T22:41:10.777842Z",
     "start_time": "2019-01-18T22:41:10.774583Z"
    },
    "scrolled": false
   },
   "outputs": [
    {
     "data": {
      "text/plain": [
       "{(0, 0): 36.89473264025735,\n",
       " (0, 1): 42.105259376231615,\n",
       " (0, 2): 36.894733438608455,\n",
       " (0, 3): 32.20526009474761,\n",
       " (0, 4): 27.984734085272848,\n",
       " (1, 0): 42.105259376231615,\n",
       " (1, 1): 47.894733438608455,\n",
       " (1, 2): -56.894739905252386,\n",
       " (1, 3): 27.984734085272848,\n",
       " (1, 4): 24.186260676745565,\n",
       " (2, 0): 36.894733438608455,\n",
       " (2, 1): 42.105260094747614,\n",
       " (2, 2): 36.89473408527285,\n",
       " (2, 3): 32.20526067674557,\n",
       " (2, 4): 27.984734609071012}"
      ]
     },
     "execution_count": 15,
     "metadata": {},
     "output_type": "execute_result"
    }
   ],
   "source": [
    "optimalValues"
   ]
  },
  {
   "cell_type": "code",
   "execution_count": 16,
   "metadata": {
    "ExecuteTime": {
     "end_time": "2019-01-18T22:41:12.578892Z",
     "start_time": "2019-01-18T22:41:12.574866Z"
    }
   },
   "outputs": [
    {
     "data": {
      "text/plain": [
       "{(0, 0): {(1, 0): 0.5, (0, 1): 0.5},\n",
       " (0, 1): {(1, 0): 1.0},\n",
       " (0, 2): {(0, -1): 1.0},\n",
       " (0, 3): {(0, -1): 1.0},\n",
       " (0, 4): {(0, -1): 1.0},\n",
       " (1, 0): {(0, 1): 1.0},\n",
       " (1, 1): {(1, 0): 0.3333333333333333,\n",
       "  (-1, 0): 0.3333333333333333,\n",
       "  (0, -1): 0.3333333333333333},\n",
       " (1, 2): {(0, -1): 1.0},\n",
       " (1, 3): {(1, 0): 0.5, (-1, 0): 0.5},\n",
       " (1, 4): {(1, 0): 0.3333333333333333,\n",
       "  (-1, 0): 0.3333333333333333,\n",
       "  (0, -1): 0.3333333333333333},\n",
       " (2, 0): {(0, 1): 0.5, (-1, 0): 0.5},\n",
       " (2, 1): {(-1, 0): 1.0},\n",
       " (2, 2): {(0, -1): 1.0},\n",
       " (2, 3): {(0, -1): 1.0},\n",
       " (2, 4): {(0, -1): 1.0}}"
      ]
     },
     "execution_count": 16,
     "metadata": {},
     "output_type": "execute_result"
    }
   ],
   "source": [
    "policy"
   ]
  },
  {
   "cell_type": "code",
   "execution_count": 11,
   "metadata": {
    "ExecuteTime": {
     "end_time": "2019-01-18T22:39:22.561629Z",
     "start_time": "2019-01-18T22:39:22.446994Z"
    },
    "scrolled": true
   },
   "outputs": [
    {
     "data": {
      "image/png": "[encoded data removed]",
      "text/plain": [
       "<Figure size 432x288 with 1 Axes>"
      ]
     },
     "metadata": {
      "needs_background": "light"
     },
     "output_type": "display_data"
    }
   ],
   "source": [
    "visualizeValueTable(gridWidth, gridHeight, goalState, trapState, optimalValues)"
   ]
  },
  {
   "cell_type": "code",
   "execution_count": 12,
   "metadata": {
    "ExecuteTime": {
     "end_time": "2019-01-18T22:39:34.067479Z",
     "start_time": "2019-01-18T22:39:33.985031Z"
    }
   },
   "outputs": [
    {
     "data": {
      "image/png": "[encoded data removed]",
      "text/plain": [
       "<Figure size 432x288 with 1 Axes>"
      ]
     },
     "metadata": {
      "needs_background": "light"
     },
     "output_type": "display_data"
    }
   ],
   "source": [
    "#grid height/width\n",
    "xs = np.linspace(-.5, gridWidth-.5, gridWidth+1)\n",
    "ys = np.linspace(-.50, gridHeight-.5, gridHeight+1)\n",
    "\n",
    "ax = plt.gca(frameon=False, xticks = range(gridWidth), yticks = range(gridHeight))\n",
    "\n",
    "#goal and trap coloring \n",
    "ax.add_patch(Rectangle((goalState[0]-.5, goalState[1]-.5), 1, 1, fill=True, color='green', alpha=.1))\n",
    "ax.add_patch(Rectangle((trapState[0]-.5, trapState[1]-.5), 1, 1, fill=True, color='red', alpha=.1))\n",
    "\n",
    "# grid lines\n",
    "for x in xs:\n",
    "    plt.plot([x, x], [ys[0], ys[-1]], color = \"black\")\n",
    "for y in ys:\n",
    "    plt.plot([xs[0], xs[-1]], [y, y], color = \"black\")\n",
    "\n",
    "#labeled values\n",
    "for (statex, statey), actionDict in policy.items():\n",
    "    for (optimalActionX, optimalActionY) in actionDict.keys():\n",
    "        plt.arrow(statex, statey, optimalActionX*.2, optimalActionY*.2, head_width=0.05, head_length=0.1)    \n",
    "\n",
    "plt.show()"
   ]
  },
  {
   "cell_type": "markdown",
   "metadata": {},
   "source": [
    "## Example 2: Stochastic"
   ]
  },
  {
   "cell_type": "code",
   "execution_count": null,
   "metadata": {
    "ExecuteTime": {
     "end_time": "2019-01-18T22:08:53.628409Z",
     "start_time": "2019-01-18T22:08:53.613332Z"
    }
   },
   "outputs": [],
   "source": [
    "gridWidth = 4\n",
    "gridHeight = 4\n",
    "allActions = [(1,0), (0,1), (-1,0), (0,-1)]\n",
    "goalState = (3,1)\n",
    "trapState = (1,1)\n",
    "\n",
    "np.random.seed(1000)\n",
    "getTransition = SetupTransition(gridWidth, gridHeight, allActions)\n",
    "transition = getTransition()\n",
    "\n",
    "getReward = SetupRewardTable(transition, allActions, goalState, trapState)\n",
    "reward = getReward()\n",
    "\n",
    "value = {state:0 for state in reward.keys()}\n",
    "\n",
    "\n",
    "performValueIteration = ValueIteration(transition, reward, value, .0001, .9)\n",
    "optimalValues, policy = performValueIteration()"
   ]
  },
  {
   "cell_type": "code",
   "execution_count": null,
   "metadata": {
    "ExecuteTime": {
     "end_time": "2019-01-18T22:08:54.750269Z",
     "start_time": "2019-01-18T22:08:54.744181Z"
    }
   },
   "outputs": [],
   "source": [
    "optimalValues"
   ]
  },
  {
   "cell_type": "code",
   "execution_count": null,
   "metadata": {
    "ExecuteTime": {
     "end_time": "2019-01-18T22:08:55.631861Z",
     "start_time": "2019-01-18T22:08:55.626536Z"
    },
    "scrolled": true
   },
   "outputs": [],
   "source": [
    "policy"
   ]
  },
  {
   "cell_type": "code",
   "execution_count": null,
   "metadata": {
    "ExecuteTime": {
     "end_time": "2019-01-18T22:08:56.846115Z",
     "start_time": "2019-01-18T22:08:56.717190Z"
    }
   },
   "outputs": [],
   "source": [
    "visualizeValueTable(gridWidth, gridHeight, goalState, trapState, optimalValues)"
   ]
  },
  {
   "cell_type": "markdown",
   "metadata": {},
   "source": [
    "## Examples Raw Inputs:"
   ]
  },
  {
   "cell_type": "code",
   "execution_count": null,
   "metadata": {
    "ExecuteTime": {
     "end_time": "2019-01-18T21:25:06.658893Z",
     "start_time": "2019-01-18T21:25:06.626466Z"
    }
   },
   "outputs": [],
   "source": [
    "\"\"\"\n",
    "    Example 1: Deterministic Transition\n",
    "\"\"\"\n",
    "transitionTableDet = {(0, 0): {(1, 0): {(1, 0): 1},(0, 1): {(0, 1): 1},(-1, 0): {(0, 0): 1},(0, -1): {(0, 0): 1}},(0, 1): {(1, 0): {(1, 1): 1},(0, 1): {(0, 2): 1},(-1, 0): {(0, 1): 1},(0, -1): {(0, 0): 1}},(0, 2): {(1, 0): {(1, 2): 1},(0, 1): {(0, 2): 1},(-1, 0): {(0, 2): 1},(0, -1): {(0, 1): 1}},(1, 0): {(1, 0): {(2, 0): 1},(0, 1): {(1, 1): 1},(-1, 0): {(0, 0): 1},(0, -1): {(1, 0): 1}},(1, 1): {(1, 0): {(2, 1): 1},(0, 1): {(1, 2): 1},(-1, 0): {(0, 1): 1},(0, -1): {(1, 0): 1}},(1, 2): {(1, 0): {(2, 2): 1},(0, 1): {(1, 2): 1},(-1, 0): {(0, 2): 1},(0, -1): {(1, 1): 1}},(2, 0): {(1, 0): {(3, 0): 1},(0, 1): {(2, 1): 1},(-1, 0): {(1, 0): 1},(0, -1): {(2, 0): 1}},(2, 1): {(1, 0): {(3, 1): 1},(0, 1): {(2, 2): 1},(-1, 0): {(1, 1): 1},(0, -1): {(2, 0): 1}},(2, 2): {(1, 0): {(3, 2): 1},(0, 1): {(2, 2): 1},(-1, 0): {(1, 2): 1},(0, -1): {(2, 1): 1}},(3, 0): {(1, 0): {(3, 0): 1},(0, 1): {(3, 1): 1},(-1, 0): {(2, 0): 1},(0, -1): {(3, 0): 1}},(3, 1): {(1, 0): {(3, 1): 1},(0, 1): {(3, 2): 1},(-1, 0): {(2, 1): 1},(0, -1): {(3, 0): 1}},(3, 2): {(1, 0): {(3, 2): 1},(0, 1): {(3, 2): 1},(-1, 0): {(2, 2): 1},(0, -1): {(3, 1): 1}}}\n",
    "rewardTableDet = {(0, 0): {(1, 0): {(1, 0): -1},(0, 1): {(0, 1): -1},(-1, 0): {(0, 0): -1},(0, -1): {(0, 0): -1}},(0, 1): {(1, 0): {(1, 1): -1},(0, 1): {(0, 2): -1},(-1, 0): {(0, 1): -1},(0, -1): {(0, 0): -1}},(0, 2): {(1, 0): {(1, 2): -1},(0, 1): {(0, 2): -1},(-1, 0): {(0, 2): -1},(0, -1): {(0, 1): -1}},(1, 0): {(1, 0): {(2, 0): -1},(0, 1): {(1, 1): -1},(-1, 0): {(0, 0): -1},(0, -1): {(1, 0): -1}},(1, 1): {(1, 0): {(2, 1): 10},(0, 1): {(1, 2): 10},(-1, 0): {(0, 1): 10},(0, -1): {(1, 0): 10}},(1, 2): {(1, 0): {(2, 2): -100},(0, 1): {(1, 2): -1},(-1, 0): {(0, 2): -100},(0, -1): {(1, 1): -100}},(2, 0): {(1, 0): {(3, 0): -1},(0, 1): {(2, 1): -1},(-1, 0): {(1, 0): -1},(0, -1): {(2, 0): -1}},(2, 1): {(1, 0): {(3, 1): -1},(0, 1): {(2, 2): -1},(-1, 0): {(1, 1): -1},(0, -1): {(2, 0): -1}},(2, 2): {(1, 0): {(3, 2): -1},(0, 1): {(2, 2): -1},(-1, 0): {(1, 2): -1},(0, -1): {(2, 1): -1}},(3, 0): {(1, 0): {(3, 0): -1},(0, 1): {(3, 1): -1},(-1, 0): {(2, 0): -1},(0, -1): {(3, 0): -1}},(3, 1): {(1, 0): {(3, 1): -1},(0, 1): {(3, 2): -1},(-1, 0): {(2, 1): -1},(0, -1): {(3, 0): -1}},(3, 2): {(1, 0): {(3, 2): -1},(0, 1): {(3, 2): -1},(-1, 0): {(2, 2): -1},(0, -1): {(3, 1): -1}}}\n",
    "valueTableDet = {(0, 0): 0,(0, 1): 0,(0, 2): 0,(1, 0): 0,(1, 1): 0,(1, 2): 0,(2, 0): 0,(2, 1): 0,(2, 2): 0,(3, 0): 0,(3, 1): 0,(3, 2): 0}\n",
    "convergenceTolerance = .0001\n",
    "gamma = .9\n",
    "\n",
    "\n",
    "\"\"\"\n",
    "    Example 2: Probabilistic Transition\n",
    "\"\"\"\n",
    "transitionTable = {(0, 0): {(1, 0): {(1, 0): 0.7, (0, 1): 0.2, (0, 0): 0.1},(0, 1): {(0, 1): 0.7999999999999999, (1, 0): 0.2},(-1, 0): {(0, 0): 0.7, (1, 0): 0.2, (0, 1): 0.1},(0, -1): {(0, 0): 0.7, (1, 0): 0.1, (0, 1): 0.2}},(0, 1): {(1, 0): {(1, 1): 0.7999999999999999, (0, 1): 0.1, (0, 2): 0.1},(0, 1): {(0, 2): 0.7999999999999999, (0, 0): 0.2},(-1, 0): {(0, 1): 0.8999999999999999, (0, 0): 0.1},(0, -1): {(0, 0): 0.7999999999999999, (0, 2): 0.1, (0, 1): 0.1}},(0, 2): {(1, 0): {(1, 2): 0.7999999999999999, (0, 1): 0.2},(0, 1): {(0, 3): 0.7999999999999999, (0, 1): 0.1, (1, 2): 0.1},(-1, 0): {(0, 2): 0.7, (0, 1): 0.1, (1, 2): 0.1, (0, 3): 0.1},(0, -1): {(0, 1): 0.8999999999999999, (0, 3): 0.1}},(0, 3): {(1, 0): {(1, 3): 0.8999999999999999, (0, 2): 0.1},(0, 1): {(0, 3): 0.9999999999999999},(-1, 0): {(0, 3): 0.7999999999999999, (0, 2): 0.1, (1, 3): 0.1},(0, -1): {(0, 2): 0.7999999999999999, (0, 3): 0.2}},(1, 0): {(1, 0): {(2, 0): 0.8999999999999999, (1, 1): 0.1},(0, 1): {(1, 1): 0.8999999999999999, (1, 0): 0.1},(-1, 0): {(0, 0): 0.7, (1, 1): 0.2, (2, 0): 0.1},(0, -1): {(1, 0): 0.7999999999999999, (0, 0): 0.2}},(1, 1): {(1, 0): {(2, 1): 0.7999999999999999, (1, 0): 0.1, (0, 1): 0.1},(0, 1): {(1, 2): 0.7, (2, 1): 0.30000000000000004},(-1, 0): {(0, 1): 0.7, (2, 1): 0.1, (1, 0): 0.2},(0, -1): {(1, 0): 0.7999999999999999, (0, 1): 0.1, (2, 1): 0.1}},(1, 2): {(1, 0): {(2, 2): 0.7999999999999999, (1, 3): 0.1, (1, 1): 0.1},(0, 1): {(1, 3): 0.8999999999999999, (2, 2): 0.1},(-1, 0): {(0, 2): 0.8999999999999999, (1, 1): 0.1},(0, -1): {(1, 1): 0.7999999999999999, (2, 2): 0.1, (0, 2): 0.1}},(1, 3): {(1, 0): {(2, 3): 0.7999999999999999, (1, 3): 0.2},(0, 1): {(1, 3): 0.7999999999999999, (2, 3): 0.1, (0, 3): 0.1},(-1, 0): {(0, 3): 0.7, (2, 3): 0.1, (1, 2): 0.2},(0, -1): {(1, 2): 0.7999999999999999, (0, 3): 0.2}},(2, 0): {(1, 0): {(3, 0): 0.8999999999999999, (2, 0): 0.1},(0, 1): {(2, 1): 0.7999999999999999, (3, 0): 0.1, (1, 0): 0.1},(-1, 0): {(1, 0): 0.7, (2, 0): 0.2, (2, 1): 0.1},(0, -1): {(2, 0): 0.7, (2, 1): 0.2, (1, 0): 0.1}},(2, 1): {(1, 0): {(3, 1): 0.7999999999999999, (1, 1): 0.2},(0, 1): {(2, 2): 0.7, (1, 1): 0.1, (3, 1): 0.2},(-1, 0): {(1, 1): 0.7, (2, 0): 0.1, (2, 2): 0.1, (3, 1): 0.1},(0, -1): {(2, 0): 0.7, (1, 1): 0.2, (3, 1): 0.1}},(2, 2): {(1, 0): {(3, 2): 0.7, (1, 2): 0.1, (2, 1): 0.2},(0, 1): {(2, 3): 0.7999999999999999, (2, 1): 0.2},(-1, 0): {(1, 2): 0.7999999999999999, (2, 1): 0.1, (3, 2): 0.1},(0, -1): {(2, 1): 0.7999999999999999, (1, 2): 0.1, (3, 2): 0.1}},(2, 3): {(1, 0): {(3, 3): 0.7, (2, 3): 0.2, (2, 2): 0.1},(0, 1): {(2, 3): 0.7999999999999999, (2, 2): 0.1, (3, 3): 0.1},(-1, 0): {(1, 3): 0.8999999999999999, (2, 3): 0.1},(0, -1): {(2, 2): 0.7, (3, 3): 0.1, (1, 3): 0.1, (2, 3): 0.1}},(3, 0): {(1, 0): {(3, 0): 0.7, (3, 1): 0.1, (2, 0): 0.2},(0, 1): {(3, 1): 0.7999999999999999, (2, 0): 0.2},(-1, 0): {(2, 0): 0.7999999999999999, (3, 0): 0.2},(0, -1): {(3, 0): 0.7999999999999999, (2, 0): 0.1, (3, 1): 0.1}},(3, 1): {(1, 0): {(3, 1): 0.8999999999999999, (3, 2): 0.1},(0, 1): {(3, 2): 0.7, (2, 1): 0.2, (3, 0): 0.1},(-1, 0): {(2, 1): 0.7999999999999999, (3, 0): 0.1, (3, 1): 0.1},(0, -1): {(3, 0): 0.7999999999999999, (2, 1): 0.2}},(3, 2): {(1, 0): {(3, 2): 0.7999999999999999, (3, 1): 0.1, (2, 2): 0.1},(0, 1): {(3, 3): 0.7, (3, 2): 0.2, (2, 2): 0.1},(-1, 0): {(2, 2): 0.9999999999999999},(0, -1): {(3, 1): 0.7999999999999999, (3, 3): 0.1, (3, 2): 0.1}},(3, 3): {(1, 0): {(3, 3): 0.7999999999999999, (3, 2): 0.2},(0, 1): {(3, 3): 0.7999999999999999, (3, 2): 0.2},(-1, 0): {(2, 3): 0.7999999999999999, (3, 2): 0.1, (3, 3): 0.1},(0, -1): {(3, 2): 0.7999999999999999, (2, 3): 0.2}}}\n",
    "rewardTable = {(0, 0): {(1, 0): {(1, 0): -1, (0, 1): -1, (0, 0): -1},(0, 1): {(0, 1): -1, (1, 0): -1},(-1, 0): {(0, 0): -1, (1, 0): -1, (0, 1): -1},(0, -1): {(0, 0): -1, (1, 0): -1, (0, 1): -1}},(0, 1): {(1, 0): {(1, 1): -1, (0, 1): -1, (0, 2): -1},(0, 1): {(0, 2): -1, (0, 0): -1},(-1, 0): {(0, 1): -1, (0, 0): -1},(0, -1): {(0, 0): -1, (0, 2): -1, (0, 1): -1}},(0, 2): {(1, 0): {(1, 2): -1, (0, 1): -1},(0, 1): {(0, 3): -1, (0, 1): -1, (1, 2): -1},(-1, 0): {(0, 2): -1, (0, 1): -1, (1, 2): -1, (0, 3): -1},(0, -1): {(0, 1): -1, (0, 3): -1}},(0, 3): {(1, 0): {(1, 3): -1, (0, 2): -1},(0, 1): {(0, 3): -1},(-1, 0): {(0, 3): -1, (0, 2): -1, (1, 3): -1},(0, -1): {(0, 2): -1, (0, 3): -1}},(1, 0): {(1, 0): {(2, 0): -1, (1, 1): -1},(0, 1): {(1, 1): -1, (1, 0): -1},(-1, 0): {(0, 0): -1, (1, 1): -1, (2, 0): -1},(0, -1): {(1, 0): -1, (0, 0): -1}},(1, 1): {(1, 0): {(2, 1): -100, (1, 0): -100, (0, 1): -100},(0, 1): {(1, 2): -100, (2, 1): -100},(-1, 0): {(0, 1): -100, (2, 1): -100, (1, 0): -100},(0, -1): {(1, 0): -100, (0, 1): -100, (2, 1): -100}},(1, 2): {(1, 0): {(2, 2): -1, (1, 3): -1, (1, 1): -1},(0, 1): {(1, 3): -1, (2, 2): -1},(-1, 0): {(0, 2): -1, (1, 1): -1},(0, -1): {(1, 1): -1, (2, 2): -1, (0, 2): -1}},(1, 3): {(1, 0): {(2, 3): -1, (1, 3): -1},(0, 1): {(1, 3): -1, (2, 3): -1, (0, 3): -1},(-1, 0): {(0, 3): -1, (2, 3): -1, (1, 2): -1},(0, -1): {(1, 2): -1, (0, 3): -1}},(2, 0): {(1, 0): {(3, 0): -1, (2, 0): -1},(0, 1): {(2, 1): -1, (3, 0): -1, (1, 0): -1},(-1, 0): {(1, 0): -1, (2, 0): -1, (2, 1): -1},(0, -1): {(2, 0): -1, (2, 1): -1, (1, 0): -1}},(2, 1): {(1, 0): {(3, 1): -1, (1, 1): -1},(0, 1): {(2, 2): -1, (1, 1): -1, (3, 1): -1},(-1, 0): {(1, 1): -1, (2, 0): -1, (2, 2): -1, (3, 1): -1},(0, -1): {(2, 0): -1, (1, 1): -1, (3, 1): -1}},(2, 2): {(1, 0): {(3, 2): -1, (1, 2): -1, (2, 1): -1},(0, 1): {(2, 3): -1, (2, 1): -1},(-1, 0): {(1, 2): -1, (2, 1): -1, (3, 2): -1},(0, -1): {(2, 1): -1, (1, 2): -1, (3, 2): -1}},(2, 3): {(1, 0): {(3, 3): -1, (2, 3): -1, (2, 2): -1},(0, 1): {(2, 3): -1, (2, 2): -1, (3, 3): -1},(-1, 0): {(1, 3): -1, (2, 3): -1},(0, -1): {(2, 2): -1, (3, 3): -1, (1, 3): -1, (2, 3): -1}},(3, 0): {(1, 0): {(3, 0): -1, (3, 1): -1, (2, 0): -1},(0, 1): {(3, 1): -1, (2, 0): -1},(-1, 0): {(2, 0): -1, (3, 0): -1},(0, -1): {(3, 0): -1, (2, 0): -1, (3, 1): -1}},(3, 1): {(1, 0): {(3, 1): -1, (3, 2): 10},(0, 1): {(3, 2): 10, (2, 1): 10, (3, 0): 10},(-1, 0): {(2, 1): 10, (3, 0): 10, (3, 1): -1},(0, -1): {(3, 0): 10, (2, 1): 10}},(3, 2): {(1, 0): {(3, 2): -1, (3, 1): -1, (2, 2): -1},(0, 1): {(3, 3): -1, (3, 2): -1, (2, 2): -1},(-1, 0): {(2, 2): -1},(0, -1): {(3, 1): -1, (3, 3): -1, (3, 2): -1}},(3, 3): {(1, 0): {(3, 3): -1, (3, 2): -1},(0, 1): {(3, 3): -1, (3, 2): -1},(-1, 0): {(2, 3): -1, (3, 2): -1, (3, 3): -1},(0, -1): {(3, 2): -1, (2, 3): -1}}}\n",
    "valueTable = {(0, 0): 0,(0, 1): 0,(0, 2): 0,(0, 3): 0,(1, 0): 0,(1, 1): 0,(1, 2): 0,(1, 3): 0,(2, 0): 0,(2, 1): 0,(2, 2): 0,(2, 3): 0,(3, 0): 0,(3, 1): 0,(3, 2): 0,(3, 3): 0}\n",
    "convergenceTolerance = .0001\n",
    "gamma = .9"
   ]
  },
  {
   "cell_type": "code",
   "execution_count": null,
   "metadata": {},
   "outputs": [],
   "source": []
  }
 ],
 "metadata": {
  "kernelspec": {
   "display_name": "Python 3",
   "language": "python",
   "name": "python3"
  },
  "language_info": {
   "codemirror_mode": {
    "name": "ipython",
    "version": 3
   },
   "file_extension": ".py",
   "mimetype": "text/x-python",
   "name": "python",
   "nbconvert_exporter": "python",
   "pygments_lexer": "ipython3",
   "version": "3.6.6"
  },
  "toc": {
   "base_numbering": 1,
   "nav_menu": {},
   "number_sections": true,
   "sideBar": true,
   "skip_h1_title": false,
   "title_cell": "Table of Contents",
   "title_sidebar": "Contents",
   "toc_cell": false,
   "toc_position": {
    "height": "calc(100% - 180px)",
    "left": "10px",
    "top": "150px",
    "width": "254.6px"
   },
   "toc_section_display": true,
   "toc_window_display": true
  }
 },
 "nbformat": 4,
 "nbformat_minor": 2
}
