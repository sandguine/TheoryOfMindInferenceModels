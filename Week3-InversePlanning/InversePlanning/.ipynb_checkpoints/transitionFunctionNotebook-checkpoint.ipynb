{
 "cells": [
  {
   "cell_type": "code",
   "execution_count": null,
   "metadata": {
    "ExecuteTime": {
     "end_time": "2019-01-05T23:48:41.590067Z",
     "start_time": "2019-01-05T23:48:41.488752Z"
    }
   },
   "outputs": [],
   "source": [
    "import numpy as np\n",
    "import itertools"
   ]
  },
  {
   "cell_type": "code",
   "execution_count": null,
   "metadata": {
    "ExecuteTime": {
     "end_time": "2019-01-05T23:55:08.787433Z",
     "start_time": "2019-01-05T23:55:08.781858Z"
    }
   },
   "outputs": [],
   "source": [
    "class TableTransition(object):\n",
    "    def __init__(self, transitionTable):\n",
    "        self.transitionTable = transitionTable\n",
    "        \n",
    "    def __call__(self, currentState, action):\n",
    "        assert currentState in self.transitionTable, \"Current state not in set of possible states\"\n",
    "        assert action in self.transitionTable[currentState], \"Action not valid\"\n",
    "        \n",
    "        nextStates, nextStateDistribution = self.transitionTable[currentState][action]\n",
    "        nextStateIndex = np.random.choice(np.arange(len(nextStates)), p=nextStateDistribution)\n",
    "        \n",
    "        nextState = nextStates[nextStateIndex]\n",
    "        return(nextState)"
   ]
  },
  {
   "cell_type": "code",
   "execution_count": 24,
   "metadata": {
    "ExecuteTime": {
     "end_time": "2019-01-06T00:46:07.655207Z",
     "start_time": "2019-01-06T00:46:07.649800Z"
    }
   },
   "outputs": [],
   "source": [
    "def getNextState(currentStateTuple, actionTuple):\n",
    "    assert len(currentStateTuple) == len(actionTuple),\"Tuples are of different length.\"\n",
    "    return(tuple([currentStateTuple[i] + actionTuple[i] for i in range(len(currentStateTuple))]))\n",
    "\n",
    "def validCoordinate(coordinate, gridWidth, gridHeight):\n",
    "    xCoordinate, yCoordinate = coordinate\n",
    "    if(xCoordinate < 0 or  xCoordinate >= gridWidth):\n",
    "        return(False)\n",
    "    if(yCoordinate < 0 or yCoordinate >= gridHeight):\n",
    "        return(False)\n",
    "    return(True)"
   ]
  },
  {
   "cell_type": "code",
   "execution_count": null,
   "metadata": {
    "ExecuteTime": {
     "end_time": "2019-01-05T23:51:32.622633Z",
     "start_time": "2019-01-05T23:51:32.616970Z"
    }
   },
   "outputs": [],
   "source": [
    "gridWidth = 5\n",
    "gridHeight = 10\n",
    "\n",
    "gridCoordinates = list(itertools.product(range(gridWidth), range(gridHeight)))\n",
    "allActions = list(set(itertools.permutations([-1,-1, 0, 0, 1, 1], 2)))\n",
    "transition = {}"
   ]
  },
  {
   "cell_type": "code",
   "execution_count": null,
   "metadata": {},
   "outputs": [],
   "source": []
  },
  {
   "cell_type": "code",
   "execution_count": null,
   "metadata": {},
   "outputs": [],
   "source": []
  },
  {
   "cell_type": "code",
   "execution_count": null,
   "metadata": {
    "ExecuteTime": {
     "end_time": "2019-01-05T23:54:21.356212Z",
     "start_time": "2019-01-05T23:54:21.346408Z"
    }
   },
   "outputs": [],
   "source": [
    "for xyCoordinate in gridCoordinates:\n",
    "    transition[xyCoordinate] = {}\n",
    "    for actionIndex, actionTuple in enumerate(allActions):\n",
    "        nextStates = [elementwiseTupleAddition(xyCoordinate, action) for action in allActions]\n",
    "        transitionPDF = np.zeros(len(allActions))\n",
    "\n",
    "        if validCoordinate(nextStates[actionIndex], gridWidth=gridWidth, gridHeight = gridHeight):\n",
    "            transitionPDF[actionIndex] = 1\n",
    "        else:\n",
    "            transitionPDF[0] = 1\n",
    "\n",
    "        transition[xyCoordinate][actionTuple] = (nextStates, transitionPDF)"
   ]
  },
  {
   "cell_type": "code",
   "execution_count": null,
   "metadata": {},
   "outputs": [],
   "source": [
    "def elementwiseTupleAddition(firstTuple, secondTuple):\n",
    "    assert len(firstTuple) == len(secondTuple),\"Tuples are of different length.\"\n",
    "    return(tuple([firstTuple[i] + secondTuple[i] for i in range(len(firstTuple))]))\n",
    "\n",
    "def getNextState(currentStateTuple, actionTuple):\n",
    "    assert len(currentStateTuple) == len(actionTuple),\"Tuples are of different length.\"\n",
    "    return(tuple([currentStateTuple[i] + actionTuple[i] for i in range(len(currentStateTuple))]))"
   ]
  },
  {
   "cell_type": "code",
   "execution_count": null,
   "metadata": {},
   "outputs": [],
   "source": [
    "def takeActionFromState(coordinateTuple, actions):\n",
    "    nextStates = [elementwiseTupleAddition(coordinateTuple, action) for action in actions]"
   ]
  },
  {
   "cell_type": "code",
   "execution_count": null,
   "metadata": {
    "ExecuteTime": {
     "end_time": "2019-01-06T00:00:25.046392Z",
     "start_time": "2019-01-06T00:00:24.856232Z"
    }
   },
   "outputs": [],
   "source": [
    "transition = {xyCoordinate: getCoordinateTransitionDistribution(xyCoordinate, allActions) for xyCoordinate in gridCoordinates}"
   ]
  },
  {
   "cell_type": "code",
   "execution_count": null,
   "metadata": {},
   "outputs": [],
   "source": [
    "def getCoordinateTransitionDistribution(coordinateTuple, actions):\n",
    "    return({action: getStateActionTransition(coordinateTuple, action) for action in actions})\n"
   ]
  },
  {
   "cell_type": "code",
   "execution_count": 25,
   "metadata": {
    "ExecuteTime": {
     "end_time": "2019-01-06T00:50:02.971312Z",
     "start_time": "2019-01-06T00:50:02.964205Z"
    }
   },
   "outputs": [],
   "source": [
    "def getStateActionTransition(currentState, action, noChangeInState = (0,0)):\n",
    "    stateActionTransitionDistribution = {state: 0 for state in allStates}\n",
    "    nextState = elementwiseTupleAddition(currentState, action)\n",
    "    \n",
    "    if validCoordinate(nextState, gridWidth, gridHeight):\n",
    "        stateActionTransitionDistribution[nextState] = 1\n",
    "    else:\n",
    "        stateActionTransitionDistribution[noChangeInState] = 1\n",
    "    return(stateActionTransitionDistribution)"
   ]
  },
  {
   "cell_type": "code",
   "execution_count": null,
   "metadata": {},
   "outputs": [],
   "source": []
  },
  {
   "cell_type": "code",
   "execution_count": null,
   "metadata": {
    "ExecuteTime": {
     "end_time": "2019-01-05T23:55:21.887585Z",
     "start_time": "2019-01-05T23:55:21.881518Z"
    }
   },
   "outputs": [],
   "source": [
    "getGridTransition = TableTransition(transition)\n",
    "getGridTransition((0,2), (-1,-1))"
   ]
  },
  {
   "cell_type": "code",
   "execution_count": null,
   "metadata": {},
   "outputs": [],
   "source": []
  },
  {
   "cell_type": "code",
   "execution_count": null,
   "metadata": {},
   "outputs": [],
   "source": []
  },
  {
   "cell_type": "code",
   "execution_count": null,
   "metadata": {},
   "outputs": [],
   "source": [
    "class Transition(object):\n",
    "    def __init__(self, transition):\n",
    "        self.transitionTable = transition\n",
    "        \n",
    "    def transitionFunction(self, currentState, action):\n",
    "        assert currentState in self.transitionTable, \"Current state not in set of possible states\"\n",
    "        assert action in self.transitionTable[currentState], \"Action not valid\"\n",
    "        \n",
    "        resultingStates,transitionProbabilityDistributionOfState = self.transitionTable[currentState][action]\n",
    "        resultingStateIndex = np.random.choice(np.arange(len(resultingStates)), p=transitionProbabilityDistributionOfState)\n",
    "        \n",
    "        return(resultingStates[resultingStateIndex])\n"
   ]
  },
  {
   "cell_type": "code",
   "execution_count": null,
   "metadata": {},
   "outputs": [],
   "source": [
    "def elementwiseTupleAddition(firstTuple, secondTuple):\n",
    "    assert len(firstTuple) == len(secondTuple),\"Tuples are of different length.\"\n",
    "    return(tuple([firstTuple[i] + secondTuple[i] for i in range(len(firstTuple))]))\n",
    "\n",
    "def validCoordinate(coordinate, gridWidth, gridHeight):\n",
    "    xCoordinate, yCoordinate = coordinate\n",
    "    if(xCoordinate < 0 or  xCoordinate >= gridWidth):\n",
    "        return(False)\n",
    "    if(yCoordinate < 0 or yCoordinate >= gridHeight):\n",
    "        return(False)\n",
    "    else:\n",
    "        return(True)\n",
    "    "
   ]
  },
  {
   "cell_type": "code",
   "execution_count": null,
   "metadata": {},
   "outputs": [],
   "source": [
    "#example world\n",
    "gridWidth = 5\n",
    "gridHeight = 10\n",
    "gridCoordinates = [(x, y) for x in range(gridWidth) for y in range(gridHeight)]"
   ]
  },
  {
   "cell_type": "code",
   "execution_count": null,
   "metadata": {},
   "outputs": [],
   "source": [
    "allActions = [(0,0), (0,1), (1,1), (1,0), (1,-1), (0,-1), (-1,-1), (-1, 0), (-1, 1)]\n",
    "transition = {}\n",
    "\n",
    "for xyCoordinate in gridCoordinates:\n",
    "    transition[xyCoordinate] = {}\n",
    "    for actionIndex, actionTuple in enumerate(allActions):\n",
    "        resultingStates = [elementwiseTupleAddition(xyCoordinate, action) for action in allActions]\n",
    "        \n",
    "        transitionPDF = np.zeros(len(allActions))\n",
    "        \n",
    "        if validCoordinate(resultingStates[actionIndex], gridWidth=gridWidth, gridHeight = gridHeight):\n",
    "            transitionPDF[actionIndex] = 1\n",
    "        else:\n",
    "            transitionPDF[0] = 1\n",
    "            \n",
    "        transition[xyCoordinate][actionTuple] = (resultingStates, transitionPDF)\n"
   ]
  },
  {
   "cell_type": "code",
   "execution_count": null,
   "metadata": {},
   "outputs": [],
   "source": [
    "exampleGame = Transition(transition)"
   ]
  },
  {
   "cell_type": "code",
   "execution_count": null,
   "metadata": {},
   "outputs": [],
   "source": [
    "exampleGame.transitionFunction((0,9), (-1,-1))"
   ]
  }
 ],
 "metadata": {
  "kernelspec": {
   "display_name": "Python 3",
   "language": "python",
   "name": "python3"
  },
  "language_info": {
   "codemirror_mode": {
    "name": "ipython",
    "version": 3
   },
   "file_extension": ".py",
   "mimetype": "text/x-python",
   "name": "python",
   "nbconvert_exporter": "python",
   "pygments_lexer": "ipython3",
   "version": "3.6.6"
  },
  "toc": {
   "base_numbering": 1,
   "nav_menu": {},
   "number_sections": true,
   "sideBar": true,
   "skip_h1_title": false,
   "title_cell": "Table of Contents",
   "title_sidebar": "Contents",
   "toc_cell": false,
   "toc_position": {},
   "toc_section_display": true,
   "toc_window_display": false
  }
 },
 "nbformat": 4,
 "nbformat_minor": 2
}
