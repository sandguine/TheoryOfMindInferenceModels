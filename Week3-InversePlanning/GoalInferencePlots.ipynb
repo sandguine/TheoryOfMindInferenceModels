{
 "cells": [
  {
   "cell_type": "code",
   "execution_count": 2,
   "metadata": {
    "ExecuteTime": {
     "end_time": "2019-01-24T20:27:15.978040Z",
     "start_time": "2019-01-24T20:27:15.792146Z"
    }
   },
   "outputs": [],
   "source": [
    "import numpy as np\n",
    "import matplotlib.pyplot as plt\n",
    "from matplotlib.patches import Rectangle"
   ]
  },
  {
   "cell_type": "code",
   "execution_count": 1,
   "metadata": {
    "ExecuteTime": {
     "end_time": "2019-01-24T20:27:04.784363Z",
     "start_time": "2019-01-24T20:27:04.776181Z"
    }
   },
   "outputs": [],
   "source": [
    "def visualizePolicy(gridWidth, gridHeight, goalState, trapState, policy):\n",
    "    #grid height/width\n",
    "    xs = np.linspace(-.5, gridWidth-.5, gridWidth+1)\n",
    "    ys = np.linspace(-.50, gridHeight-.5, gridHeight+1)\n",
    "    \n",
    "    plt.rcParams[\"figure.figsize\"] = [gridWidth*1.5,gridHeight*1.5]\n",
    "    ax = plt.gca(frameon=False, xticks = range(gridWidth), yticks = range(gridHeight))\n",
    "\n",
    "    #goal and trap coloring \n",
    "    ax.add_patch(Rectangle((goalState[0]-.5, goalState[1]-.5), 1, 1, fill=True, color='green', alpha=.1))\n",
    "    ax.add_patch(Rectangle((trapState[0]-.5, trapState[1]-.5), 1, 1, fill=True, color='red', alpha=.1))\n",
    "\n",
    "    # grid lines\n",
    "    for x in xs:\n",
    "        plt.plot([x, x], [ys[0], ys[-1]], color = \"black\")\n",
    "    for y in ys:\n",
    "        plt.plot([xs[0], xs[-1]], [y, y], color = \"black\")\n",
    "\n",
    "    #labeled values\n",
    "    for (statex, statey), actionDict in policy.items():\n",
    "        for (optimalActionX, optimalActionY) in actionDict.keys():\n",
    "            plt.arrow(statex, statey, optimalActionX*.2, optimalActionY*.2, head_width=0.05, head_length=0.1)    \n",
    "\n",
    "    plt.show()"
   ]
  },
  {
   "cell_type": "code",
   "execution_count": 47,
   "metadata": {
    "ExecuteTime": {
     "end_time": "2019-01-24T21:06:15.082348Z",
     "start_time": "2019-01-24T21:06:15.076285Z"
    }
   },
   "outputs": [],
   "source": [
    "gridWidth=8\n",
    "gridHeight=6\n",
    "goalStates = [(2,5, \"C\"), (7,5, \"A\"), (7,0, \"B\")]\n",
    "trapStates = [(4,0), (4,1), (4,3)]\n",
    "trajectory = [(0,0), (1,1), (2,2), (3,2), (4,2), (5,2), (6,1)]"
   ]
  },
  {
   "cell_type": "code",
   "execution_count": 48,
   "metadata": {
    "ExecuteTime": {
     "end_time": "2019-01-24T21:06:15.944015Z",
     "start_time": "2019-01-24T21:06:15.826909Z"
    }
   },
   "outputs": [
    {
     "data": {
      "image/png": "[encoded data removed]",
      "text/plain": [
       "<Figure size 864x648 with 1 Axes>"
      ]
     },
     "metadata": {
      "needs_background": "light"
     },
     "output_type": "display_data"
    }
   ],
   "source": [
    "xs = np.linspace(-.5, gridWidth-.5, gridWidth+1)\n",
    "ys = np.linspace(-.50, gridHeight-.5, gridHeight+1)\n",
    "\n",
    "plt.rcParams[\"figure.figsize\"] = [gridWidth*1.5,gridHeight*1.5]\n",
    "ax = plt.gca(frameon=False, xticks = range(gridWidth), yticks = range(gridHeight))\n",
    "\n",
    "#goal and trap coloring \n",
    "for (goalx,goaly, goalName) in goalStates:\n",
    "    ax.add_patch(Rectangle((goalx-.5, goaly-.5), 1, 1, fill=True, color='green', alpha=.1))\n",
    "    ax.text(goalx-.15, goaly-.15, goalName, fontsize = 35)\n",
    "    \n",
    "for (trapx,trapy) in trapStates:\n",
    "    ax.add_patch(Rectangle((trapx-.5, trapy-.5), 1, 1, fill=True, color='black'))\n",
    "\n",
    "for (pathx,pathy) in trajectory:\n",
    "    ax.add_patch(Rectangle((pathx-.5, pathy-.5), 1, 1, fill=True, color='blue', alpha = .1))\n",
    "    \n",
    "ax.add_patch(Rectangle((trajectory[0][0]-.5, trajectory[0][1]-.5), 1, 1, fill=True, color='blue'))\n",
    "\n",
    "\n",
    "# grid lines\n",
    "for x in xs:\n",
    "    plt.plot([x, x], [ys[0], ys[-1]], color = \"black\")\n",
    "for y in ys:\n",
    "    plt.plot([xs[0], xs[-1]], [y, y], color = \"black\")\n",
    "\n",
    "#labeled values\n",
    "#for (statex, statey), actionDict in policy.items():\n",
    "#   for (optimalActionX, optimalActionY) in actionDict.keys():\n",
    "#        plt.arrow(statex, statey, optimalActionX*.2, optimalActionY*.2, head_width=0.05, head_length=0.1)    \n",
    "\n",
    "plt.show()"
   ]
  },
  {
   "cell_type": "code",
   "execution_count": null,
   "metadata": {},
   "outputs": [],
   "source": []
  },
  {
   "cell_type": "code",
   "execution_count": null,
   "metadata": {},
   "outputs": [],
   "source": []
  }
 ],
 "metadata": {
  "kernelspec": {
   "display_name": "Python 3",
   "language": "python",
   "name": "python3"
  },
  "language_info": {
   "codemirror_mode": {
    "name": "ipython",
    "version": 3
   },
   "file_extension": ".py",
   "mimetype": "text/x-python",
   "name": "python",
   "nbconvert_exporter": "python",
   "pygments_lexer": "ipython3",
   "version": "3.6.6"
  },
  "toc": {
   "base_numbering": 1,
   "nav_menu": {},
   "number_sections": true,
   "sideBar": true,
   "skip_h1_title": false,
   "title_cell": "Table of Contents",
   "title_sidebar": "Contents",
   "toc_cell": false,
   "toc_position": {},
   "toc_section_display": true,
   "toc_window_display": false
  }
 },
 "nbformat": 4,
 "nbformat_minor": 2
}
