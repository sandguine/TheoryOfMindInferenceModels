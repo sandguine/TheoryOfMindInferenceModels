{
 "cells": [
  {
   "cell_type": "markdown",
   "metadata": {
    "ExecuteTime": {
     "end_time": "2019-11-21T18:23:22.741750Z",
     "start_time": "2019-11-21T18:23:22.701967Z"
    }
   },
   "source": [
    "# POMDPs\n",
    "## Introduction\n",
    "Recall that an MDP is defined by the tuple $\\langle \\mathcal{S}, \\mathcal{A}, \\mathcal{T}, \\mathcal{R} , \\gamma \\rangle$ , where $\\mathcal{S}$ is the state set, $\\mathcal{A}$ is the action set, $\\mathcal{T}$ is the transition, a mapping from $\\mathcal{S} \\times \\mathcal{A}$ to a probability distribution over the $\\mathcal{S}$ with non-zero probabilities assigned to possible next states and $\\mathcal{R}$ is a reward function mapping $\\mathcal{S} \\times \\mathcal{A} \\times \\mathcal{S}$ to the real numbers corresponding to the instantaneous rewards received for that state, action, next state tuple.\n",
    "\n",
    "When the state is not completely observable, we also must model observations alongside our incomplete information about the world. Here, because there is some uncertainty in which state we are in, we use the observations gathered from taking an action in whatever state we might be in to augment the information that we currently have about our state position. Now we have a finite set of possible observations $\\Omega$, mapping $\\mathcal{A} \\times \\mathcal{S}$ into discrete probability distributions over $\\Omega$. We also have $\\mathcal{O}$, a function of observation probabilities $P(o|s, a)$, for the probability of making observation o from state s after having taken action a. Thus our POMDP is defined by the tuple $\\langle \\mathcal{S}, \\mathcal{A}, \\mathcal{T}, \\mathcal{R} , \\Omega, \\mathcal{O}, \\gamma \\rangle$\n",
    "\n",
    "## Solving POMDPs\n",
    "Instead of solving directly for the POMDP formulation above, we introduce a probabilistic representation of the agent's internal belief of what state it is in. Each belief state is a distribution over the entire state set where each probability corresponds to the strength of the agent's belief it is in a particular state. To solve the POMDP, we can model it as an MDP over the belief states. Here, the set of all possible belief states is the new state set of the MDP, the actions remain the same, and we need only create a transition over beliefs and a reward funciton over beliefs. However, even if the original state space of the POMDP was discrete, the new belief state space consists of all possible mixtures of beliefs about which states the agent is most likely to be in, making it continuous. Continuous MDPs can no longer be solved by simple value iteration, and require approximation methods. \n",
    "\n",
    "To avoid this issue here, we constrain the belief space to have a small, finite number of possibilities, making it a special case, still solvable by our value iteration algorithm. \n",
    "\n",
    "## Components Unique to POMDPs\n",
    "Our new reward function can be derived as: \n",
    "\\begin{equation}\n",
    "    \\rho(b,a) = \\sum_{s \\in \\mathcal{S}} R(s,a)b(s)\n",
    "\\end{equation}\n",
    "Essentially, the summed reward of being in each possible state and taking the action, weighted by how likely being in that particular state is.\n",
    "\n",
    "The new transition is now a belief transition:\n",
    "\\begin{equation}\n",
    "    \\tau(b, a , b^\\prime ) = \\sum_{o \\in \\Omega} Pr(b^\\prime | b, a, o) Pr(o|a,b)\n",
    "\\end{equation}\n",
    "\n",
    "where $Pr(b^\\prime | b, a, o)$ is an indicator function of when $SE(b,a,o) = b^\\prime$ and: \n",
    "\\begin{equation}\n",
    "    SE_{s^\\prime}(b,a,o) = \\frac{Pr(o|s,a) \\sum_{s \\in \\mathcal{S}} T(s,a,s^\\prime) b(s)}{Pr(o|a,b)}\n",
    "\\end{equation}\n",
    "\n",
    "## Setup\n",
    "We consider an environment with two possible goal states, labeled 1 and 2 in green. One will give a reward (heaven) and the other a large cost (hell), but the agent does not know which is which to begin with. Each action also incurs a small cost. In the environment, there is also a sign, placed in the bottom right hand corner of the environment. This sign is only visible to the agent from any of the orange states below the barrier. Once the agent sees the sign, it receives the observation of the correct goal state with probability 1. We are interested in creating a policy mapping belief states to actions for each state in this environment.\n",
    "\n",
    "![title](pomdpEnvironment.png)\n",
    "\n",
    "Based on this policy, we would expect that if the agent started in the initial blue state labeled 0 with no information about which goal was the rewarding one, it should take information seeking actions, as the cost of gathering that information is much lower than the risk of traveling to the wrong goal.\n",
    "\n",
    "This demo makes some simplifying assumptions: first that the position transition function is deterministic and fully observable. That is if an agent takes action (-1, 0) in position (3,2), its next position is (2,2) with probability 1 and it knows this. There is no chance that it will move to any other position. Second, the agent's observation of the sign is perfect. The agent sees what is written on the sign and reads it correctly with probability 1 from any of the orange spaces. This allows us to hugely reduce the belief state space, treating a continuous problem as a discrete one. \n",
    "\n",
    "The the state can now be thought of as having two distinct pieces: a position (xy-coordinate) and a belief about the world it is in. The resulting complete set of states is reduced to $|\\textrm{positions}| \\times |\\textrm{world beliefs}|$. Here on the 5 by 5 grid with a 3 block barrier, there are 22 positions and three world beliefs. You believe you are in the world where the block labeled 1 is heaven, world 1; you believe you are in the world where the block labeled 2 is heaven, world 2; or you are agnostic and believe heaven is equally likely to be behind either label because you have no information. For convenience, we remap each of these belief states to a single number: the probability that the door labeled 1 is heaven.\n",
    "\n",
    "We define the belief state to be .5 when $p(world1) = .5$ (we do not know), 1 if $p(\\textrm{being in world 1}) = 1$ (world 1), and 0 if $p(\\textrm{being in world 1}) = 0$ (world 2). Thus, initially, if the agent has not seen the sign, its belief will be 0.5 and only after having received an observation in a sign state can it transition to either 1 (you're in world 1) or 0 (you're in world 2).\n",
    "\n",
    "## Included in the Demo\n",
    "In this demo, we set up the problem as above with the corresponding transition, reward, belief transition, and belief reward. Our observation set is limited to the states below the barrier and we update the transition function accordingly. We have also included visualizations of the process and a sampled trajectory according to the resulting POMDP generated policy at the end."
   ]
  },
  {
   "cell_type": "code",
   "execution_count": 1,
   "metadata": {
    "ExecuteTime": {
     "end_time": "2019-11-21T20:03:34.533417Z",
     "start_time": "2019-11-21T20:03:34.383023Z"
    }
   },
   "outputs": [],
   "source": [
    "import itertools\n",
    "import numpy as np \n",
    "\n",
    "from setupPOMDP import SetupBeliefTransition, SetupRewardBeliefTable\n",
    "\n",
    "import sys\n",
    "sys.path.append('../')\n",
    "from ValueIteration import DeterministicValueIteration\n",
    "from SetupTransitionTable import SetupDeterministicTransitionByStateSet\n",
    "from SetupRewardTable import SetupStateActionRewardTableWithDistanceMoveCost\n",
    "\n",
    "from visualizations import *"
   ]
  },
  {
   "cell_type": "markdown",
   "metadata": {},
   "source": [
    "# Environment Setup"
   ]
  },
  {
   "cell_type": "code",
   "execution_count": 2,
   "metadata": {
    "ExecuteTime": {
     "end_time": "2019-11-21T20:03:34.538054Z",
     "start_time": "2019-11-21T20:03:34.534778Z"
    }
   },
   "outputs": [],
   "source": [
    "# Actions correspond cardinal directions and (0,0) means stay\n",
    "allActions = [(1,0), (0,1), (-1,0), (0,-1), (0,0)]\n",
    "\n",
    "#all location states in grid\n",
    "gridWidth = 5\n",
    "gridHeight = 5\n",
    "gridSet = set(itertools.product(range(gridWidth), range(gridHeight)))\n",
    "#set of states to remove from each environment\n",
    "barriersC = {(2,1), (3,1), (4,1)}\n",
    "\n",
    "#final environment state sets\n",
    "stateSetC = list(gridSet.difference(barriersC))\n",
    "\n",
    "#goal locations\n",
    "world1Goal = (0,4)\n",
    "world2Goal = (4,4)"
   ]
  },
  {
   "cell_type": "code",
   "execution_count": 3,
   "metadata": {
    "ExecuteTime": {
     "end_time": "2019-11-21T20:03:34.643954Z",
     "start_time": "2019-11-21T20:03:34.539477Z"
    },
    "scrolled": false
   },
   "outputs": [
    {
     "data": {
      "image/png": "[encoded data removed]",
      "text/plain": [
       "<Figure size 432x432 with 1 Axes>"
      ]
     },
     "metadata": {
      "needs_background": "light"
     },
     "output_type": "display_data"
    }
   ],
   "source": [
    "visualizeEnvironmentByState(stateSetC, goalStates = [world1Goal, world2Goal], trapStates = [], trajectory = [(3,2)], goalNameDictionary = {(0,4): \"1\", (4,4):\"2\"})"
   ]
  },
  {
   "cell_type": "markdown",
   "metadata": {},
   "source": [
    "# Belief Transition Setup"
   ]
  },
  {
   "cell_type": "code",
   "execution_count": 4,
   "metadata": {
    "ExecuteTime": {
     "end_time": "2019-11-21T20:03:34.668664Z",
     "start_time": "2019-11-21T20:03:34.645319Z"
    }
   },
   "outputs": [],
   "source": [
    "#First build the position environment transition\n",
    "getTransition = SetupDeterministicTransitionByStateSet(stateSetC, allActions)\n",
    "environmentCTransitionTable = getTransition()\n",
    "\n",
    "# Then build the belief transition\n",
    "positionSet = stateSetC\n",
    "beliefSet = [0,.5,1]  #our three belief states\n",
    "observeSign = [(0,0), (1,0), (2,0), (3,0), (4,0)] #the positions where we will receive observations\n",
    "\n",
    "getBeliefTransition = SetupBeliefTransition(positionSet, beliefSet, allActions, observeSign)\n",
    "beliefTransitionTable = getBeliefTransition()"
   ]
  },
  {
   "cell_type": "markdown",
   "metadata": {
    "ExecuteTime": {
     "end_time": "2019-11-21T18:54:10.508175Z",
     "start_time": "2019-11-21T18:54:10.485554Z"
    }
   },
   "source": [
    "Key transition examples"
   ]
  },
  {
   "cell_type": "code",
   "execution_count": 5,
   "metadata": {
    "ExecuteTime": {
     "end_time": "2019-11-21T20:03:34.672984Z",
     "start_time": "2019-11-21T20:03:34.669955Z"
    }
   },
   "outputs": [
    {
     "name": "stdout",
     "output_type": "stream",
     "text": [
      "Start state (1,1), belief .5 \n",
      "\n",
      "action: (1, 0)\n",
      "\tnext state: ((1, 1), 0.5)\n",
      "\t\tprobability: 1\n",
      "action: (0, 1)\n",
      "\tnext state: ((1, 2), 0.5)\n",
      "\t\tprobability: 1\n",
      "action: (-1, 0)\n",
      "\tnext state: ((0, 1), 0.5)\n",
      "\t\tprobability: 1\n",
      "action: (0, -1)\n",
      "\tnext state: ((1, 0), 1)\n",
      "\t\tprobability: 0.5\n",
      "\tnext state: ((1, 0), 0)\n",
      "\t\tprobability: 0.5\n",
      "action: (0, 0)\n",
      "\tnext state: ((1, 1), 0.5)\n",
      "\t\tprobability: 1\n"
     ]
    }
   ],
   "source": [
    "# from position (1,1) with agnositic beliefs about where heaven is, if the agent moves down it will be in a \n",
    "# position to see the sign, thus its beliefs MUST transition to either world 1 or world 2.\n",
    "print('Start state (1,1), belief .5 \\n')\n",
    "viewDictionaryStructure(beliefTransitionTable[((1,1),.5)], 't_key')"
   ]
  },
  {
   "cell_type": "code",
   "execution_count": 6,
   "metadata": {
    "ExecuteTime": {
     "end_time": "2019-11-21T20:03:34.677261Z",
     "start_time": "2019-11-21T20:03:34.674404Z"
    }
   },
   "outputs": [
    {
     "name": "stdout",
     "output_type": "stream",
     "text": [
      "Start state (1,1), belief 1 \n",
      "\n",
      "action: (1, 0)\n",
      "\tnext state: ((1, 1), 1)\n",
      "\t\tprobability: 1\n",
      "action: (0, 1)\n",
      "\tnext state: ((1, 2), 1)\n",
      "\t\tprobability: 1\n",
      "action: (-1, 0)\n",
      "\tnext state: ((0, 1), 1)\n",
      "\t\tprobability: 1\n",
      "action: (0, -1)\n",
      "\tnext state: ((1, 0), 1)\n",
      "\t\tprobability: 1\n",
      "action: (0, 0)\n",
      "\tnext state: ((1, 1), 1)\n",
      "\t\tprobability: 1\n"
     ]
    }
   ],
   "source": [
    "# However, from position (1,1) if the belief state is already 1, \n",
    "#if the agent moves down it will be in a position to see the sign, \n",
    "#but it already has all the information the sign has to give as the only way to be in belief state 1 is to \n",
    "# KNOW that the p(world 1) = 1 (i.e. heaven is behind door 1)\n",
    "print('Start state (1,1), belief 1 \\n')\n",
    "viewDictionaryStructure(beliefTransitionTable[((1,1),1)], 't_key')"
   ]
  },
  {
   "cell_type": "markdown",
   "metadata": {},
   "source": [
    "# Belief Reward Setup"
   ]
  },
  {
   "cell_type": "markdown",
   "metadata": {},
   "source": [
    "## Typical Reward - State action based"
   ]
  },
  {
   "cell_type": "code",
   "execution_count": 7,
   "metadata": {
    "ExecuteTime": {
     "end_time": "2019-11-21T20:03:34.682254Z",
     "start_time": "2019-11-21T20:03:34.679392Z"
    }
   },
   "outputs": [],
   "source": [
    "#the reward structure if we were in world 1: Heaven is behind door 1\n",
    "getWorld1Reward = SetupStateActionRewardTableWithDistanceMoveCost(stateSetC, allActions, [world1Goal], [world2Goal])\n",
    "rewardofWorld1 = getWorld1Reward(50,-50)\n",
    "\n",
    "#the reward structure if we were in world 2: Heaven is behind door 2\n",
    "getWorld2Reward = SetupStateActionRewardTableWithDistanceMoveCost(stateSetC, allActions,[world2Goal], [world1Goal])\n",
    "rewardofWorld2 = getWorld2Reward(50,-50)"
   ]
  },
  {
   "cell_type": "markdown",
   "metadata": {},
   "source": [
    "## Belief Reward Rho"
   ]
  },
  {
   "cell_type": "code",
   "execution_count": 8,
   "metadata": {
    "ExecuteTime": {
     "end_time": "2019-11-21T20:03:34.688257Z",
     "start_time": "2019-11-21T20:03:34.683377Z"
    }
   },
   "outputs": [],
   "source": [
    "getRewardBeliefs = SetupRewardBeliefTable(positionSet, beliefSet, allActions)\n",
    "rhoReward = getRewardBeliefs(beliefTransitionTable, [rewardofWorld1, rewardofWorld2])"
   ]
  },
  {
   "cell_type": "markdown",
   "metadata": {
    "ExecuteTime": {
     "end_time": "2019-11-21T19:37:36.790667Z",
     "start_time": "2019-11-21T19:37:36.782172Z"
    }
   },
   "source": [
    "Key belief reward examples - what the reward of door 1 is depending on what the belief state is"
   ]
  },
  {
   "cell_type": "code",
   "execution_count": 9,
   "metadata": {
    "ExecuteTime": {
     "end_time": "2019-11-21T20:03:34.691819Z",
     "start_time": "2019-11-21T20:03:34.689352Z"
    },
    "scrolled": true
   },
   "outputs": [
    {
     "name": "stdout",
     "output_type": "stream",
     "text": [
      "Start state (0,3), belief 1 \n",
      "\n",
      "action: (1, 0)\n",
      "\tnext state: ((1, 4), 1)\n",
      "\t\treward: 50\n",
      "action: (0, 1)\n",
      "\tnext state: ((0, 4), 1)\n",
      "\t\treward: 50\n",
      "action: (-1, 0)\n",
      "\tnext state: ((0, 4), 1)\n",
      "\t\treward: 50\n",
      "action: (0, -1)\n",
      "\tnext state: ((0, 3), 1)\n",
      "\t\treward: 50\n",
      "action: (0, 0)\n",
      "\tnext state: ((0, 4), 1)\n",
      "\t\treward: 50.0\n"
     ]
    }
   ],
   "source": [
    "print('Start state (0,3), belief 1 \\n')\n",
    "viewDictionaryStructure(rhoReward[((0,4),1)], 'r_key')"
   ]
  },
  {
   "cell_type": "code",
   "execution_count": 10,
   "metadata": {
    "ExecuteTime": {
     "end_time": "2019-11-21T20:03:34.695436Z",
     "start_time": "2019-11-21T20:03:34.693097Z"
    }
   },
   "outputs": [
    {
     "name": "stdout",
     "output_type": "stream",
     "text": [
      "Start state (0,3), belief .5 \n",
      "\n",
      "action: (1, 0)\n",
      "\tnext state: ((1, 4), 0.5)\n",
      "\t\treward: -0.5\n",
      "action: (0, 1)\n",
      "\tnext state: ((0, 4), 0.5)\n",
      "\t\treward: -0.5\n",
      "action: (-1, 0)\n",
      "\tnext state: ((0, 4), 0.5)\n",
      "\t\treward: -0.5\n",
      "action: (0, -1)\n",
      "\tnext state: ((0, 3), 0.5)\n",
      "\t\treward: -0.5\n",
      "action: (0, 0)\n",
      "\tnext state: ((0, 4), 0.5)\n",
      "\t\treward: -0.05000000000000071\n"
     ]
    }
   ],
   "source": [
    "print('Start state (0,3), belief .5 \\n')\n",
    "viewDictionaryStructure(rhoReward[((0,4),.5)], 'r_key')"
   ]
  },
  {
   "cell_type": "code",
   "execution_count": 11,
   "metadata": {
    "ExecuteTime": {
     "end_time": "2019-11-21T20:03:34.700798Z",
     "start_time": "2019-11-21T20:03:34.696899Z"
    }
   },
   "outputs": [
    {
     "name": "stdout",
     "output_type": "stream",
     "text": [
      "Start state (0,3), belief 0 \n",
      "\n",
      "action: (1, 0)\n",
      "\tnext state: ((1, 4), 0)\n",
      "\t\treward: -51\n",
      "action: (0, 1)\n",
      "\tnext state: ((0, 4), 0)\n",
      "\t\treward: -51\n",
      "action: (-1, 0)\n",
      "\tnext state: ((0, 4), 0)\n",
      "\t\treward: -51\n",
      "action: (0, -1)\n",
      "\tnext state: ((0, 3), 0)\n",
      "\t\treward: -51\n",
      "action: (0, 0)\n",
      "\tnext state: ((0, 4), 0)\n",
      "\t\treward: -50.1\n"
     ]
    }
   ],
   "source": [
    "print('Start state (0,3), belief 0 \\n')\n",
    "viewDictionaryStructure(rhoReward[((0,4),0)], 'r_key')"
   ]
  },
  {
   "cell_type": "markdown",
   "metadata": {},
   "source": [
    "# Value Iteration\n",
    "It is important to note that value iteration is a dynamic programming method, creating a plan for all possible scenarios. Thus, in this step and all of the previous ones, we do NOT need to know what the actual observation/world is. We have a plan for either once we encounter the actual world with the sign. Thus, until we sample a trajectory in the world,we do not decide what the sign should say."
   ]
  },
  {
   "cell_type": "code",
   "execution_count": 12,
   "metadata": {
    "ExecuteTime": {
     "end_time": "2019-11-21T20:03:35.387762Z",
     "start_time": "2019-11-21T20:03:34.701874Z"
    }
   },
   "outputs": [],
   "source": [
    "valueTable = {state:0 for state in beliefTransitionTable.keys()}\n",
    "\n",
    "getPolicyA = DeterministicValueIteration(beliefTransitionTable, rhoReward, valueTable, 10e-7)\n",
    "optimalValuesA, policyA = getPolicyA()"
   ]
  },
  {
   "cell_type": "markdown",
   "metadata": {},
   "source": [
    "The visualization function is a 2D position representation, so we can only observe one belief state at a time for the entire set of position states\n",
    "\n",
    "Therefore, we present 3 position grids, each corresponding to a different belief state. The coloring of the heaven and hell doors represent which belief state the agent is in."
   ]
  },
  {
   "cell_type": "code",
   "execution_count": 13,
   "metadata": {
    "ExecuteTime": {
     "end_time": "2019-11-21T20:03:35.669860Z",
     "start_time": "2019-11-21T20:03:35.388922Z"
    },
    "scrolled": false
   },
   "outputs": [
    {
     "name": "stdout",
     "output_type": "stream",
     "text": [
      "Belief state = 1, heaven is behind door 1 at (0,4)\n"
     ]
    },
    {
     "data": {
      "image/png": "[encoded data removed]",
      "text/plain": [
       "<Figure size 432x432 with 1 Axes>"
      ]
     },
     "metadata": {
      "needs_background": "light"
     },
     "output_type": "display_data"
    },
    {
     "name": "stdout",
     "output_type": "stream",
     "text": [
      "Belief state = .5, location of heaven is unknown\n"
     ]
    },
    {
     "data": {
      "image/png": "[encoded data removed]",
      "text/plain": [
       "<Figure size 432x432 with 1 Axes>"
      ]
     },
     "metadata": {
      "needs_background": "light"
     },
     "output_type": "display_data"
    },
    {
     "name": "stdout",
     "output_type": "stream",
     "text": [
      "Belief state = 0, heaven is behind door 2 at (4,4)\n"
     ]
    },
    {
     "data": {
      "image/png": "[encoded data removed]",
      "text/plain": [
       "<Figure size 432x432 with 1 Axes>"
      ]
     },
     "metadata": {
      "needs_background": "light"
     },
     "output_type": "display_data"
    }
   ],
   "source": [
    "print('Belief state = 1, heaven is behind door 1 at (0,4)')\n",
    "visualizePolicyOfBeliefByState(positionSet,policyA, 1,[world1Goal], [world2Goal])\n",
    "print('Belief state = .5, location of heaven is unknown')\n",
    "visualizePolicyOfBeliefByState(positionSet,policyA, .5,[world1Goal,world2Goal], [])\n",
    "print('Belief state = 0, heaven is behind door 2 at (4,4)')\n",
    "visualizePolicyOfBeliefByState(positionSet,policyA, 0,[world2Goal], [world1Goal])"
   ]
  },
  {
   "cell_type": "markdown",
   "metadata": {
    "ExecuteTime": {
     "end_time": "2019-11-21T19:42:00.211231Z",
     "start_time": "2019-11-21T19:42:00.208037Z"
    }
   },
   "source": [
    "# Path Sampling\n",
    "At this point we might want to put our agent in a scenario where it must actually move in an environment, collect an observation, and decide how to act on it. Thus we can use the samplePathToGoal function, to sample from our trnasition and policy to see how the agent will act."
   ]
  },
  {
   "cell_type": "code",
   "execution_count": 14,
   "metadata": {
    "ExecuteTime": {
     "end_time": "2019-11-21T20:03:35.676283Z",
     "start_time": "2019-11-21T20:03:35.671098Z"
    }
   },
   "outputs": [],
   "source": [
    "\"\"\"\n",
    "    INPUTS: position, belief are the intial locational position and beliefs the agent has\n",
    "            policy - the policy the agent follows\n",
    "            transition - the belief transition describing the dynamics of the world\n",
    "            goals -  list of location of the possible goals in the world\n",
    "            observationOnSign - the TRUE world, representat as p(world1) = heaven, either 1 or 0\n",
    "                This constrains our transition when we observe the sign.\n",
    "    OUTPUTS: a list of position trajectories starting from the initial\n",
    "            \n",
    "\"\"\"\n",
    "def samplePathToGoal(position, belief, policy, transition, goals, trueProbHeavenBehindDoor1):\n",
    "    if belief != .5:\n",
    "        assert belief == trueProbHeavenBehindDoor1, \"the intial belief state is inconsistent with the observable signage\"\n",
    "    trajectory = [(position, belief)]\n",
    "\n",
    "    while position not in goals:\n",
    "        #take action probabilisitically\n",
    "        actions = list(policy[(position, belief)].keys())\n",
    "        probOfAction = [policy[(position, belief)][action] for action in actions]\n",
    "        actionIndex = np.random.choice(len(actions), 1, p = probOfAction)\n",
    "        sampledAction = actions[int(actionIndex)]\n",
    "        \n",
    "        #get new position and belief\n",
    "        if len(list(transition[(position, belief)][sampledAction].keys())) > 1:\n",
    "            newBelief = trueProbHeavenBehindDoor1\n",
    "        else:\n",
    "            newBelief = list(transition[(position, belief)][sampledAction].keys())[0][1]\n",
    "        newPosition = list(transition[(position, belief)][sampledAction].keys())[0][0]        \n",
    "        \n",
    "        #update to new belief/position and add to trajectory\n",
    "        belief = newBelief\n",
    "        position = newPosition\n",
    "        trajectory.append((position, belief))\n",
    "    return(trajectory)"
   ]
  },
  {
   "cell_type": "code",
   "execution_count": 15,
   "metadata": {
    "ExecuteTime": {
     "end_time": "2019-11-21T20:03:35.681371Z",
     "start_time": "2019-11-21T20:03:35.677755Z"
    }
   },
   "outputs": [],
   "source": [
    "# User specified\n",
    "startXYPosition = (3,2)\n",
    "startBelief = .5 # or 0, or 1 if already knows content of sign\n",
    "signInfo = 1 # or 1, probability of door 1 being heaven, must be consistent with starting belief"
   ]
  },
  {
   "cell_type": "code",
   "execution_count": 16,
   "metadata": {
    "ExecuteTime": {
     "end_time": "2019-11-21T20:03:35.790070Z",
     "start_time": "2019-11-21T20:03:35.683339Z"
    }
   },
   "outputs": [
    {
     "data": {
      "image/png": "[encoded data removed]",
      "text/plain": [
       "<Figure size 432x432 with 1 Axes>"
      ]
     },
     "metadata": {
      "needs_background": "light"
     },
     "output_type": "display_data"
    }
   ],
   "source": [
    "# sample a trajectory and visualize it\n",
    "path = samplePathToGoal(startXYPosition, startBelief, policyA, beliefTransitionTable, [world1Goal, world2Goal], signInfo)\n",
    "xyPositionTrajectory = [pos for pos, belief in path]\n",
    "visualizeEnvironmentByState(stateSetC, goalStates = [world1Goal, world2Goal], trapStates = [], trajectory = xyPositionTrajectory, goalNameDictionary = {(4,3): \"1\", (4,4):\"2\"})"
   ]
  }
 ],
 "metadata": {
  "kernelspec": {
   "display_name": "Python 3",
   "language": "python",
   "name": "python3"
  },
  "language_info": {
   "codemirror_mode": {
    "name": "ipython",
    "version": 3
   },
   "file_extension": ".py",
   "mimetype": "text/x-python",
   "name": "python",
   "nbconvert_exporter": "python",
   "pygments_lexer": "ipython3",
   "version": "3.6.8"
  },
  "toc": {
   "base_numbering": 1,
   "nav_menu": {},
   "number_sections": true,
   "sideBar": true,
   "skip_h1_title": false,
   "title_cell": "Table of Contents",
   "title_sidebar": "Contents",
   "toc_cell": false,
   "toc_position": {},
   "toc_section_display": true,
   "toc_window_display": true
  }
 },
 "nbformat": 4,
 "nbformat_minor": 2
}
