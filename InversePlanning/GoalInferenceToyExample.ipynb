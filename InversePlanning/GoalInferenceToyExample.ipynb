{
 "cells": [
  {
   "cell_type": "code",
   "execution_count": 1,
   "metadata": {
    "ExecuteTime": {
     "end_time": "2019-02-23T21:28:08.576703Z",
     "start_time": "2019-02-23T21:28:08.441451Z"
    }
   },
   "outputs": [],
   "source": [
    "import numpy as np\n",
    "import matplotlib.pyplot as plt\n",
    "from matplotlib.patches import Rectangle\n",
    "import math\n",
    "import itertools\n",
    "\n",
    "from BoltzmannValueIteration import BoltzmannValueIteration\n",
    "from SetupDeterministicTransition import *\n",
    "from SetupRewardTable import *\n",
    "from GoalInferenceVisualizations import *"
   ]
  },
  {
   "cell_type": "markdown",
   "metadata": {},
   "source": [
    "# Toy Example"
   ]
  },
  {
   "cell_type": "code",
   "execution_count": 2,
   "metadata": {
    "ExecuteTime": {
     "end_time": "2019-02-23T21:28:17.499043Z",
     "start_time": "2019-02-23T21:28:17.496437Z"
    }
   },
   "outputs": [],
   "source": [
    "gridWidth = 3\n",
    "gridHeight = 3\n",
    "allActions = [(1,0), (0,1), (-1,0), (0,-1), (-1,1), (1,-1), (1,1), (-1,-1)]\n",
    "toyTraps = [(0,1)]\n",
    "toyGoalA = (0,2)\n",
    "\n",
    "gamma = .95\n",
    "beta = .4\n",
    "convergenceThreshold = 10e-7"
   ]
  },
  {
   "cell_type": "code",
   "execution_count": 3,
   "metadata": {
    "ExecuteTime": {
     "end_time": "2019-02-23T21:28:18.530150Z",
     "start_time": "2019-02-23T21:28:18.526839Z"
    }
   },
   "outputs": [],
   "source": [
    "getToyTransition = SetupDeterministicTransition(gridWidth, gridHeight, allActions)\n",
    "toyTransition = getToyTransition()\n",
    "\n",
    "getToyRewardA = SetupRewardTable(toyTransition, allActions, toyGoalA, toyTraps)\n",
    "toyRewardA = getToyRewardA()\n",
    "\n",
    "toyValueA = {state:0 for state in toyRewardA.keys()}"
   ]
  },
  {
   "cell_type": "code",
   "execution_count": 4,
   "metadata": {
    "ExecuteTime": {
     "end_time": "2019-02-23T21:28:19.287300Z",
     "start_time": "2019-02-23T21:28:19.259984Z"
    }
   },
   "outputs": [],
   "source": [
    "getToyPolicyA = BoltzmannValueIteration(toyTransition, toyRewardA, toyValueA, convergenceThreshold, gamma, beta)\n",
    "optimalToyValuesA, toyPolicyA = getToyPolicyA()"
   ]
  },
  {
   "cell_type": "code",
   "execution_count": 5,
   "metadata": {
    "ExecuteTime": {
     "end_time": "2019-02-23T21:28:20.497150Z",
     "start_time": "2019-02-23T21:28:20.490683Z"
    },
    "scrolled": true
   },
   "outputs": [
    {
     "data": {
      "text/plain": [
       "{(0, 0): {(1, 0): 0.03564342039368153,\n",
       "  (0, 1): 8.67769139021682e-17,\n",
       "  (-1, 0): 0.02437515969957158,\n",
       "  (0, -1): 0.02437515969957158,\n",
       "  (-1, 1): 0.016339158171942907,\n",
       "  (1, -1): 0.016339158171942907,\n",
       "  (1, 1): 0.8665887856913465,\n",
       "  (-1, -1): 0.016339158171942907},\n",
       " (0, 1): {(1, 0): 0.014733064750494889,\n",
       "  (0, 1): 0.963039014537424,\n",
       "  (-1, 0): 9.889320251873724e-19,\n",
       "  (0, -1): 0.00027778558791730415,\n",
       "  (-1, 1): 9.889320251873724e-19,\n",
       "  (1, -1): 0.00040620158437839796,\n",
       "  (1, 1): 0.02154393353978517,\n",
       "  (-1, -1): 9.889320251873724e-19},\n",
       " (0, 2): {(1, 0): 0.005532411233177468,\n",
       "  (0, 1): 0.24730524962751022,\n",
       "  (-1, 0): 0.24730524962751022,\n",
       "  (0, -1): 2.53954489550016e-19,\n",
       "  (-1, 1): 0.16577366631516696,\n",
       "  (1, -1): 0.002536090566301129,\n",
       "  (1, 1): 0.16577366631516696,\n",
       "  (-1, -1): 0.16577366631516696},\n",
       " (1, 0): {(1, 0): 0.01682357352336302,\n",
       "  (0, 1): 0.8922806917733611,\n",
       "  (-1, 0): 0.01682356799139129,\n",
       "  (0, -1): 0.024600844213110262,\n",
       "  (-1, 1): 4.014736497549751e-17,\n",
       "  (1, -1): 0.016490439025447685,\n",
       "  (1, 1): 0.016490444447879036,\n",
       "  (-1, -1): 0.016490439025447685},\n",
       " (1, 1): {(1, 0): 0.0006074827692651844,\n",
       "  (0, 1): 0.03221938221672049,\n",
       "  (-1, 0): 1.4789675639792852e-18,\n",
       "  (0, -1): 0.0006074825695111012,\n",
       "  (-1, 1): 0.9654244580455458,\n",
       "  (1, -1): 0.0002784737531955063,\n",
       "  (1, 1): 0.000584246984134989,\n",
       "  (-1, -1): 0.00027847366162703376},\n",
       " (1, 2): {(1, 0): 0.0005663488186386995,\n",
       "  (0, 1): 0.02093567345728482,\n",
       "  (-1, 0): 0.9358490777809066,\n",
       "  (0, -1): 0.014317099153308676,\n",
       "  (-1, 1): 0.014033601595674391,\n",
       "  (1, -1): 0.0002645975985126223,\n",
       "  (1, 1): 0.014033601595674391,\n",
       "  (-1, -1): 6.441849637650426e-19},\n",
       " (2, 0): {(1, 0): 0.0235362540833882,\n",
       "  (0, 1): 0.03441670163914674,\n",
       "  (-1, 0): 0.034416690322156315,\n",
       "  (0, -1): 0.0235362540833882,\n",
       "  (-1, 1): 0.8367636311098704,\n",
       "  (1, -1): 0.015776822920683303,\n",
       "  (1, 1): 0.015776822920683303,\n",
       "  (-1, -1): 0.015776822920683303},\n",
       " (2, 1): {(1, 0): 0.012995110999217852,\n",
       "  (0, 1): 0.01864491043173874,\n",
       "  (-1, 0): 0.47133678498243153,\n",
       "  (0, -1): 0.008886854920796146,\n",
       "  (-1, 1): 0.46200369132044933,\n",
       "  (1, -1): 0.008710883403233966,\n",
       "  (1, 1): 0.008710883403233966,\n",
       "  (-1, -1): 0.008710880538898355},\n",
       " (2, 2): {(1, 0): 0.017059188632076217,\n",
       "  (0, 1): 0.017059188632076217,\n",
       "  (-1, 0): 0.6306106605922188,\n",
       "  (0, -1): 0.011889896207441977,\n",
       "  (-1, 1): 0.011435116109184,\n",
       "  (1, -1): 0.011435116109184,\n",
       "  (1, 1): 0.011435116109184,\n",
       "  (-1, -1): 0.2890757176086349}}"
      ]
     },
     "execution_count": 5,
     "metadata": {},
     "output_type": "execute_result"
    }
   ],
   "source": [
    "toyPolicyA"
   ]
  },
  {
   "cell_type": "code",
   "execution_count": 7,
   "metadata": {
    "ExecuteTime": {
     "end_time": "2019-02-23T21:28:27.867512Z",
     "start_time": "2019-02-23T21:28:27.776267Z"
    }
   },
   "outputs": [
    {
     "data": {
      "image/png": "[encoded data removed]",
      "text/plain": [
       "<Figure size 259.2x259.2 with 1 Axes>"
      ]
     },
     "metadata": {
      "needs_background": "light"
     },
     "output_type": "display_data"
    }
   ],
   "source": [
    "visualizePolicy(gridWidth, gridHeight, toyGoalA, toyTraps, toyPolicyA)"
   ]
  },
  {
   "cell_type": "code",
   "execution_count": 8,
   "metadata": {
    "ExecuteTime": {
     "end_time": "2019-02-23T21:28:29.004546Z",
     "start_time": "2019-02-23T21:28:28.978882Z"
    }
   },
   "outputs": [],
   "source": [
    "toyGoalB = (2,0)\n",
    "getToyRewardB = SetupRewardTable(toyTransition, allActions, toyGoalB, toyTraps)\n",
    "toyRewardB = getToyRewardB()\n",
    "\n",
    "toyValueB = {state:0 for state in toyRewardB.keys()}\n",
    "\n",
    "getToyPolicyB = BoltzmannValueIteration(toyTransition, toyRewardB, toyValueB, convergenceThreshold, gamma, beta)\n",
    "optimalToyValuesB, toyPolicyB = getToyPolicyB()"
   ]
  },
  {
   "cell_type": "code",
   "execution_count": 9,
   "metadata": {
    "ExecuteTime": {
     "end_time": "2019-02-23T21:28:29.828239Z",
     "start_time": "2019-02-23T21:28:29.752338Z"
    }
   },
   "outputs": [
    {
     "data": {
      "image/png": "[encoded data removed]",
      "text/plain": [
       "<Figure size 259.2x259.2 with 1 Axes>"
      ]
     },
     "metadata": {
      "needs_background": "light"
     },
     "output_type": "display_data"
    }
   ],
   "source": [
    "visualizePolicy(gridWidth, gridHeight, toyGoalB, toyTraps, toyPolicyB)"
   ]
  },
  {
   "cell_type": "code",
   "execution_count": 10,
   "metadata": {
    "ExecuteTime": {
     "end_time": "2019-02-23T21:28:35.371947Z",
     "start_time": "2019-02-23T21:28:35.367017Z"
    }
   },
   "outputs": [],
   "source": [
    "toyPolicies = [toyPolicyA, toyPolicyB]\n",
    "toyPriors = [.5, .5]\n",
    "toyTrajectory = [(0,0),(1,1),(0,2)]"
   ]
  },
  {
   "cell_type": "code",
   "execution_count": 11,
   "metadata": {
    "ExecuteTime": {
     "end_time": "2019-02-23T21:28:36.137922Z",
     "start_time": "2019-02-23T21:28:36.130138Z"
    }
   },
   "outputs": [
    {
     "data": {
      "text/plain": [
       "[{(0, 0): {(1, 0): 0.03564342039368153,\n",
       "   (0, 1): 8.67769139021682e-17,\n",
       "   (-1, 0): 0.02437515969957158,\n",
       "   (0, -1): 0.02437515969957158,\n",
       "   (-1, 1): 0.016339158171942907,\n",
       "   (1, -1): 0.016339158171942907,\n",
       "   (1, 1): 0.8665887856913465,\n",
       "   (-1, -1): 0.016339158171942907},\n",
       "  (0, 1): {(1, 0): 0.014733064750494889,\n",
       "   (0, 1): 0.963039014537424,\n",
       "   (-1, 0): 9.889320251873724e-19,\n",
       "   (0, -1): 0.00027778558791730415,\n",
       "   (-1, 1): 9.889320251873724e-19,\n",
       "   (1, -1): 0.00040620158437839796,\n",
       "   (1, 1): 0.02154393353978517,\n",
       "   (-1, -1): 9.889320251873724e-19},\n",
       "  (0, 2): {(1, 0): 0.005532411233177468,\n",
       "   (0, 1): 0.24730524962751022,\n",
       "   (-1, 0): 0.24730524962751022,\n",
       "   (0, -1): 2.53954489550016e-19,\n",
       "   (-1, 1): 0.16577366631516696,\n",
       "   (1, -1): 0.002536090566301129,\n",
       "   (1, 1): 0.16577366631516696,\n",
       "   (-1, -1): 0.16577366631516696},\n",
       "  (1, 0): {(1, 0): 0.01682357352336302,\n",
       "   (0, 1): 0.8922806917733611,\n",
       "   (-1, 0): 0.01682356799139129,\n",
       "   (0, -1): 0.024600844213110262,\n",
       "   (-1, 1): 4.014736497549751e-17,\n",
       "   (1, -1): 0.016490439025447685,\n",
       "   (1, 1): 0.016490444447879036,\n",
       "   (-1, -1): 0.016490439025447685},\n",
       "  (1, 1): {(1, 0): 0.0006074827692651844,\n",
       "   (0, 1): 0.03221938221672049,\n",
       "   (-1, 0): 1.4789675639792852e-18,\n",
       "   (0, -1): 0.0006074825695111012,\n",
       "   (-1, 1): 0.9654244580455458,\n",
       "   (1, -1): 0.0002784737531955063,\n",
       "   (1, 1): 0.000584246984134989,\n",
       "   (-1, -1): 0.00027847366162703376},\n",
       "  (1, 2): {(1, 0): 0.0005663488186386995,\n",
       "   (0, 1): 0.02093567345728482,\n",
       "   (-1, 0): 0.9358490777809066,\n",
       "   (0, -1): 0.014317099153308676,\n",
       "   (-1, 1): 0.014033601595674391,\n",
       "   (1, -1): 0.0002645975985126223,\n",
       "   (1, 1): 0.014033601595674391,\n",
       "   (-1, -1): 6.441849637650426e-19},\n",
       "  (2, 0): {(1, 0): 0.0235362540833882,\n",
       "   (0, 1): 0.03441670163914674,\n",
       "   (-1, 0): 0.034416690322156315,\n",
       "   (0, -1): 0.0235362540833882,\n",
       "   (-1, 1): 0.8367636311098704,\n",
       "   (1, -1): 0.015776822920683303,\n",
       "   (1, 1): 0.015776822920683303,\n",
       "   (-1, -1): 0.015776822920683303},\n",
       "  (2, 1): {(1, 0): 0.012995110999217852,\n",
       "   (0, 1): 0.01864491043173874,\n",
       "   (-1, 0): 0.47133678498243153,\n",
       "   (0, -1): 0.008886854920796146,\n",
       "   (-1, 1): 0.46200369132044933,\n",
       "   (1, -1): 0.008710883403233966,\n",
       "   (1, 1): 0.008710883403233966,\n",
       "   (-1, -1): 0.008710880538898355},\n",
       "  (2, 2): {(1, 0): 0.017059188632076217,\n",
       "   (0, 1): 0.017059188632076217,\n",
       "   (-1, 0): 0.6306106605922188,\n",
       "   (0, -1): 0.011889896207441977,\n",
       "   (-1, 1): 0.011435116109184,\n",
       "   (1, -1): 0.011435116109184,\n",
       "   (1, 1): 0.011435116109184,\n",
       "   (-1, -1): 0.2890757176086349}},\n",
       " {(0, 0): {(1, 0): 0.6381987923520087,\n",
       "   (0, 1): 7.92491274394585e-19,\n",
       "   (-1, 0): 0.01726445600099619,\n",
       "   (0, -1): 0.01726445600099619,\n",
       "   (-1, 1): 0.011572710941368053,\n",
       "   (1, -1): 0.011572710941368053,\n",
       "   (1, 1): 0.2925541628218946,\n",
       "   (-1, -1): 0.011572710941368053},\n",
       "  (0, 1): {(1, 0): 0.3924234933042891,\n",
       "   (0, 1): 0.007398975884934694,\n",
       "   (-1, 0): 7.125665210043395e-19,\n",
       "   (0, -1): 0.01552329186092355,\n",
       "   (-1, 1): 7.125665210043395e-19,\n",
       "   (1, -1): 0.5738348267908039,\n",
       "   (1, 1): 0.010819412159048714,\n",
       "   (-1, -1): 7.125665210043395e-19},\n",
       "  (0, 2): {(1, 0): 0.035643432291169015,\n",
       "   (0, 1): 0.024375159398849513,\n",
       "   (-1, 0): 0.024375159398849513,\n",
       "   (0, -1): 2.3474765699844954e-18,\n",
       "   (-1, 1): 0.016339157970362873,\n",
       "   (1, -1): 0.8665887750000434,\n",
       "   (1, 1): 0.016339157970362873,\n",
       "   (-1, -1): 0.016339157970362873},\n",
       "  (1, 0): {(1, 0): 0.9231384020187715,\n",
       "   (0, 1): 0.01412263982841908,\n",
       "   (-1, 0): 0.0005586563079016771,\n",
       "   (0, -1): 0.020651318583227274,\n",
       "   (-1, 1): 1.7189708215563053e-20,\n",
       "   (1, -1): 0.01384299282340548,\n",
       "   (1, 1): 0.01384299761486953,\n",
       "   (-1, -1): 0.01384299282340548},\n",
       "  (1, 1): {(1, 0): 0.031222822743808852,\n",
       "   (0, 1): 0.0005886928700313634,\n",
       "   (-1, 0): 3.87713143904478e-20,\n",
       "   (0, -1): 0.031222811936682335,\n",
       "   (-1, 1): 0.00026986025702838606,\n",
       "   (1, -1): 0.9355634606318033,\n",
       "   (1, 1): 0.000566175971393546,\n",
       "   (-1, -1): 0.0005661755892521683},\n",
       "  (1, 2): {(1, 0): 0.018808754615744754,\n",
       "   (0, 1): 0.013109302643854168,\n",
       "   (-1, 0): 0.008964943076788762,\n",
       "   (0, -1): 0.47547854381182375,\n",
       "   (-1, 1): 0.008787428351723464,\n",
       "   (1, -1): 0.46606359914834156,\n",
       "   (1, 1): 0.008787428351723464,\n",
       "   (-1, -1): 5.787400606534484e-19},\n",
       "  (2, 0): {(1, 0): 0.2459445837365669,\n",
       "   (0, 1): 0.005501972076422832,\n",
       "   (-1, 0): 0.00550197017203037,\n",
       "   (0, -1): 0.2459445837365669,\n",
       "   (-1, 1): 0.0025221362008807533,\n",
       "   (1, -1): 0.16486158469251075,\n",
       "   (1, 1): 0.16486158469251075,\n",
       "   (-1, -1): 0.16486158469251075},\n",
       "  (2, 1): {(1, 0): 0.02064593680991987,\n",
       "   (0, 1): 0.0005585109046453296,\n",
       "   (-1, 0): 0.014118954554358753,\n",
       "   (0, -1): 0.9228975109354909,\n",
       "   (-1, 1): 0.00026093564717563606,\n",
       "   (1, -1): 0.013839385312874503,\n",
       "   (1, 1): 0.013839385312874503,\n",
       "   (-1, -1): 0.013839380522660778},\n",
       "  (2, 2): {(1, 0): 0.01705919040567213,\n",
       "   (0, 1): 0.01705919040567213,\n",
       "   (-1, 0): 0.011889893533933703,\n",
       "   (0, -1): 0.6306107261550373,\n",
       "   (-1, 1): 0.011435117298060894,\n",
       "   (1, -1): 0.011435117298060894,\n",
       "   (1, 1): 0.011435117298060894,\n",
       "   (-1, -1): 0.28907564760550203}}]"
      ]
     },
     "execution_count": 11,
     "metadata": {},
     "output_type": "execute_result"
    }
   ],
   "source": [
    "toyPolicies"
   ]
  },
  {
   "cell_type": "code",
   "execution_count": 12,
   "metadata": {
    "ExecuteTime": {
     "end_time": "2019-02-23T21:28:43.941975Z",
     "start_time": "2019-02-23T21:28:43.936740Z"
    }
   },
   "outputs": [],
   "source": [
    "class PerformGoalInference(object):\n",
    "    def __init__(self, transitionTable, goalPolicies, goalPriors, stateTrajectory):\n",
    "        self.transitionTable = transitionTable\n",
    "        self.goalPolicies  = goalPolicies\n",
    "        self.goalPriors = goalPriors\n",
    "        self.stateTrajectory = stateTrajectory\n",
    "\n",
    "    def __call__(self):\n",
    "        posterior = self.getSequenceOfStateProbabilities()*np.array(self.goalPriors)        \n",
    "        row_sums = posterior.sum(axis=1, keepdims=True)\n",
    "        normalizedPosterior = posterior / row_sums\n",
    "        return(normalizedPosterior)\n",
    "        \n",
    "    def getNextStateProbability(self, state, nextState, policy):\n",
    "        possibleActionsToNextState = [action for action in self.transitionTable[state] \\\n",
    "                                      if nextState in self.transitionTable[state][action]]\n",
    "\n",
    "        probNextState = sum([self.transitionTable[state][action][nextState]*policy[state][action] \\\n",
    "                             for action in possibleActionsToNextState])\n",
    "        return(probNextState)\n",
    "    \n",
    "    def getSequenceOfStateProbabilities(self):\n",
    "        probNextState = [self.goalPriors]\n",
    "        for t, state in enumerate(self.stateTrajectory[:-1]):\n",
    "            nextState = self.stateTrajectory[t+1]\n",
    "            probNextState.append([self.getNextStateProbability(state, nextState, goalPolicy) \\\n",
    "                         for goalPolicy in self.goalPolicies])\n",
    "        observedStateProbs = np.cumprod(np.array(probNextState), axis=0)\n",
    "        return(observedStateProbs)\n"
   ]
  },
  {
   "cell_type": "code",
   "execution_count": 13,
   "metadata": {
    "ExecuteTime": {
     "end_time": "2019-02-23T21:28:45.027585Z",
     "start_time": "2019-02-23T21:28:45.025403Z"
    }
   },
   "outputs": [],
   "source": [
    "doGoalInference = PerformGoalInference(toyTransition, toyPolicies, toyPriors, toyTrajectory)\n",
    "toyPosteriors = doGoalInference()"
   ]
  },
  {
   "cell_type": "code",
   "execution_count": 16,
   "metadata": {
    "ExecuteTime": {
     "end_time": "2019-01-28T11:13:51.378440Z",
     "start_time": "2019-01-28T11:13:51.368250Z"
    }
   },
   "outputs": [
    {
     "data": {
      "text/plain": [
       "array([[0.5       , 0.5       ],\n",
       "       [0.64353681, 0.35646319],\n",
       "       [0.99439009, 0.00560991]])"
      ]
     },
     "execution_count": 16,
     "metadata": {},
     "output_type": "execute_result"
    }
   ],
   "source": [
    "toyPosteriors"
   ]
  }
 ],
 "metadata": {
  "kernelspec": {
   "display_name": "Python 3",
   "language": "python",
   "name": "python3"
  },
  "language_info": {
   "codemirror_mode": {
    "name": "ipython",
    "version": 3
   },
   "file_extension": ".py",
   "mimetype": "text/x-python",
   "name": "python",
   "nbconvert_exporter": "python",
   "pygments_lexer": "ipython3",
   "version": "3.6.8"
  },
  "toc": {
   "base_numbering": 1,
   "nav_menu": {},
   "number_sections": true,
   "sideBar": true,
   "skip_h1_title": false,
   "title_cell": "Table of Contents",
   "title_sidebar": "Contents",
   "toc_cell": false,
   "toc_position": {},
   "toc_section_display": true,
   "toc_window_display": false
  }
 },
 "nbformat": 4,
 "nbformat_minor": 2
}
