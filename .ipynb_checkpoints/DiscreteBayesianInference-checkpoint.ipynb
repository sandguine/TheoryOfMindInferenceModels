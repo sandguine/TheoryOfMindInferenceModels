{
 "cells": [
  {
   "cell_type": "markdown",
   "metadata": {},
   "source": [
    "Tests must start with 'test'"
   ]
  },
  {
   "cell_type": "code",
   "execution_count": 1,
   "metadata": {
    "ExecuteTime": {
     "end_time": "2019-01-09T22:39:12.577856Z",
     "start_time": "2019-01-09T22:39:12.539201Z"
    }
   },
   "outputs": [],
   "source": [
    "import numpy as np\n",
    "import itertools"
   ]
  },
  {
   "cell_type": "code",
   "execution_count": 2,
   "metadata": {
    "ExecuteTime": {
     "end_time": "2019-01-09T22:39:15.454202Z",
     "start_time": "2019-01-09T22:39:15.447748Z"
    }
   },
   "outputs": [],
   "source": [
    "def setUpBayesianInference(eventAMeanSampleSpaceSize, eventBMeanSampleSpaceSize, numberOfObservedSamples, randomSeed, isPriorUniform=False):\n",
    "    np.random.seed(randomSeed)\n",
    "    aProbabilities = constructRandomPMF(eventAMeanSampleSpaceSize, 'a')\n",
    "    bProbabilities = constructRandomPMF(eventBMeanSampleSpaceSize, 'b')\n",
    "    jointProbabilities = getJointPMFOfTwoEvents(aProbabilities, bProbabilities)\n",
    "    \n",
    "    sampleSpaceANames = list(aProbabilities.keys())\n",
    "    sampleSpaceBNames = list(bProbabilities.keys())\n",
    "    \n",
    "    aPrior = constructPrior(sampleSpaceANames,isPriorUniform)\n",
    "    bPrior = constructPrior(sampleSpaceBNames,isPriorUniform)\n",
    "    \n",
    "    likelihood = generateLikelihood(numberOfObservedSamples, jointProbabilities)\n",
    "    \n",
    "    return({'jointProbabilities':jointProbabilities, 'priorOfA': aPrior, 'priorOfB': bPrior, 'likelihood': likelihood})\n"
   ]
  },
  {
   "cell_type": "code",
   "execution_count": 8,
   "metadata": {
    "ExecuteTime": {
     "end_time": "2019-01-09T22:41:09.453363Z",
     "start_time": "2019-01-09T22:41:09.450623Z"
    },
    "scrolled": true
   },
   "outputs": [
    {
     "name": "stdout",
     "output_type": "stream",
     "text": [
      "{('a0', 'b0'): 0.17570541041399762, ('a0', 'b1'): 0.14968292489841234, ('a0', 'b2'): 0.03806977382780534, ('a0', 'b3'): 0.14528021147121237, ('a1', 'b0'): 0.1696694184426647, ('a1', 'b1'): 0.1445408810034426, ('a1', 'b2'): 0.03676196635259063, ('a1', 'b3'): 0.14028941358987443}\n",
      "{'a0': 0.1901883045926098, 'a1': 0.8098116954073902}\n",
      "{'b0': 0.3754696289252865, 'b1': 0.21730244836408819, 'b2': 0.3722099802058252, 'b3': 0.03501794250480023}\n",
      "{('a0', 'b0'): 0.16, ('a0', 'b1'): 0.13, ('a0', 'b2'): 0.05, ('a0', 'b3'): 0.21, ('a1', 'b0'): 0.2, ('a1', 'b1'): 0.11, ('a1', 'b2'): 0.03, ('a1', 'b3'): 0.11}\n"
     ]
    }
   ],
   "source": [
    "generativeDistribution, priorA, priorB, likelihood = setUpBayesianInference(5, 5, 100, 2).values()\n",
    "print(generativeDistribution)\n",
    "print(priorA)\n",
    "print(priorB)\n",
    "print(likelihood)"
   ]
  },
  {
   "cell_type": "markdown",
   "metadata": {},
   "source": [
    "## Helper Functions"
   ]
  },
  {
   "cell_type": "code",
   "execution_count": 4,
   "metadata": {
    "ExecuteTime": {
     "end_time": "2019-01-09T22:39:20.637470Z",
     "start_time": "2019-01-09T22:39:20.632245Z"
    }
   },
   "outputs": [],
   "source": [
    "def normalizeDictionaryValues(unnormalizedDictionary):\n",
    "    totalSum = sum(unnormalizedDictionary.values())\n",
    "    normalizedDictionary = {originalKey: val/totalSum for originalKey, val in unnormalizedDictionary.items()}\n",
    "    return(normalizedDictionary)\n",
    "\n",
    "def constructRandomPMF(meanSampleSpaceSize, eventIDString):\n",
    "    sampleSpaceSize = np.maximum(2, np.random.poisson(meanSampleSpaceSize))\n",
    "    outcomeNames = [eventIDString+str(outcomeIndex) for outcomeIndex in range(sampleSpaceSize)]\n",
    "    unnormalizedProbabilities = {outcome: np.random.random() for outcome in outcomeNames}\n",
    "    eventPMF = normalizeDictionaryValues(unnormalizedProbabilities)\n",
    "    return(eventPMF)\n",
    "\n",
    "def getJointPMFOfTwoEvents(eventAPMF, eventBPMF):\n",
    "    jointPMF = {(keya, keyb):eventAPMF[keya]*eventBPMF[keyb] for keya, keyb in itertools.product(eventAPMF.keys(), eventBPMF.keys())}\n",
    "    return(jointPMF)\n",
    "\n",
    "def generateLikelihood(numberSamples, jointDistribution):\n",
    "    jointSampleSpaceSize = len(jointDistribution.items())\n",
    "    observedData = np.random.choice(a=jointSampleSpaceSize, size = numberSamples, replace = True, p = list(jointDistribution.values()))\n",
    "    likelihood = {key: list(observedData).count(index)/numberSamples for index, key in enumerate(jointDistribution.keys())}\n",
    "    return(likelihood)\n",
    "\n",
    "def constructPrior(namesOfAllOutcomes, isUniform = False):\n",
    "    if isUniform:\n",
    "        prior = {a: 1/len(namesOfAllOutcomes) for a in namesOfAllOutcomes}\n",
    "    else:\n",
    "        unnormalizedPrior = {outcome: np.random.random() for outcome in namesOfAllOutcomes}\n",
    "        prior = normalizeDictionaryValues(unnormalizedPrior)\n",
    "    return(prior)\n"
   ]
  },
  {
   "cell_type": "code",
   "execution_count": 13,
   "metadata": {
    "ExecuteTime": {
     "end_time": "2019-01-09T22:44:22.312125Z",
     "start_time": "2019-01-09T22:44:22.308108Z"
    }
   },
   "outputs": [],
   "source": [
    "def getPosterior(priorOfA, priorOfB, likelihood):\n",
    "    normalizedPriorOfA = normalizeDictionaryValues(priorOfA)\n",
    "    normalizedPriorOfB = normalizeDictionaryValues(priorOfB)\n",
    "    \n",
    "    unnormalizedJointPosterior = {(aEvent, bEvent): calculateOutcomePosterier(normalizedPriorOfA, normalizedPriorOfB, likelihood, aEvent, bEvent) \\\n",
    "                      for aEvent, bEvent in likelihood.keys()}\n",
    "    jointPosterior = normalizeDictionaryValues(unnormalizedJointPosterior)\n",
    "    \n",
    "    \n",
    "    marginalOfA = {keyOfA : getMarginalizedOutcomeProbability(keyOfA, jointPosterior) for keyOfA in normalizedPriorOfA.keys()}\n",
    "    marginalOfB = {keyOfB : getMarginalizedOutcomeProbability(keyOfB, jointPosterior) for keyOfB in normalizedPriorOfB.keys()}\n",
    "    \n",
    "    return(jointPosterior)\n",
    "\n",
    "\n",
    "\n",
    "def getMarginalizedOutcomeProbability(outcome, jointPMF):\n",
    "    probabilityOfOutcome = sum([jointPMF[(keyOne, keyTwo)] if keyOne==outcome else 0 for (keyOne, keyTwo) in jointPMF.keys()])\n",
    "    return(probabilityOfOutcome)\n",
    "\n",
    "def calculateOutcomePosterier(priorOfA, priorOfB, likelihood, aEvent, bEvent):\n",
    "    posterior = priorOfA[aEvent]*priorOfB[bEvent]*likelihood[(aEvent, bEvent)]\n",
    "    return(posterior)"
   ]
  },
  {
   "cell_type": "code",
   "execution_count": 14,
   "metadata": {
    "ExecuteTime": {
     "end_time": "2019-01-09T22:44:24.855038Z",
     "start_time": "2019-01-09T22:44:24.852231Z"
    }
   },
   "outputs": [
    {
     "data": {
      "text/plain": [
       "{('a0', 'b0'): 0.10016521177788656,\n",
       " ('a0', 'b1'): 0.04710099584037416,\n",
       " ('a0', 'b2'): 0.031029882829566164,\n",
       " ('a0', 'b3'): 0.01226117348995686,\n",
       " ('a1', 'b0'): 0.5331226869104922,\n",
       " ('a1', 'b1'): 0.1696991472030058,\n",
       " ('a1', 'b2'): 0.0792741553998165,\n",
       " ('a1', 'b3'): 0.027346746548901565}"
      ]
     },
     "execution_count": 14,
     "metadata": {},
     "output_type": "execute_result"
    }
   ],
   "source": [
    "getPosterior(priorA, priorB, likelihood)"
   ]
  },
  {
   "cell_type": "markdown",
   "metadata": {},
   "source": [
    "## Examples"
   ]
  },
  {
   "cell_type": "code",
   "execution_count": 19,
   "metadata": {
    "ExecuteTime": {
     "end_time": "2019-01-09T22:49:33.525836Z",
     "start_time": "2019-01-09T22:49:33.523446Z"
    }
   },
   "outputs": [],
   "source": [
    "toyPMFofA = {'a0': .8, 'a1': .2}\n",
    "toyPMFofB = {'b0': .25, 'b1': .25, 'b2': .25, 'b3': .25}"
   ]
  },
  {
   "cell_type": "code",
   "execution_count": 20,
   "metadata": {
    "ExecuteTime": {
     "end_time": "2019-01-09T22:49:35.078958Z",
     "start_time": "2019-01-09T22:49:35.074858Z"
    }
   },
   "outputs": [
    {
     "data": {
      "text/plain": [
       "{('a0', 'b0'): 0.2,\n",
       " ('a0', 'b1'): 0.2,\n",
       " ('a0', 'b2'): 0.2,\n",
       " ('a0', 'b3'): 0.2,\n",
       " ('a1', 'b0'): 0.05,\n",
       " ('a1', 'b1'): 0.05,\n",
       " ('a1', 'b2'): 0.05,\n",
       " ('a1', 'b3'): 0.05}"
      ]
     },
     "execution_count": 20,
     "metadata": {},
     "output_type": "execute_result"
    }
   ],
   "source": [
    "toyJointPMF = getJointPMFOfTwoEvents(toyPMFofA, toyPMFofB)\n",
    "toyJointPMF"
   ]
  },
  {
   "cell_type": "code",
   "execution_count": 21,
   "metadata": {
    "ExecuteTime": {
     "end_time": "2019-01-09T22:49:35.925208Z",
     "start_time": "2019-01-09T22:49:35.921438Z"
    }
   },
   "outputs": [],
   "source": [
    "toypriorofA = {'a0': .5, 'a1': .5}\n",
    "toypriorofB = {'b0': .25, 'b1': .25, 'b2': .25, 'b3': .25}"
   ]
  },
  {
   "cell_type": "code",
   "execution_count": 22,
   "metadata": {
    "ExecuteTime": {
     "end_time": "2019-01-09T22:50:13.368403Z",
     "start_time": "2019-01-09T22:50:13.355033Z"
    }
   },
   "outputs": [
    {
     "data": {
      "text/plain": [
       "{('a0', 'b0'): 0.19999999999999996,\n",
       " ('a0', 'b1'): 0.19999999999999996,\n",
       " ('a0', 'b2'): 0.19999999999999996,\n",
       " ('a0', 'b3'): 0.19999999999999996,\n",
       " ('a1', 'b0'): 0.04999999999999999,\n",
       " ('a1', 'b1'): 0.04999999999999999,\n",
       " ('a1', 'b2'): 0.04999999999999999,\n",
       " ('a1', 'b3'): 0.04999999999999999}"
      ]
     },
     "execution_count": 22,
     "metadata": {},
     "output_type": "execute_result"
    }
   ],
   "source": [
    "getPosterior(toypriorofA, toypriorofB, toyJointPMF)"
   ]
  }
 ],
 "metadata": {
  "kernelspec": {
   "display_name": "Python 3",
   "language": "python",
   "name": "python3"
  },
  "language_info": {
   "codemirror_mode": {
    "name": "ipython",
    "version": 3
   },
   "file_extension": ".py",
   "mimetype": "text/x-python",
   "name": "python",
   "nbconvert_exporter": "python",
   "pygments_lexer": "ipython3",
   "version": "3.6.6"
  },
  "toc": {
   "base_numbering": 1,
   "nav_menu": {},
   "number_sections": true,
   "sideBar": true,
   "skip_h1_title": false,
   "title_cell": "Table of Contents",
   "title_sidebar": "Contents",
   "toc_cell": false,
   "toc_position": {},
   "toc_section_display": true,
   "toc_window_display": false
  }
 },
 "nbformat": 4,
 "nbformat_minor": 2
}
