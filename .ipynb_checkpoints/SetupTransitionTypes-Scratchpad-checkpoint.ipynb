{
 "cells": [
  {
   "cell_type": "code",
   "execution_count": 10,
   "metadata": {
    "ExecuteTime": {
     "end_time": "2019-02-15T21:39:52.402797Z",
     "start_time": "2019-02-15T21:39:52.299076Z"
    }
   },
   "outputs": [],
   "source": [
    "import itertools\n",
    "import numpy as np \n",
    "from visualizeEnvironment import *"
   ]
  },
  {
   "cell_type": "code",
   "execution_count": 6,
   "metadata": {
    "ExecuteTime": {
     "end_time": "2019-02-15T21:38:03.658251Z",
     "start_time": "2019-02-15T21:38:03.651348Z"
    }
   },
   "outputs": [],
   "source": [
    "# Epsilon Transition - Agent Acts with probability 1-epsilon and stays with probability epsilon.\n",
    "#Deterministic when epsilon = 0\n",
    "\n",
    "class SetupEpsilonTransition(object):\n",
    "    def __init__(self, stateSet, actionSet):\n",
    "        self.stateSet = stateSet\n",
    "        self.actionSet = actionSet\n",
    "\n",
    "    def __call__(self, epsilon=0):\n",
    "        transitionTable = {state: {action:  self.getStateActionTransition(state, action, epsilon) \\\n",
    "                                   for action in self.actionSet}\\\n",
    "                           for state in self.stateSet}\n",
    "        return(transitionTable) \n",
    "\n",
    "    \n",
    "    def getStateActionTransition(self, currentState, action, epsilon):\n",
    "        nextState = self.getNextState(currentState, action)\n",
    "        if currentState == nextState or epsilon == 0:\n",
    "            transitionDistribution = {nextState: 1}\n",
    "        else:\n",
    "            transitionDistribution = {nextState: 1-epsilon, currentState:epsilon}\n",
    "            \n",
    "        return(transitionDistribution)\n",
    "\n",
    "    \n",
    "    def getNextState(self, state, action):\n",
    "        potentialNextState = tuple([state[i] + action[i] for i in range(len(state))])\n",
    "        if potentialNextState in self.stateSet:\n",
    "            return(potentialNextState)\n",
    "        return(state) "
   ]
  },
  {
   "cell_type": "code",
   "execution_count": 7,
   "metadata": {
    "ExecuteTime": {
     "end_time": "2019-02-15T21:38:06.203505Z",
     "start_time": "2019-02-15T21:38:06.200774Z"
    }
   },
   "outputs": [],
   "source": [
    "# Actions correspond to E, N, W, S, Stay respectively\n",
    "allActions = [(1,0), (0,1), (-1,0), (0,-1), (0,0)]\n",
    "\n",
    "#all location states in grid\n",
    "gridWidth = 5\n",
    "gridHeight = 5\n",
    "gridSet = set(itertools.product(range(gridWidth), range(gridHeight)))\n",
    "\n",
    "#set of states to remove from each environment\n",
    "barriersC = {(2,1), (3,1), (4,1)}\n",
    "\n",
    "#final environment state sets\n",
    "stateSetC = list(gridSet.difference(barriersC))\n",
    "\n",
    "#goal locations\n",
    "goal1 = (0,4)\n",
    "goal2 = (4,4)\n",
    "\n",
    "#probability of ineffective action\n",
    "epsilon = .1"
   ]
  },
  {
   "cell_type": "code",
   "execution_count": 8,
   "metadata": {
    "ExecuteTime": {
     "end_time": "2019-02-15T21:38:46.407028Z",
     "start_time": "2019-02-15T21:38:46.398554Z"
    }
   },
   "outputs": [],
   "source": [
    "getTransition = SetupEpsilonTransition(stateSetC, allActions)\n",
    "\n",
    "# possible environment transitions\n",
    "environmentC = getTransition(epsilon)"
   ]
  },
  {
   "cell_type": "code",
   "execution_count": 9,
   "metadata": {
    "ExecuteTime": {
     "end_time": "2019-02-15T21:38:50.431638Z",
     "start_time": "2019-02-15T21:38:50.386656Z"
    }
   },
   "outputs": [
    {
     "data": {
      "text/plain": [
       "{(3, 2): {(1, 0): {(4, 2): 0.9, (3, 2): 0.1},\n",
       "  (0, 1): {(3, 3): 0.9, (3, 2): 0.1},\n",
       "  (-1, 0): {(2, 2): 0.9, (3, 2): 0.1},\n",
       "  (0, -1): {(3, 2): 1},\n",
       "  (0, 0): {(3, 2): 1}},\n",
       " (1, 3): {(1, 0): {(2, 3): 0.9, (1, 3): 0.1},\n",
       "  (0, 1): {(1, 4): 0.9, (1, 3): 0.1},\n",
       "  (-1, 0): {(0, 3): 0.9, (1, 3): 0.1},\n",
       "  (0, -1): {(1, 2): 0.9, (1, 3): 0.1},\n",
       "  (0, 0): {(1, 3): 1}},\n",
       " (0, 0): {(1, 0): {(1, 0): 0.9, (0, 0): 0.1},\n",
       "  (0, 1): {(0, 1): 0.9, (0, 0): 0.1},\n",
       "  (-1, 0): {(0, 0): 1},\n",
       "  (0, -1): {(0, 0): 1},\n",
       "  (0, 0): {(0, 0): 1}},\n",
       " (3, 0): {(1, 0): {(4, 0): 0.9, (3, 0): 0.1},\n",
       "  (0, 1): {(3, 0): 1},\n",
       "  (-1, 0): {(2, 0): 0.9, (3, 0): 0.1},\n",
       "  (0, -1): {(3, 0): 1},\n",
       "  (0, 0): {(3, 0): 1}},\n",
       " (1, 4): {(1, 0): {(2, 4): 0.9, (1, 4): 0.1},\n",
       "  (0, 1): {(1, 4): 1},\n",
       "  (-1, 0): {(0, 4): 0.9, (1, 4): 0.1},\n",
       "  (0, -1): {(1, 3): 0.9, (1, 4): 0.1},\n",
       "  (0, 0): {(1, 4): 1}},\n",
       " (1, 1): {(1, 0): {(1, 1): 1},\n",
       "  (0, 1): {(1, 2): 0.9, (1, 1): 0.1},\n",
       "  (-1, 0): {(0, 1): 0.9, (1, 1): 0.1},\n",
       "  (0, -1): {(1, 0): 0.9, (1, 1): 0.1},\n",
       "  (0, 0): {(1, 1): 1}},\n",
       " (2, 3): {(1, 0): {(3, 3): 0.9, (2, 3): 0.1},\n",
       "  (0, 1): {(2, 4): 0.9, (2, 3): 0.1},\n",
       "  (-1, 0): {(1, 3): 0.9, (2, 3): 0.1},\n",
       "  (0, -1): {(2, 2): 0.9, (2, 3): 0.1},\n",
       "  (0, 0): {(2, 3): 1}},\n",
       " (4, 2): {(1, 0): {(4, 2): 1},\n",
       "  (0, 1): {(4, 3): 0.9, (4, 2): 0.1},\n",
       "  (-1, 0): {(3, 2): 0.9, (4, 2): 0.1},\n",
       "  (0, -1): {(4, 2): 1},\n",
       "  (0, 0): {(4, 2): 1}},\n",
       " (0, 3): {(1, 0): {(1, 3): 0.9, (0, 3): 0.1},\n",
       "  (0, 1): {(0, 4): 0.9, (0, 3): 0.1},\n",
       "  (-1, 0): {(0, 3): 1},\n",
       "  (0, -1): {(0, 2): 0.9, (0, 3): 0.1},\n",
       "  (0, 0): {(0, 3): 1}},\n",
       " (1, 0): {(1, 0): {(2, 0): 0.9, (1, 0): 0.1},\n",
       "  (0, 1): {(1, 1): 0.9, (1, 0): 0.1},\n",
       "  (-1, 0): {(0, 0): 0.9, (1, 0): 0.1},\n",
       "  (0, -1): {(1, 0): 1},\n",
       "  (0, 0): {(1, 0): 1}},\n",
       " (2, 4): {(1, 0): {(3, 4): 0.9, (2, 4): 0.1},\n",
       "  (0, 1): {(2, 4): 1},\n",
       "  (-1, 0): {(1, 4): 0.9, (2, 4): 0.1},\n",
       "  (0, -1): {(2, 3): 0.9, (2, 4): 0.1},\n",
       "  (0, 0): {(2, 4): 1}},\n",
       " (4, 0): {(1, 0): {(4, 0): 1},\n",
       "  (0, 1): {(4, 0): 1},\n",
       "  (-1, 0): {(3, 0): 0.9, (4, 0): 0.1},\n",
       "  (0, -1): {(4, 0): 1},\n",
       "  (0, 0): {(4, 0): 1}},\n",
       " (1, 2): {(1, 0): {(2, 2): 0.9, (1, 2): 0.1},\n",
       "  (0, 1): {(1, 3): 0.9, (1, 2): 0.1},\n",
       "  (-1, 0): {(0, 2): 0.9, (1, 2): 0.1},\n",
       "  (0, -1): {(1, 1): 0.9, (1, 2): 0.1},\n",
       "  (0, 0): {(1, 2): 1}},\n",
       " (0, 1): {(1, 0): {(1, 1): 0.9, (0, 1): 0.1},\n",
       "  (0, 1): {(0, 2): 0.9, (0, 1): 0.1},\n",
       "  (-1, 0): {(0, 1): 1},\n",
       "  (0, -1): {(0, 0): 0.9, (0, 1): 0.1},\n",
       "  (0, 0): {(0, 1): 1}},\n",
       " (3, 3): {(1, 0): {(4, 3): 0.9, (3, 3): 0.1},\n",
       "  (0, 1): {(3, 4): 0.9, (3, 3): 0.1},\n",
       "  (-1, 0): {(2, 3): 0.9, (3, 3): 0.1},\n",
       "  (0, -1): {(3, 2): 0.9, (3, 3): 0.1},\n",
       "  (0, 0): {(3, 3): 1}},\n",
       " (4, 4): {(1, 0): {(4, 4): 1},\n",
       "  (0, 1): {(4, 4): 1},\n",
       "  (-1, 0): {(3, 4): 0.9, (4, 4): 0.1},\n",
       "  (0, -1): {(4, 3): 0.9, (4, 4): 0.1},\n",
       "  (0, 0): {(4, 4): 1}},\n",
       " (2, 0): {(1, 0): {(3, 0): 0.9, (2, 0): 0.1},\n",
       "  (0, 1): {(2, 0): 1},\n",
       "  (-1, 0): {(1, 0): 0.9, (2, 0): 0.1},\n",
       "  (0, -1): {(2, 0): 1},\n",
       "  (0, 0): {(2, 0): 1}},\n",
       " (0, 4): {(1, 0): {(1, 4): 0.9, (0, 4): 0.1},\n",
       "  (0, 1): {(0, 4): 1},\n",
       "  (-1, 0): {(0, 4): 1},\n",
       "  (0, -1): {(0, 3): 0.9, (0, 4): 0.1},\n",
       "  (0, 0): {(0, 4): 1}},\n",
       " (4, 3): {(1, 0): {(4, 3): 1},\n",
       "  (0, 1): {(4, 4): 0.9, (4, 3): 0.1},\n",
       "  (-1, 0): {(3, 3): 0.9, (4, 3): 0.1},\n",
       "  (0, -1): {(4, 2): 0.9, (4, 3): 0.1},\n",
       "  (0, 0): {(4, 3): 1}},\n",
       " (2, 2): {(1, 0): {(3, 2): 0.9, (2, 2): 0.1},\n",
       "  (0, 1): {(2, 3): 0.9, (2, 2): 0.1},\n",
       "  (-1, 0): {(1, 2): 0.9, (2, 2): 0.1},\n",
       "  (0, -1): {(2, 2): 1},\n",
       "  (0, 0): {(2, 2): 1}},\n",
       " (3, 4): {(1, 0): {(4, 4): 0.9, (3, 4): 0.1},\n",
       "  (0, 1): {(3, 4): 1},\n",
       "  (-1, 0): {(2, 4): 0.9, (3, 4): 0.1},\n",
       "  (0, -1): {(3, 3): 0.9, (3, 4): 0.1},\n",
       "  (0, 0): {(3, 4): 1}},\n",
       " (0, 2): {(1, 0): {(1, 2): 0.9, (0, 2): 0.1},\n",
       "  (0, 1): {(0, 3): 0.9, (0, 2): 0.1},\n",
       "  (-1, 0): {(0, 2): 1},\n",
       "  (0, -1): {(0, 1): 0.9, (0, 2): 0.1},\n",
       "  (0, 0): {(0, 2): 1}}}"
      ]
     },
     "execution_count": 9,
     "metadata": {},
     "output_type": "execute_result"
    }
   ],
   "source": [
    "environmentC"
   ]
  },
  {
   "cell_type": "code",
   "execution_count": null,
   "metadata": {},
   "outputs": [],
   "source": []
  },
  {
   "cell_type": "code",
   "execution_count": null,
   "metadata": {},
   "outputs": [],
   "source": [
    "class SetupDeterministicTransitionWithBarrier(object):\n",
    "    def __init__(self,actionSet, stateSet):\n",
    "        self.stateSet = actionSet\n",
    "        self.actionSet = stateSet\n",
    "\n",
    "    def __call__(self, stateNextStateTransitionBarriers):\n",
    "        \n",
    "        transitionTable = {state: self.getStateTransition(state) for state in self.stateSet}\n",
    "        return(transitionTable) \n",
    "\n",
    "    def getStateTransition(self, state):\n",
    "        actionTransitionDistribution = {action: self.getStateActionTransition(state, action) for action in self.actionSet}\n",
    "        return(actionTransitionDistribution)\n",
    "    \n",
    "    def getStateActionTransition(self, currentState, action):\n",
    "        nextState = self.getNextState(currentState, action)\n",
    "        if currentState == nextState:\n",
    "            transitionDistribution = {nextState: 1}\n",
    "        else:\n",
    "            transitionDistribution = {nextState: 1-self.epsilon, currentState: self.epsilon}\n",
    "        return(transitionDistribution)\n",
    "\n",
    "    \n",
    "    def getNextState(self, state, action):\n",
    "        potentialNextState = tuple([state[i] + action[i] for i in range(len(state))])\n",
    "        if potentialNextState in self.stateSet:\n",
    "            return(potentialNextState)\n",
    "        return(state) "
   ]
  },
  {
   "cell_type": "code",
   "execution_count": null,
   "metadata": {},
   "outputs": [],
   "source": []
  },
  {
   "cell_type": "code",
   "execution_count": null,
   "metadata": {},
   "outputs": [],
   "source": []
  },
  {
   "cell_type": "code",
   "execution_count": null,
   "metadata": {},
   "outputs": [],
   "source": []
  },
  {
   "cell_type": "code",
   "execution_count": null,
   "metadata": {},
   "outputs": [],
   "source": []
  }
 ],
 "metadata": {
  "kernelspec": {
   "display_name": "Python 3",
   "language": "python",
   "name": "python3"
  },
  "language_info": {
   "codemirror_mode": {
    "name": "ipython",
    "version": 3
   },
   "file_extension": ".py",
   "mimetype": "text/x-python",
   "name": "python",
   "nbconvert_exporter": "python",
   "pygments_lexer": "ipython3",
   "version": "3.6.6"
  },
  "toc": {
   "base_numbering": 1,
   "nav_menu": {},
   "number_sections": true,
   "sideBar": true,
   "skip_h1_title": false,
   "title_cell": "Table of Contents",
   "title_sidebar": "Contents",
   "toc_cell": false,
   "toc_position": {},
   "toc_section_display": true,
   "toc_window_display": false
  }
 },
 "nbformat": 4,
 "nbformat_minor": 2
}
