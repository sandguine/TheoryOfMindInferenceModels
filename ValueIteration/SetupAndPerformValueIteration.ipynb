{
 "cells": [
  {
   "cell_type": "code",
   "execution_count": 1,
   "metadata": {
    "ExecuteTime": {
     "end_time": "2019-02-21T21:55:48.139095Z",
     "start_time": "2019-02-21T21:55:47.988630Z"
    }
   },
   "outputs": [],
   "source": [
    "import numpy as np\n",
    "import itertools\n",
    "from visualizations import *"
   ]
  },
  {
   "cell_type": "markdown",
   "metadata": {},
   "source": [
    "# Setup transition"
   ]
  },
  {
   "cell_type": "code",
   "execution_count": 2,
   "metadata": {
    "ExecuteTime": {
     "end_time": "2019-02-21T21:55:48.145169Z",
     "start_time": "2019-02-21T21:55:48.140252Z"
    }
   },
   "outputs": [],
   "source": [
    "class SetupSlipperyTransition(object):\n",
    "    def __init__(self, gridWidth, gridHeight, actionSet):\n",
    "        self.gridWidth = gridWidth\n",
    "        self.gridHeight = gridHeight\n",
    "        self.stateSet = list(itertools.product(range(self.gridWidth), range(self.gridHeight)))\n",
    "        self.actionSet = actionSet\n",
    "\n",
    "    def __call__(self):\n",
    "        transitionTable = {state: self.getStateTransition(state) for state in self.stateSet}\n",
    "        return(transitionTable) \n",
    "\n",
    "    def getStateTransition(self, state):\n",
    "        actionTransitionDistribution = {action: self.getStateActionTransition(state, action) for action in self.actionSet}\n",
    "        return(actionTransitionDistribution)\n",
    "    \n",
    "    def getStateActionTransition(self, currentState, action):\n",
    "        nextState = self.getNextState(currentState, action)\n",
    "    \n",
    "        validNextStates = list(set([self.getNextState(currentState, a) for a in self.actionSet]))\n",
    "        rangeValidNextStates = len(validNextStates)\n",
    "        slipStates = np.random.choice(rangeValidNextStates, 3)\n",
    "        transitionDistribution = {nextState:.7}\n",
    "\n",
    "        for slipIndex in slipStates:\n",
    "            if validNextStates[slipIndex] not in transitionDistribution:\n",
    "                transitionDistribution[validNextStates[slipIndex]] = .1\n",
    "            else:\n",
    "                transitionDistribution[validNextStates[slipIndex]] += .1\n",
    "        return(transitionDistribution)\n",
    "\n",
    "    def getNextState(self, state, action):\n",
    "        potentialNextState = tuple([state[i] + action[i] for i in range(len(state))])\n",
    "        if potentialNextState in self.stateSet:\n",
    "            return(potentialNextState)\n",
    "        return(state) "
   ]
  },
  {
   "cell_type": "code",
   "execution_count": 3,
   "metadata": {
    "ExecuteTime": {
     "end_time": "2019-02-21T21:55:48.152059Z",
     "start_time": "2019-02-21T21:55:48.146292Z"
    }
   },
   "outputs": [],
   "source": [
    "class SetupDeterministicTransition(object):\n",
    "    def __init__(self, gridWidth, gridHeight, actionSet):\n",
    "        self.gridWidth = gridWidth\n",
    "        self.gridHeight = gridHeight\n",
    "        self.stateSet = list(itertools.product(range(self.gridWidth), range(self.gridHeight)))\n",
    "        self.actionSet = actionSet\n",
    "        \n",
    "    def __call__(self):\n",
    "        transitionTable = {state: self.getStateTransition(state) for state in self.stateSet}\n",
    "        return(transitionTable) \n",
    "\n",
    "    def getStateTransition(self, state):\n",
    "        actionTransitionDistribution = {action: self.getStateActionTransition(state, action) for action in self.actionSet}\n",
    "        return(actionTransitionDistribution)\n",
    "    \n",
    "    def getStateActionTransition(self, currentState, action):\n",
    "        nextState = self.getNextState(currentState, action)\n",
    "        transitionDistribution = {nextState: 1}\n",
    "        return(transitionDistribution)\n",
    "\n",
    "    def getNextState(self, state, action):\n",
    "        potentialNextState = tuple([state[i] + action[i] for i in range(len(state))])\n",
    "        if potentialNextState in self.stateSet:\n",
    "            return(potentialNextState)\n",
    "        return(state) "
   ]
  },
  {
   "cell_type": "markdown",
   "metadata": {},
   "source": [
    "# Setup Reward"
   ]
  },
  {
   "cell_type": "code",
   "execution_count": 4,
   "metadata": {
    "ExecuteTime": {
     "end_time": "2019-02-21T21:55:48.158164Z",
     "start_time": "2019-02-21T21:55:48.153298Z"
    }
   },
   "outputs": [],
   "source": [
    "class SetupRewardTable(object):\n",
    "    def __init__(self,transitionTable, actionSet, goalState, trapState):\n",
    "        self.transitionTable = transitionTable\n",
    "        self.stateSet = list(transitionTable.keys())\n",
    "        self.actionSet = actionSet\n",
    "        self.goalState = goalState\n",
    "        self.trapState = trapState\n",
    "        \n",
    "    def __call__(self):\n",
    "        rewardTable = {state:{action:{nextState: self.applyRewardFunction(state, action, nextState) for nextState in nextStateDict.keys() }for action, nextStateDict in actionDict.items()} for state, actionDict in self.transitionTable.items()}\n",
    "        return(rewardTable)\n",
    "\n",
    "    def applyRewardFunction(self, state, action, nextState):\n",
    "        goalReward = 10\n",
    "        trapCost = -100\n",
    "        moveCost = -1\n",
    "        \n",
    "        if state == self.goalState and nextState != self.goalState:\n",
    "            return(goalReward)\n",
    "        elif state == self.trapState:\n",
    "            return(trapCost)\n",
    "        return(moveCost)"
   ]
  },
  {
   "cell_type": "markdown",
   "metadata": {},
   "source": [
    "# Perform Value Iteration"
   ]
  },
  {
   "cell_type": "code",
   "execution_count": 5,
   "metadata": {
    "ExecuteTime": {
     "end_time": "2019-02-21T21:55:48.164660Z",
     "start_time": "2019-02-21T21:55:48.159635Z"
    }
   },
   "outputs": [],
   "source": [
    "class ValueIteration(object):\n",
    "    def __init__(self, transitionTable, rewardTable, valueTable, convergenceTolerance, discountingFactor = 1):\n",
    "        self.transitionTable = transitionTable\n",
    "        self.rewardTable  = rewardTable\n",
    "        self.valueTable = valueTable\n",
    "        self.convergenceTolerance = convergenceTolerance\n",
    "        self.gamma = discountingFactor\n",
    "\n",
    "    def __call__(self):\n",
    "        \n",
    "        theta = self.convergenceTolerance*100\n",
    "        while(theta > self.convergenceTolerance):\n",
    "            theta = 0\n",
    "            for state, actionDict in self.transitionTable.items():\n",
    "                valueOfStateAtTimeT = self.valueTable[state]\n",
    "                qforAllActions = [self.getQValue(state, action) for action in actionDict.keys()]\n",
    "                self.valueTable[state] = max(qforAllActions) \n",
    "                theta = max(theta, abs(valueOfStateAtTimeT-self.valueTable[state]))\n",
    "        policyTable = {state:self.getStatePolicy(state) for state in self.transitionTable.keys()}\n",
    "\n",
    "        return([self.valueTable, policyTable])\n",
    "    \n",
    "    def getStatePolicy(self, state):\n",
    "        maxQValue = max([round(self.getQValue(state, action),5) for action in self.transitionTable[state].keys()])\n",
    "        optimalActionSet = [action for action in self.transitionTable[state].keys() \\\n",
    "                            if round(self.getQValue(state, action),5) == maxQValue]\n",
    "        statePolicy = {action: 1/(len(optimalActionSet)) for action in optimalActionSet}\n",
    "        return(statePolicy)\n",
    "        \n",
    "    def getQValue(self, state, action):\n",
    "        nextStatesQ = [prob*(self.rewardTable[state][action][nextState] \\\n",
    "                             + self.gamma*self.valueTable[nextState]) \\\n",
    "                      for nextState, prob in self.transitionTable[state][action].items()]\n",
    "        qValue = sum(nextStatesQ)\n",
    "        return(qValue)"
   ]
  },
  {
   "cell_type": "markdown",
   "metadata": {},
   "source": [
    "# Examples"
   ]
  },
  {
   "cell_type": "markdown",
   "metadata": {},
   "source": [
    "## Example 1: Setup Deterministic Transition"
   ]
  },
  {
   "cell_type": "code",
   "execution_count": 8,
   "metadata": {
    "ExecuteTime": {
     "end_time": "2019-02-21T21:55:48.186117Z",
     "start_time": "2019-02-21T21:55:48.176627Z"
    }
   },
   "outputs": [],
   "source": [
    "gridWidth = 3 #4\n",
    "gridHeight = 5 #3\n",
    "allActions = [(1,0), (0,1), (-1,0), (0,-1)]\n",
    "goalState = (1,1)\n",
    "trapState = (1,2)\n",
    "\n",
    "np.random.seed(1000)\n",
    "getTransition = SetupDeterministicTransition(gridWidth, gridHeight, allActions)\n",
    "transition = getTransition()\n",
    "\n",
    "getReward = SetupRewardTable(transition, allActions, goalState, trapState)\n",
    "reward = getReward()\n",
    "\n",
    "value = {state:0 for state in reward.keys()}\n",
    "\n",
    "\n",
    "performValueIteration = ValueIteration(transition, reward, value, .000001, .9)\n",
    "optimalValues, policy = performValueIteration()"
   ]
  },
  {
   "cell_type": "code",
   "execution_count": 9,
   "metadata": {
    "ExecuteTime": {
     "end_time": "2019-02-21T21:55:48.192883Z",
     "start_time": "2019-02-21T21:55:48.187594Z"
    },
    "scrolled": true
   },
   "outputs": [
    {
     "name": "stdout",
     "output_type": "stream",
     "text": [
      "state: (0, 0)\n",
      "\taction: (1, 0)\n",
      "\t\tnext state: (1, 0)\n",
      "\t\t\tprobability: 1\n",
      "\taction: (0, 1)\n",
      "\t\tnext state: (0, 1)\n",
      "\t\t\tprobability: 1\n",
      "\taction: (-1, 0)\n",
      "\t\tnext state: (0, 0)\n",
      "\t\t\tprobability: 1\n",
      "\taction: (0, -1)\n",
      "\t\tnext state: (0, 0)\n",
      "\t\t\tprobability: 1\n",
      "state: (0, 1)\n",
      "\taction: (1, 0)\n",
      "\t\tnext state: (1, 1)\n",
      "\t\t\tprobability: 1\n",
      "\taction: (0, 1)\n",
      "\t\tnext state: (0, 2)\n",
      "\t\t\tprobability: 1\n",
      "\taction: (-1, 0)\n",
      "\t\tnext state: (0, 1)\n",
      "\t\t\tprobability: 1\n",
      "\taction: (0, -1)\n",
      "\t\tnext state: (0, 0)\n",
      "\t\t\tprobability: 1\n",
      "state: (0, 2)\n",
      "\taction: (1, 0)\n",
      "\t\tnext state: (1, 2)\n",
      "\t\t\tprobability: 1\n",
      "\taction: (0, 1)\n",
      "\t\tnext state: (0, 3)\n",
      "\t\t\tprobability: 1\n",
      "\taction: (-1, 0)\n",
      "\t\tnext state: (0, 2)\n",
      "\t\t\tprobability: 1\n",
      "\taction: (0, -1)\n",
      "\t\tnext state: (0, 1)\n",
      "\t\t\tprobability: 1\n",
      "state: (0, 3)\n",
      "\taction: (1, 0)\n",
      "\t\tnext state: (1, 3)\n",
      "\t\t\tprobability: 1\n",
      "\taction: (0, 1)\n",
      "\t\tnext state: (0, 4)\n",
      "\t\t\tprobability: 1\n",
      "\taction: (-1, 0)\n",
      "\t\tnext state: (0, 3)\n",
      "\t\t\tprobability: 1\n",
      "\taction: (0, -1)\n",
      "\t\tnext state: (0, 2)\n",
      "\t\t\tprobability: 1\n",
      "state: (0, 4)\n",
      "\taction: (1, 0)\n",
      "\t\tnext state: (1, 4)\n",
      "\t\t\tprobability: 1\n",
      "\taction: (0, 1)\n",
      "\t\tnext state: (0, 4)\n",
      "\t\t\tprobability: 1\n",
      "\taction: (-1, 0)\n",
      "\t\tnext state: (0, 4)\n",
      "\t\t\tprobability: 1\n",
      "\taction: (0, -1)\n",
      "\t\tnext state: (0, 3)\n",
      "\t\t\tprobability: 1\n",
      "state: (1, 0)\n",
      "\taction: (1, 0)\n",
      "\t\tnext state: (2, 0)\n",
      "\t\t\tprobability: 1\n",
      "\taction: (0, 1)\n",
      "\t\tnext state: (1, 1)\n",
      "\t\t\tprobability: 1\n",
      "\taction: (-1, 0)\n",
      "\t\tnext state: (0, 0)\n",
      "\t\t\tprobability: 1\n",
      "\taction: (0, -1)\n",
      "\t\tnext state: (1, 0)\n",
      "\t\t\tprobability: 1\n",
      "state: (1, 1)\n",
      "\taction: (1, 0)\n",
      "\t\tnext state: (2, 1)\n",
      "\t\t\tprobability: 1\n",
      "\taction: (0, 1)\n",
      "\t\tnext state: (1, 2)\n",
      "\t\t\tprobability: 1\n",
      "\taction: (-1, 0)\n",
      "\t\tnext state: (0, 1)\n",
      "\t\t\tprobability: 1\n",
      "\taction: (0, -1)\n",
      "\t\tnext state: (1, 0)\n",
      "\t\t\tprobability: 1\n",
      "state: (1, 2)\n",
      "\taction: (1, 0)\n",
      "\t\tnext state: (2, 2)\n",
      "\t\t\tprobability: 1\n",
      "\taction: (0, 1)\n",
      "\t\tnext state: (1, 3)\n",
      "\t\t\tprobability: 1\n",
      "\taction: (-1, 0)\n",
      "\t\tnext state: (0, 2)\n",
      "\t\t\tprobability: 1\n",
      "\taction: (0, -1)\n",
      "\t\tnext state: (1, 1)\n",
      "\t\t\tprobability: 1\n",
      "state: (1, 3)\n",
      "\taction: (1, 0)\n",
      "\t\tnext state: (2, 3)\n",
      "\t\t\tprobability: 1\n",
      "\taction: (0, 1)\n",
      "\t\tnext state: (1, 4)\n",
      "\t\t\tprobability: 1\n",
      "\taction: (-1, 0)\n",
      "\t\tnext state: (0, 3)\n",
      "\t\t\tprobability: 1\n",
      "\taction: (0, -1)\n",
      "\t\tnext state: (1, 2)\n",
      "\t\t\tprobability: 1\n",
      "state: (1, 4)\n",
      "\taction: (1, 0)\n",
      "\t\tnext state: (2, 4)\n",
      "\t\t\tprobability: 1\n",
      "\taction: (0, 1)\n",
      "\t\tnext state: (1, 4)\n",
      "\t\t\tprobability: 1\n",
      "\taction: (-1, 0)\n",
      "\t\tnext state: (0, 4)\n",
      "\t\t\tprobability: 1\n",
      "\taction: (0, -1)\n",
      "\t\tnext state: (1, 3)\n",
      "\t\t\tprobability: 1\n",
      "state: (2, 0)\n",
      "\taction: (1, 0)\n",
      "\t\tnext state: (2, 0)\n",
      "\t\t\tprobability: 1\n",
      "\taction: (0, 1)\n",
      "\t\tnext state: (2, 1)\n",
      "\t\t\tprobability: 1\n",
      "\taction: (-1, 0)\n",
      "\t\tnext state: (1, 0)\n",
      "\t\t\tprobability: 1\n",
      "\taction: (0, -1)\n",
      "\t\tnext state: (2, 0)\n",
      "\t\t\tprobability: 1\n",
      "state: (2, 1)\n",
      "\taction: (1, 0)\n",
      "\t\tnext state: (2, 1)\n",
      "\t\t\tprobability: 1\n",
      "\taction: (0, 1)\n",
      "\t\tnext state: (2, 2)\n",
      "\t\t\tprobability: 1\n",
      "\taction: (-1, 0)\n",
      "\t\tnext state: (1, 1)\n",
      "\t\t\tprobability: 1\n",
      "\taction: (0, -1)\n",
      "\t\tnext state: (2, 0)\n",
      "\t\t\tprobability: 1\n",
      "state: (2, 2)\n",
      "\taction: (1, 0)\n",
      "\t\tnext state: (2, 2)\n",
      "\t\t\tprobability: 1\n",
      "\taction: (0, 1)\n",
      "\t\tnext state: (2, 3)\n",
      "\t\t\tprobability: 1\n",
      "\taction: (-1, 0)\n",
      "\t\tnext state: (1, 2)\n",
      "\t\t\tprobability: 1\n",
      "\taction: (0, -1)\n",
      "\t\tnext state: (2, 1)\n",
      "\t\t\tprobability: 1\n",
      "state: (2, 3)\n",
      "\taction: (1, 0)\n",
      "\t\tnext state: (2, 3)\n",
      "\t\t\tprobability: 1\n",
      "\taction: (0, 1)\n",
      "\t\tnext state: (2, 4)\n",
      "\t\t\tprobability: 1\n",
      "\taction: (-1, 0)\n",
      "\t\tnext state: (1, 3)\n",
      "\t\t\tprobability: 1\n",
      "\taction: (0, -1)\n",
      "\t\tnext state: (2, 2)\n",
      "\t\t\tprobability: 1\n",
      "state: (2, 4)\n",
      "\taction: (1, 0)\n",
      "\t\tnext state: (2, 4)\n",
      "\t\t\tprobability: 1\n",
      "\taction: (0, 1)\n",
      "\t\tnext state: (2, 4)\n",
      "\t\t\tprobability: 1\n",
      "\taction: (-1, 0)\n",
      "\t\tnext state: (1, 4)\n",
      "\t\t\tprobability: 1\n",
      "\taction: (0, -1)\n",
      "\t\tnext state: (2, 3)\n",
      "\t\t\tprobability: 1\n"
     ]
    }
   ],
   "source": [
    "levelsTransition = [\"state\", \"action\", \"next state\", \"probability\"]\n",
    "viewDictionaryStructure(transition, levelsTransition)"
   ]
  },
  {
   "cell_type": "code",
   "execution_count": 10,
   "metadata": {
    "ExecuteTime": {
     "end_time": "2019-02-21T21:55:48.201290Z",
     "start_time": "2019-02-21T21:55:48.195452Z"
    },
    "scrolled": true
   },
   "outputs": [
    {
     "name": "stdout",
     "output_type": "stream",
     "text": [
      "state: (0, 0)\n",
      "\taction: (1, 0)\n",
      "\t\tnext state: (1, 0)\n",
      "\t\t\treward: -1\n",
      "\taction: (0, 1)\n",
      "\t\tnext state: (0, 1)\n",
      "\t\t\treward: -1\n",
      "\taction: (-1, 0)\n",
      "\t\tnext state: (0, 0)\n",
      "\t\t\treward: -1\n",
      "\taction: (0, -1)\n",
      "\t\tnext state: (0, 0)\n",
      "\t\t\treward: -1\n",
      "state: (0, 1)\n",
      "\taction: (1, 0)\n",
      "\t\tnext state: (1, 1)\n",
      "\t\t\treward: -1\n",
      "\taction: (0, 1)\n",
      "\t\tnext state: (0, 2)\n",
      "\t\t\treward: -1\n",
      "\taction: (-1, 0)\n",
      "\t\tnext state: (0, 1)\n",
      "\t\t\treward: -1\n",
      "\taction: (0, -1)\n",
      "\t\tnext state: (0, 0)\n",
      "\t\t\treward: -1\n",
      "state: (0, 2)\n",
      "\taction: (1, 0)\n",
      "\t\tnext state: (1, 2)\n",
      "\t\t\treward: -1\n",
      "\taction: (0, 1)\n",
      "\t\tnext state: (0, 3)\n",
      "\t\t\treward: -1\n",
      "\taction: (-1, 0)\n",
      "\t\tnext state: (0, 2)\n",
      "\t\t\treward: -1\n",
      "\taction: (0, -1)\n",
      "\t\tnext state: (0, 1)\n",
      "\t\t\treward: -1\n",
      "state: (0, 3)\n",
      "\taction: (1, 0)\n",
      "\t\tnext state: (1, 3)\n",
      "\t\t\treward: -1\n",
      "\taction: (0, 1)\n",
      "\t\tnext state: (0, 4)\n",
      "\t\t\treward: -1\n",
      "\taction: (-1, 0)\n",
      "\t\tnext state: (0, 3)\n",
      "\t\t\treward: -1\n",
      "\taction: (0, -1)\n",
      "\t\tnext state: (0, 2)\n",
      "\t\t\treward: -1\n",
      "state: (0, 4)\n",
      "\taction: (1, 0)\n",
      "\t\tnext state: (1, 4)\n",
      "\t\t\treward: -1\n",
      "\taction: (0, 1)\n",
      "\t\tnext state: (0, 4)\n",
      "\t\t\treward: -1\n",
      "\taction: (-1, 0)\n",
      "\t\tnext state: (0, 4)\n",
      "\t\t\treward: -1\n",
      "\taction: (0, -1)\n",
      "\t\tnext state: (0, 3)\n",
      "\t\t\treward: -1\n",
      "state: (1, 0)\n",
      "\taction: (1, 0)\n",
      "\t\tnext state: (2, 0)\n",
      "\t\t\treward: -1\n",
      "\taction: (0, 1)\n",
      "\t\tnext state: (1, 1)\n",
      "\t\t\treward: -1\n",
      "\taction: (-1, 0)\n",
      "\t\tnext state: (0, 0)\n",
      "\t\t\treward: -1\n",
      "\taction: (0, -1)\n",
      "\t\tnext state: (1, 0)\n",
      "\t\t\treward: -1\n",
      "state: (1, 1)\n",
      "\taction: (1, 0)\n",
      "\t\tnext state: (2, 1)\n",
      "\t\t\treward: 10\n",
      "\taction: (0, 1)\n",
      "\t\tnext state: (1, 2)\n",
      "\t\t\treward: 10\n",
      "\taction: (-1, 0)\n",
      "\t\tnext state: (0, 1)\n",
      "\t\t\treward: 10\n",
      "\taction: (0, -1)\n",
      "\t\tnext state: (1, 0)\n",
      "\t\t\treward: 10\n",
      "state: (1, 2)\n",
      "\taction: (1, 0)\n",
      "\t\tnext state: (2, 2)\n",
      "\t\t\treward: -100\n",
      "\taction: (0, 1)\n",
      "\t\tnext state: (1, 3)\n",
      "\t\t\treward: -100\n",
      "\taction: (-1, 0)\n",
      "\t\tnext state: (0, 2)\n",
      "\t\t\treward: -100\n",
      "\taction: (0, -1)\n",
      "\t\tnext state: (1, 1)\n",
      "\t\t\treward: -100\n",
      "state: (1, 3)\n",
      "\taction: (1, 0)\n",
      "\t\tnext state: (2, 3)\n",
      "\t\t\treward: -1\n",
      "\taction: (0, 1)\n",
      "\t\tnext state: (1, 4)\n",
      "\t\t\treward: -1\n",
      "\taction: (-1, 0)\n",
      "\t\tnext state: (0, 3)\n",
      "\t\t\treward: -1\n",
      "\taction: (0, -1)\n",
      "\t\tnext state: (1, 2)\n",
      "\t\t\treward: -1\n",
      "state: (1, 4)\n",
      "\taction: (1, 0)\n",
      "\t\tnext state: (2, 4)\n",
      "\t\t\treward: -1\n",
      "\taction: (0, 1)\n",
      "\t\tnext state: (1, 4)\n",
      "\t\t\treward: -1\n",
      "\taction: (-1, 0)\n",
      "\t\tnext state: (0, 4)\n",
      "\t\t\treward: -1\n",
      "\taction: (0, -1)\n",
      "\t\tnext state: (1, 3)\n",
      "\t\t\treward: -1\n",
      "state: (2, 0)\n",
      "\taction: (1, 0)\n",
      "\t\tnext state: (2, 0)\n",
      "\t\t\treward: -1\n",
      "\taction: (0, 1)\n",
      "\t\tnext state: (2, 1)\n",
      "\t\t\treward: -1\n",
      "\taction: (-1, 0)\n",
      "\t\tnext state: (1, 0)\n",
      "\t\t\treward: -1\n",
      "\taction: (0, -1)\n",
      "\t\tnext state: (2, 0)\n",
      "\t\t\treward: -1\n",
      "state: (2, 1)\n",
      "\taction: (1, 0)\n",
      "\t\tnext state: (2, 1)\n",
      "\t\t\treward: -1\n",
      "\taction: (0, 1)\n",
      "\t\tnext state: (2, 2)\n",
      "\t\t\treward: -1\n",
      "\taction: (-1, 0)\n",
      "\t\tnext state: (1, 1)\n",
      "\t\t\treward: -1\n",
      "\taction: (0, -1)\n",
      "\t\tnext state: (2, 0)\n",
      "\t\t\treward: -1\n",
      "state: (2, 2)\n",
      "\taction: (1, 0)\n",
      "\t\tnext state: (2, 2)\n",
      "\t\t\treward: -1\n",
      "\taction: (0, 1)\n",
      "\t\tnext state: (2, 3)\n",
      "\t\t\treward: -1\n",
      "\taction: (-1, 0)\n",
      "\t\tnext state: (1, 2)\n",
      "\t\t\treward: -1\n",
      "\taction: (0, -1)\n",
      "\t\tnext state: (2, 1)\n",
      "\t\t\treward: -1\n",
      "state: (2, 3)\n",
      "\taction: (1, 0)\n",
      "\t\tnext state: (2, 3)\n",
      "\t\t\treward: -1\n",
      "\taction: (0, 1)\n",
      "\t\tnext state: (2, 4)\n",
      "\t\t\treward: -1\n",
      "\taction: (-1, 0)\n",
      "\t\tnext state: (1, 3)\n",
      "\t\t\treward: -1\n",
      "\taction: (0, -1)\n",
      "\t\tnext state: (2, 2)\n",
      "\t\t\treward: -1\n",
      "state: (2, 4)\n",
      "\taction: (1, 0)\n",
      "\t\tnext state: (2, 4)\n",
      "\t\t\treward: -1\n",
      "\taction: (0, 1)\n",
      "\t\tnext state: (2, 4)\n",
      "\t\t\treward: -1\n",
      "\taction: (-1, 0)\n",
      "\t\tnext state: (1, 4)\n",
      "\t\t\treward: -1\n",
      "\taction: (0, -1)\n",
      "\t\tnext state: (2, 3)\n",
      "\t\t\treward: -1\n"
     ]
    }
   ],
   "source": [
    "levelsReward = [\"state\", \"action\", \"next state\", \"reward\"]\n",
    "viewDictionaryStructure(reward, levelsReward)"
   ]
  },
  {
   "cell_type": "code",
   "execution_count": 14,
   "metadata": {
    "ExecuteTime": {
     "end_time": "2019-02-21T21:56:01.117261Z",
     "start_time": "2019-02-21T21:56:01.025145Z"
    },
    "scrolled": false
   },
   "outputs": [
    {
     "data": {
      "image/png": "[encoded data removed]",
      "text/plain": [
       "<Figure size 324x540 with 1 Axes>"
      ]
     },
     "metadata": {
      "needs_background": "light"
     },
     "output_type": "display_data"
    }
   ],
   "source": [
    "visualizeValueTable(gridWidth, gridHeight, goalState, [trapState], optimalValues)"
   ]
  },
  {
   "cell_type": "code",
   "execution_count": 12,
   "metadata": {
    "ExecuteTime": {
     "end_time": "2019-02-21T21:55:48.215309Z",
     "start_time": "2019-02-21T21:55:48.208205Z"
    }
   },
   "outputs": [
    {
     "data": {
      "text/plain": [
       "{(0, 0): {(1, 0): 0.5, (0, 1): 0.5},\n",
       " (0, 1): {(1, 0): 1.0},\n",
       " (0, 2): {(0, -1): 1.0},\n",
       " (0, 3): {(0, -1): 1.0},\n",
       " (0, 4): {(0, -1): 1.0},\n",
       " (1, 0): {(0, 1): 1.0},\n",
       " (1, 1): {(1, 0): 0.3333333333333333,\n",
       "  (-1, 0): 0.3333333333333333,\n",
       "  (0, -1): 0.3333333333333333},\n",
       " (1, 2): {(0, -1): 1.0},\n",
       " (1, 3): {(1, 0): 0.5, (-1, 0): 0.5},\n",
       " (1, 4): {(1, 0): 0.3333333333333333,\n",
       "  (-1, 0): 0.3333333333333333,\n",
       "  (0, -1): 0.3333333333333333},\n",
       " (2, 0): {(0, 1): 0.5, (-1, 0): 0.5},\n",
       " (2, 1): {(-1, 0): 1.0},\n",
       " (2, 2): {(0, -1): 1.0},\n",
       " (2, 3): {(0, -1): 1.0},\n",
       " (2, 4): {(0, -1): 1.0}}"
      ]
     },
     "execution_count": 12,
     "metadata": {},
     "output_type": "execute_result"
    }
   ],
   "source": [
    "policy"
   ]
  },
  {
   "cell_type": "markdown",
   "metadata": {},
   "source": [
    "## Example 2: Stochastic"
   ]
  },
  {
   "cell_type": "code",
   "execution_count": 15,
   "metadata": {
    "ExecuteTime": {
     "end_time": "2019-02-21T21:56:08.627411Z",
     "start_time": "2019-02-21T21:56:08.607563Z"
    }
   },
   "outputs": [],
   "source": [
    "gridWidth = 4\n",
    "gridHeight = 4\n",
    "allActions = [(1,0), (0,1), (-1,0), (0,-1)]\n",
    "goalState = (3,1)\n",
    "trapState = (1,1)\n",
    "\n",
    "np.random.seed(1000)\n",
    "getTransition = SetupSlipperyTransition(gridWidth, gridHeight, allActions)\n",
    "transition = getTransition()\n",
    "\n",
    "getReward = SetupRewardTable(transition, allActions, goalState, trapState)\n",
    "reward = getReward()\n",
    "\n",
    "value = {state:0 for state in reward.keys()}\n",
    "\n",
    "\n",
    "performValueIteration = ValueIteration(transition, reward, value, .0001, .9)\n",
    "optimalValues, policy = performValueIteration()"
   ]
  },
  {
   "cell_type": "code",
   "execution_count": 19,
   "metadata": {
    "ExecuteTime": {
     "end_time": "2019-02-21T21:56:17.856955Z",
     "start_time": "2019-02-21T21:56:17.781535Z"
    },
    "scrolled": false
   },
   "outputs": [
    {
     "data": {
      "image/png": "[encoded data removed]",
      "text/plain": [
       "<Figure size 432x432 with 1 Axes>"
      ]
     },
     "metadata": {
      "needs_background": "light"
     },
     "output_type": "display_data"
    }
   ],
   "source": [
    "visualizeValueTable(gridWidth, gridHeight, goalState, [trapState], optimalValues)"
   ]
  },
  {
   "cell_type": "code",
   "execution_count": 17,
   "metadata": {
    "ExecuteTime": {
     "end_time": "2019-02-21T21:56:09.757558Z",
     "start_time": "2019-02-21T21:56:09.743780Z"
    },
    "scrolled": true
   },
   "outputs": [
    {
     "data": {
      "text/plain": [
       "{(0, 0): {(1, 0): 1.0},\n",
       " (0, 1): {(0, 1): 1.0},\n",
       " (0, 2): {(1, 0): 1.0},\n",
       " (0, 3): {(1, 0): 1.0},\n",
       " (1, 0): {(1, 0): 1.0},\n",
       " (1, 1): {(0, 1): 1.0},\n",
       " (1, 2): {(0, 1): 1.0},\n",
       " (1, 3): {(1, 0): 1.0},\n",
       " (2, 0): {(1, 0): 1.0},\n",
       " (2, 1): {(0, 1): 1.0},\n",
       " (2, 2): {(1, 0): 1.0},\n",
       " (2, 3): {(1, 0): 1.0},\n",
       " (3, 0): {(0, 1): 1.0},\n",
       " (3, 1): {(0, 1): 1.0},\n",
       " (3, 2): {(0, -1): 1.0},\n",
       " (3, 3): {(0, -1): 1.0}}"
      ]
     },
     "execution_count": 17,
     "metadata": {},
     "output_type": "execute_result"
    }
   ],
   "source": [
    "policy"
   ]
  },
  {
   "cell_type": "markdown",
   "metadata": {},
   "source": [
    "## Examples Raw Inputs:"
   ]
  },
  {
   "cell_type": "code",
   "execution_count": null,
   "metadata": {
    "ExecuteTime": {
     "end_time": "2019-02-21T21:55:48.359287Z",
     "start_time": "2019-02-21T21:55:48.026Z"
    }
   },
   "outputs": [],
   "source": [
    "\"\"\"\n",
    "    Example 1: Deterministic Transition\n",
    "\"\"\"\n",
    "transitionTableDet = {(0, 0): {(1, 0): {(1, 0): 1},(0, 1): {(0, 1): 1},(-1, 0): {(0, 0): 1},(0, -1): {(0, 0): 1}},(0, 1): {(1, 0): {(1, 1): 1},(0, 1): {(0, 2): 1},(-1, 0): {(0, 1): 1},(0, -1): {(0, 0): 1}},(0, 2): {(1, 0): {(1, 2): 1},(0, 1): {(0, 2): 1},(-1, 0): {(0, 2): 1},(0, -1): {(0, 1): 1}},(1, 0): {(1, 0): {(2, 0): 1},(0, 1): {(1, 1): 1},(-1, 0): {(0, 0): 1},(0, -1): {(1, 0): 1}},(1, 1): {(1, 0): {(2, 1): 1},(0, 1): {(1, 2): 1},(-1, 0): {(0, 1): 1},(0, -1): {(1, 0): 1}},(1, 2): {(1, 0): {(2, 2): 1},(0, 1): {(1, 2): 1},(-1, 0): {(0, 2): 1},(0, -1): {(1, 1): 1}},(2, 0): {(1, 0): {(3, 0): 1},(0, 1): {(2, 1): 1},(-1, 0): {(1, 0): 1},(0, -1): {(2, 0): 1}},(2, 1): {(1, 0): {(3, 1): 1},(0, 1): {(2, 2): 1},(-1, 0): {(1, 1): 1},(0, -1): {(2, 0): 1}},(2, 2): {(1, 0): {(3, 2): 1},(0, 1): {(2, 2): 1},(-1, 0): {(1, 2): 1},(0, -1): {(2, 1): 1}},(3, 0): {(1, 0): {(3, 0): 1},(0, 1): {(3, 1): 1},(-1, 0): {(2, 0): 1},(0, -1): {(3, 0): 1}},(3, 1): {(1, 0): {(3, 1): 1},(0, 1): {(3, 2): 1},(-1, 0): {(2, 1): 1},(0, -1): {(3, 0): 1}},(3, 2): {(1, 0): {(3, 2): 1},(0, 1): {(3, 2): 1},(-1, 0): {(2, 2): 1},(0, -1): {(3, 1): 1}}}\n",
    "rewardTableDet = {(0, 0): {(1, 0): {(1, 0): -1},(0, 1): {(0, 1): -1},(-1, 0): {(0, 0): -1},(0, -1): {(0, 0): -1}},(0, 1): {(1, 0): {(1, 1): -1},(0, 1): {(0, 2): -1},(-1, 0): {(0, 1): -1},(0, -1): {(0, 0): -1}},(0, 2): {(1, 0): {(1, 2): -1},(0, 1): {(0, 2): -1},(-1, 0): {(0, 2): -1},(0, -1): {(0, 1): -1}},(1, 0): {(1, 0): {(2, 0): -1},(0, 1): {(1, 1): -1},(-1, 0): {(0, 0): -1},(0, -1): {(1, 0): -1}},(1, 1): {(1, 0): {(2, 1): 10},(0, 1): {(1, 2): 10},(-1, 0): {(0, 1): 10},(0, -1): {(1, 0): 10}},(1, 2): {(1, 0): {(2, 2): -100},(0, 1): {(1, 2): -1},(-1, 0): {(0, 2): -100},(0, -1): {(1, 1): -100}},(2, 0): {(1, 0): {(3, 0): -1},(0, 1): {(2, 1): -1},(-1, 0): {(1, 0): -1},(0, -1): {(2, 0): -1}},(2, 1): {(1, 0): {(3, 1): -1},(0, 1): {(2, 2): -1},(-1, 0): {(1, 1): -1},(0, -1): {(2, 0): -1}},(2, 2): {(1, 0): {(3, 2): -1},(0, 1): {(2, 2): -1},(-1, 0): {(1, 2): -1},(0, -1): {(2, 1): -1}},(3, 0): {(1, 0): {(3, 0): -1},(0, 1): {(3, 1): -1},(-1, 0): {(2, 0): -1},(0, -1): {(3, 0): -1}},(3, 1): {(1, 0): {(3, 1): -1},(0, 1): {(3, 2): -1},(-1, 0): {(2, 1): -1},(0, -1): {(3, 0): -1}},(3, 2): {(1, 0): {(3, 2): -1},(0, 1): {(3, 2): -1},(-1, 0): {(2, 2): -1},(0, -1): {(3, 1): -1}}}\n",
    "valueTableDet = {(0, 0): 0,(0, 1): 0,(0, 2): 0,(1, 0): 0,(1, 1): 0,(1, 2): 0,(2, 0): 0,(2, 1): 0,(2, 2): 0,(3, 0): 0,(3, 1): 0,(3, 2): 0}\n",
    "convergenceTolerance = .0001\n",
    "gamma = .9\n",
    "\n",
    "\n",
    "\"\"\"\n",
    "    Example 2: Probabilistic Transition\n",
    "\"\"\"\n",
    "transitionTable = {(0, 0): {(1, 0): {(1, 0): 0.7, (0, 1): 0.2, (0, 0): 0.1},(0, 1): {(0, 1): 0.7999999999999999, (1, 0): 0.2},(-1, 0): {(0, 0): 0.7, (1, 0): 0.2, (0, 1): 0.1},(0, -1): {(0, 0): 0.7, (1, 0): 0.1, (0, 1): 0.2}},(0, 1): {(1, 0): {(1, 1): 0.7999999999999999, (0, 1): 0.1, (0, 2): 0.1},(0, 1): {(0, 2): 0.7999999999999999, (0, 0): 0.2},(-1, 0): {(0, 1): 0.8999999999999999, (0, 0): 0.1},(0, -1): {(0, 0): 0.7999999999999999, (0, 2): 0.1, (0, 1): 0.1}},(0, 2): {(1, 0): {(1, 2): 0.7999999999999999, (0, 1): 0.2},(0, 1): {(0, 3): 0.7999999999999999, (0, 1): 0.1, (1, 2): 0.1},(-1, 0): {(0, 2): 0.7, (0, 1): 0.1, (1, 2): 0.1, (0, 3): 0.1},(0, -1): {(0, 1): 0.8999999999999999, (0, 3): 0.1}},(0, 3): {(1, 0): {(1, 3): 0.8999999999999999, (0, 2): 0.1},(0, 1): {(0, 3): 0.9999999999999999},(-1, 0): {(0, 3): 0.7999999999999999, (0, 2): 0.1, (1, 3): 0.1},(0, -1): {(0, 2): 0.7999999999999999, (0, 3): 0.2}},(1, 0): {(1, 0): {(2, 0): 0.8999999999999999, (1, 1): 0.1},(0, 1): {(1, 1): 0.8999999999999999, (1, 0): 0.1},(-1, 0): {(0, 0): 0.7, (1, 1): 0.2, (2, 0): 0.1},(0, -1): {(1, 0): 0.7999999999999999, (0, 0): 0.2}},(1, 1): {(1, 0): {(2, 1): 0.7999999999999999, (1, 0): 0.1, (0, 1): 0.1},(0, 1): {(1, 2): 0.7, (2, 1): 0.30000000000000004},(-1, 0): {(0, 1): 0.7, (2, 1): 0.1, (1, 0): 0.2},(0, -1): {(1, 0): 0.7999999999999999, (0, 1): 0.1, (2, 1): 0.1}},(1, 2): {(1, 0): {(2, 2): 0.7999999999999999, (1, 3): 0.1, (1, 1): 0.1},(0, 1): {(1, 3): 0.8999999999999999, (2, 2): 0.1},(-1, 0): {(0, 2): 0.8999999999999999, (1, 1): 0.1},(0, -1): {(1, 1): 0.7999999999999999, (2, 2): 0.1, (0, 2): 0.1}},(1, 3): {(1, 0): {(2, 3): 0.7999999999999999, (1, 3): 0.2},(0, 1): {(1, 3): 0.7999999999999999, (2, 3): 0.1, (0, 3): 0.1},(-1, 0): {(0, 3): 0.7, (2, 3): 0.1, (1, 2): 0.2},(0, -1): {(1, 2): 0.7999999999999999, (0, 3): 0.2}},(2, 0): {(1, 0): {(3, 0): 0.8999999999999999, (2, 0): 0.1},(0, 1): {(2, 1): 0.7999999999999999, (3, 0): 0.1, (1, 0): 0.1},(-1, 0): {(1, 0): 0.7, (2, 0): 0.2, (2, 1): 0.1},(0, -1): {(2, 0): 0.7, (2, 1): 0.2, (1, 0): 0.1}},(2, 1): {(1, 0): {(3, 1): 0.7999999999999999, (1, 1): 0.2},(0, 1): {(2, 2): 0.7, (1, 1): 0.1, (3, 1): 0.2},(-1, 0): {(1, 1): 0.7, (2, 0): 0.1, (2, 2): 0.1, (3, 1): 0.1},(0, -1): {(2, 0): 0.7, (1, 1): 0.2, (3, 1): 0.1}},(2, 2): {(1, 0): {(3, 2): 0.7, (1, 2): 0.1, (2, 1): 0.2},(0, 1): {(2, 3): 0.7999999999999999, (2, 1): 0.2},(-1, 0): {(1, 2): 0.7999999999999999, (2, 1): 0.1, (3, 2): 0.1},(0, -1): {(2, 1): 0.7999999999999999, (1, 2): 0.1, (3, 2): 0.1}},(2, 3): {(1, 0): {(3, 3): 0.7, (2, 3): 0.2, (2, 2): 0.1},(0, 1): {(2, 3): 0.7999999999999999, (2, 2): 0.1, (3, 3): 0.1},(-1, 0): {(1, 3): 0.8999999999999999, (2, 3): 0.1},(0, -1): {(2, 2): 0.7, (3, 3): 0.1, (1, 3): 0.1, (2, 3): 0.1}},(3, 0): {(1, 0): {(3, 0): 0.7, (3, 1): 0.1, (2, 0): 0.2},(0, 1): {(3, 1): 0.7999999999999999, (2, 0): 0.2},(-1, 0): {(2, 0): 0.7999999999999999, (3, 0): 0.2},(0, -1): {(3, 0): 0.7999999999999999, (2, 0): 0.1, (3, 1): 0.1}},(3, 1): {(1, 0): {(3, 1): 0.8999999999999999, (3, 2): 0.1},(0, 1): {(3, 2): 0.7, (2, 1): 0.2, (3, 0): 0.1},(-1, 0): {(2, 1): 0.7999999999999999, (3, 0): 0.1, (3, 1): 0.1},(0, -1): {(3, 0): 0.7999999999999999, (2, 1): 0.2}},(3, 2): {(1, 0): {(3, 2): 0.7999999999999999, (3, 1): 0.1, (2, 2): 0.1},(0, 1): {(3, 3): 0.7, (3, 2): 0.2, (2, 2): 0.1},(-1, 0): {(2, 2): 0.9999999999999999},(0, -1): {(3, 1): 0.7999999999999999, (3, 3): 0.1, (3, 2): 0.1}},(3, 3): {(1, 0): {(3, 3): 0.7999999999999999, (3, 2): 0.2},(0, 1): {(3, 3): 0.7999999999999999, (3, 2): 0.2},(-1, 0): {(2, 3): 0.7999999999999999, (3, 2): 0.1, (3, 3): 0.1},(0, -1): {(3, 2): 0.7999999999999999, (2, 3): 0.2}}}\n",
    "rewardTable = {(0, 0): {(1, 0): {(1, 0): -1, (0, 1): -1, (0, 0): -1},(0, 1): {(0, 1): -1, (1, 0): -1},(-1, 0): {(0, 0): -1, (1, 0): -1, (0, 1): -1},(0, -1): {(0, 0): -1, (1, 0): -1, (0, 1): -1}},(0, 1): {(1, 0): {(1, 1): -1, (0, 1): -1, (0, 2): -1},(0, 1): {(0, 2): -1, (0, 0): -1},(-1, 0): {(0, 1): -1, (0, 0): -1},(0, -1): {(0, 0): -1, (0, 2): -1, (0, 1): -1}},(0, 2): {(1, 0): {(1, 2): -1, (0, 1): -1},(0, 1): {(0, 3): -1, (0, 1): -1, (1, 2): -1},(-1, 0): {(0, 2): -1, (0, 1): -1, (1, 2): -1, (0, 3): -1},(0, -1): {(0, 1): -1, (0, 3): -1}},(0, 3): {(1, 0): {(1, 3): -1, (0, 2): -1},(0, 1): {(0, 3): -1},(-1, 0): {(0, 3): -1, (0, 2): -1, (1, 3): -1},(0, -1): {(0, 2): -1, (0, 3): -1}},(1, 0): {(1, 0): {(2, 0): -1, (1, 1): -1},(0, 1): {(1, 1): -1, (1, 0): -1},(-1, 0): {(0, 0): -1, (1, 1): -1, (2, 0): -1},(0, -1): {(1, 0): -1, (0, 0): -1}},(1, 1): {(1, 0): {(2, 1): -100, (1, 0): -100, (0, 1): -100},(0, 1): {(1, 2): -100, (2, 1): -100},(-1, 0): {(0, 1): -100, (2, 1): -100, (1, 0): -100},(0, -1): {(1, 0): -100, (0, 1): -100, (2, 1): -100}},(1, 2): {(1, 0): {(2, 2): -1, (1, 3): -1, (1, 1): -1},(0, 1): {(1, 3): -1, (2, 2): -1},(-1, 0): {(0, 2): -1, (1, 1): -1},(0, -1): {(1, 1): -1, (2, 2): -1, (0, 2): -1}},(1, 3): {(1, 0): {(2, 3): -1, (1, 3): -1},(0, 1): {(1, 3): -1, (2, 3): -1, (0, 3): -1},(-1, 0): {(0, 3): -1, (2, 3): -1, (1, 2): -1},(0, -1): {(1, 2): -1, (0, 3): -1}},(2, 0): {(1, 0): {(3, 0): -1, (2, 0): -1},(0, 1): {(2, 1): -1, (3, 0): -1, (1, 0): -1},(-1, 0): {(1, 0): -1, (2, 0): -1, (2, 1): -1},(0, -1): {(2, 0): -1, (2, 1): -1, (1, 0): -1}},(2, 1): {(1, 0): {(3, 1): -1, (1, 1): -1},(0, 1): {(2, 2): -1, (1, 1): -1, (3, 1): -1},(-1, 0): {(1, 1): -1, (2, 0): -1, (2, 2): -1, (3, 1): -1},(0, -1): {(2, 0): -1, (1, 1): -1, (3, 1): -1}},(2, 2): {(1, 0): {(3, 2): -1, (1, 2): -1, (2, 1): -1},(0, 1): {(2, 3): -1, (2, 1): -1},(-1, 0): {(1, 2): -1, (2, 1): -1, (3, 2): -1},(0, -1): {(2, 1): -1, (1, 2): -1, (3, 2): -1}},(2, 3): {(1, 0): {(3, 3): -1, (2, 3): -1, (2, 2): -1},(0, 1): {(2, 3): -1, (2, 2): -1, (3, 3): -1},(-1, 0): {(1, 3): -1, (2, 3): -1},(0, -1): {(2, 2): -1, (3, 3): -1, (1, 3): -1, (2, 3): -1}},(3, 0): {(1, 0): {(3, 0): -1, (3, 1): -1, (2, 0): -1},(0, 1): {(3, 1): -1, (2, 0): -1},(-1, 0): {(2, 0): -1, (3, 0): -1},(0, -1): {(3, 0): -1, (2, 0): -1, (3, 1): -1}},(3, 1): {(1, 0): {(3, 1): -1, (3, 2): 10},(0, 1): {(3, 2): 10, (2, 1): 10, (3, 0): 10},(-1, 0): {(2, 1): 10, (3, 0): 10, (3, 1): -1},(0, -1): {(3, 0): 10, (2, 1): 10}},(3, 2): {(1, 0): {(3, 2): -1, (3, 1): -1, (2, 2): -1},(0, 1): {(3, 3): -1, (3, 2): -1, (2, 2): -1},(-1, 0): {(2, 2): -1},(0, -1): {(3, 1): -1, (3, 3): -1, (3, 2): -1}},(3, 3): {(1, 0): {(3, 3): -1, (3, 2): -1},(0, 1): {(3, 3): -1, (3, 2): -1},(-1, 0): {(2, 3): -1, (3, 2): -1, (3, 3): -1},(0, -1): {(3, 2): -1, (2, 3): -1}}}\n",
    "valueTable = {(0, 0): 0,(0, 1): 0,(0, 2): 0,(0, 3): 0,(1, 0): 0,(1, 1): 0,(1, 2): 0,(1, 3): 0,(2, 0): 0,(2, 1): 0,(2, 2): 0,(2, 3): 0,(3, 0): 0,(3, 1): 0,(3, 2): 0,(3, 3): 0}\n",
    "convergenceTolerance = .0001\n",
    "gamma = .9"
   ]
  }
 ],
 "metadata": {
  "kernelspec": {
   "display_name": "Python 3",
   "language": "python",
   "name": "python3"
  },
  "language_info": {
   "codemirror_mode": {
    "name": "ipython",
    "version": 3
   },
   "file_extension": ".py",
   "mimetype": "text/x-python",
   "name": "python",
   "nbconvert_exporter": "python",
   "pygments_lexer": "ipython3",
   "version": "3.6.8"
  },
  "toc": {
   "base_numbering": 1,
   "nav_menu": {},
   "number_sections": true,
   "sideBar": true,
   "skip_h1_title": false,
   "title_cell": "Table of Contents",
   "title_sidebar": "Contents",
   "toc_cell": false,
   "toc_position": {
    "height": "calc(100% - 180px)",
    "left": "10px",
    "top": "150px",
    "width": "166.6px"
   },
   "toc_section_display": true,
   "toc_window_display": true
  }
 },
 "nbformat": 4,
 "nbformat_minor": 2
}
