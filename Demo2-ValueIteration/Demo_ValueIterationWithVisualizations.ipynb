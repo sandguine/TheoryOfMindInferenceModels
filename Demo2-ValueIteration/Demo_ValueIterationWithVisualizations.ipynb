{
 "cells": [
  {
   "cell_type": "markdown",
   "metadata": {},
   "source": [
    "# Value Iteration\n",
    "\n",
    "## Introduction\n",
    "Value iteration is a dynamic programming algorithm used for optimal sequential decision making. Using value iteration, we can build a plan for the optimal action to take in every possible situation (state). The perceived worth of an immediate action is based on an evaluation of how good that action is in the long run. In practice, dynamic programming is often difficult to implement because it is computationally expensive and requires that the dynamics of the environment are completely known. However, it serves as the fundamental structure for understanding many of the later algorithms developed for reinforcement learning.\n",
    "\n",
    "### Markov Decision Processes\n",
    "The interaction between an agent and its environment is formulated as a Markov Decision Process (MDP) where we assume a finite set of states $\\mathcal{S}$, actions $\\mathcal{A}$, and numerical rewards $\\mathcal{R}$:$\\mathcal{S}\\times \\mathcal{A} \\times \\mathcal{S} \\rightarrow \\mathbb{R}$, a function of state, action, next state tuple. The dynamics, $\\mathcal{T}: \\mathcal{S} \\times \\mathcal{S} \\times \\mathcal{A} \\rightarrow [0, 1]$, can be described by a function $p(s^\\prime | s, a), \\: \\forall s \\in \\mathcal{S}, a \\in \\mathcal{A},  s^\\prime \\in \\mathcal{S}$.  If the task is episodic (i.e. can be broken into natural subsequences with a clear ending point) than $s^\\prime \\in \\mathcal{S}^+$ where $\\mathcal{S}^+$ contains $\\mathcal{S}$ as well as terminal or end states. Here we will treat the task as a continuing one.\n",
    "\n",
    "### Value Iteration\n",
    "Value iteration finds the optimal policy for each state action pair in the space. The Q-values corresponding to the optimal policy can be represented as:\n",
    "    $$ q_*(s, a) = \\mathbb{E}[R_{t+1} + \\gamma \\max_{a^\\prime} q_*(S_{t+1}, a^\\prime)| S_t = s, A_t = a] $$\n",
    "    $$  = \\sum_{s^\\prime, r}p(r, s^\\prime| s, a)[r +\\gamma \\max_{a^\\prime} q_*(s^\\prime, a^\\prime)]  $$\n",
    "\n",
    "Finding the optimal policy requires two pieces: being able to evaluate a policy and improving on it. To evaluate a policy, we estimate the value of the states under that policy. Once we evaluate a policy, we want to know whether to stick with the policy or if doing something different would lead to improvements. If we can find an action to take for even one of the states that leads to higher accumulated expected rewards than our current policy, that new policy is better than the existing one. Thus, in value iteration we go through each state and perform evaluation and improvement simultaneously until convergence. At each step of the algorithm, the value function is equivalent to the expected accumulation of rewards from following a particular policy.\n",
    "\n",
    "We use $\\sum_{s^\\prime, r} p(s^\\prime, r | s, a)[r + \\gamma V(s^\\prime)]$ to quantify how good each possible action is for the current state (evaluation) and choose the action that maximizes that value  using $\\underset{a}{\\max}$ (improvement).\n",
    "\n",
    "Thus at each iteration (until convergence) we update the value of each state:\n",
    "$$ V(s)_{k+1} = \\sum_a \\pi(a|s)  \\sum_{s^\\prime, r}P(s^\\prime, r|s, a)[r + \\gamma v(s^\\prime)]$$\n",
    "\n",
    "\n",
    "## Included in the Demo\n",
    "This demo performs value iteration and visualizes the resulting policies and state values in a 2D world. Inputs include a discrete transition table, $P(s^\\prime s, a)$, a reward function $R(s,a)$ and discounting factor $\\gamma$.\n",
    "Outputs are a policy $\\pi(a|s)$ which can be visualized in the demo examples as probabilistic arrows on a 2D grid.\n",
    "                                                                                              "
   ]
  },
  {
   "cell_type": "code",
   "execution_count": 1,
   "metadata": {
    "ExecuteTime": {
     "end_time": "2019-11-19T23:30:49.228437Z",
     "start_time": "2019-11-19T23:30:49.075051Z"
    }
   },
   "outputs": [],
   "source": [
    "import sys\n",
    "sys.path.append('../')\n",
    "from SetupTransitionTable import SetupDeterministicTransitionByGrid, SetupSlipperyTransitionByGrid\n",
    "from SetupRewardTable import SetupRewardTableWithDistanceMoveCost\n",
    "from visualizations import *\n",
    "\n",
    "import numpy as np\n",
    "import itertools\n",
    "from ValueIterationSolution import ValueIteration"
   ]
  },
  {
   "cell_type": "markdown",
   "metadata": {},
   "source": [
    "# Examples"
   ]
  },
  {
   "cell_type": "markdown",
   "metadata": {},
   "source": [
    "## Example 1: Setup Deterministic Transition"
   ]
  },
  {
   "cell_type": "markdown",
   "metadata": {},
   "source": [
    "### Environmental Parameters and example environment\n",
    "Red Squares represent trap states, green squares are goal states."
   ]
  },
  {
   "cell_type": "code",
   "execution_count": 2,
   "metadata": {
    "ExecuteTime": {
     "end_time": "2019-11-19T23:30:49.310358Z",
     "start_time": "2019-11-19T23:30:49.229427Z"
    }
   },
   "outputs": [
    {
     "data": {
      "image/png": "[encoded data removed]",
      "text/plain": [
       "<Figure size 216x432 with 1 Axes>"
      ]
     },
     "metadata": {
      "needs_background": "light"
     },
     "output_type": "display_data"
    }
   ],
   "source": [
    "gridWidth = 3\n",
    "gridHeight = 5\n",
    "allActions = [(1,0), (0,1), (-1,0), (0,-1), (0,0)]\n",
    "goalState = (1,1)\n",
    "trapState = (1,2)\n",
    "stateSet = list(itertools.product(range(gridWidth), range(gridHeight)))\n",
    "visualizeEnvironmentByState(states= stateSet, \n",
    "                            goalStates = [goalState], \n",
    "                            trapStates = [trapState])"
   ]
  },
  {
   "cell_type": "code",
   "execution_count": 3,
   "metadata": {
    "ExecuteTime": {
     "end_time": "2019-11-19T23:30:49.327799Z",
     "start_time": "2019-11-19T23:30:49.311708Z"
    }
   },
   "outputs": [],
   "source": [
    "np.random.seed(1000)\n",
    "getTransition = SetupDeterministicTransitionByGrid(gridWidth, gridHeight, allActions)\n",
    "transition = getTransition()\n",
    "\n",
    "getReward = SetupRewardTableWithDistanceMoveCost(transition, allActions, [goalState], [trapState])\n",
    "reward = getReward()\n",
    "\n",
    "value = {state:0 for state in reward.keys()}\n",
    "\n",
    "#run value iteration\n",
    "performValueIteration = ValueIteration(transition, reward, value, .000001, .9)\n",
    "optimalValues, policy = performValueIteration()"
   ]
  },
  {
   "cell_type": "markdown",
   "metadata": {},
   "source": [
    "### Examples of selected Transition Table States"
   ]
  },
  {
   "cell_type": "code",
   "execution_count": 4,
   "metadata": {
    "ExecuteTime": {
     "end_time": "2019-11-19T23:30:49.332995Z",
     "start_time": "2019-11-19T23:30:49.329061Z"
    },
    "scrolled": true
   },
   "outputs": [
    {
     "name": "stdout",
     "output_type": "stream",
     "text": [
      "state: (1, 0)\n",
      "\taction: (1, 0)\n",
      "\t\tnext state: 1\n",
      "state: (0, 1)\n",
      "\taction: (0, 1)\n",
      "\t\tnext state: 1\n",
      "state: (-1, 0)\n",
      "\taction: (0, 0)\n",
      "\t\tnext state: 1\n",
      "state: (0, -1)\n",
      "\taction: (0, 0)\n",
      "\t\tnext state: 1\n",
      "state: (0, 0)\n",
      "\taction: (0, 0)\n",
      "\t\tnext state: 1\n"
     ]
    }
   ],
   "source": [
    "#Examples of state transition for (0,0)\n",
    "# Note that taking an action off the board leaves you in place\n",
    "viewDictionaryStructure(transition[(0,0)], 't')"
   ]
  },
  {
   "cell_type": "code",
   "execution_count": 5,
   "metadata": {
    "ExecuteTime": {
     "end_time": "2019-11-19T23:30:49.337137Z",
     "start_time": "2019-11-19T23:30:49.334622Z"
    }
   },
   "outputs": [
    {
     "name": "stdout",
     "output_type": "stream",
     "text": [
      "state: (1, 0)\n",
      "\taction: (2, 2)\n",
      "\t\tnext state: 1\n",
      "state: (0, 1)\n",
      "\taction: (2, 3)\n",
      "\t\tnext state: 1\n",
      "state: (-1, 0)\n",
      "\taction: (1, 2)\n",
      "\t\tnext state: 1\n",
      "state: (0, -1)\n",
      "\taction: (2, 1)\n",
      "\t\tnext state: 1\n",
      "state: (0, 0)\n",
      "\taction: (2, 2)\n",
      "\t\tnext state: 1\n"
     ]
    }
   ],
   "source": [
    "#Transition for state (2,2)\n",
    "#Deterministic transition => P(s') = 1 if it is possible to move there\n",
    "viewDictionaryStructure(transition[(2,2)], 't')"
   ]
  },
  {
   "cell_type": "markdown",
   "metadata": {
    "ExecuteTime": {
     "end_time": "2019-11-19T00:01:25.351795Z",
     "start_time": "2019-11-19T00:01:25.349893Z"
    }
   },
   "source": [
    "### Examples of Selected State Action Rewards"
   ]
  },
  {
   "cell_type": "code",
   "execution_count": 6,
   "metadata": {
    "ExecuteTime": {
     "end_time": "2019-11-19T23:30:49.340715Z",
     "start_time": "2019-11-19T23:30:49.338520Z"
    },
    "scrolled": true
   },
   "outputs": [
    {
     "name": "stdout",
     "output_type": "stream",
     "text": [
      "state: (1, 0)\n",
      "\taction: (2, 2)\n",
      "\t\tnext state: -100\n",
      "state: (0, 1)\n",
      "\taction: (1, 3)\n",
      "\t\tnext state: -100\n",
      "state: (-1, 0)\n",
      "\taction: (0, 2)\n",
      "\t\tnext state: -100\n",
      "state: (0, -1)\n",
      "\taction: (1, 1)\n",
      "\t\tnext state: -100\n",
      "state: (0, 0)\n",
      "\taction: (1, 2)\n",
      "\t\tnext state: -100\n"
     ]
    }
   ],
   "source": [
    "#Reward for trap state\n",
    "viewDictionaryStructure(reward[(1,2)], 'r')"
   ]
  },
  {
   "cell_type": "code",
   "execution_count": 7,
   "metadata": {
    "ExecuteTime": {
     "end_time": "2019-11-19T23:30:49.344335Z",
     "start_time": "2019-11-19T23:30:49.342117Z"
    }
   },
   "outputs": [
    {
     "name": "stdout",
     "output_type": "stream",
     "text": [
      "state: (1, 0)\n",
      "\taction: (2, 0)\n",
      "\t\tnext state: -1\n",
      "state: (0, 1)\n",
      "\taction: (1, 1)\n",
      "\t\tnext state: -1\n",
      "state: (-1, 0)\n",
      "\taction: (0, 0)\n",
      "\t\tnext state: -1\n",
      "state: (0, -1)\n",
      "\taction: (1, 0)\n",
      "\t\tnext state: -1\n",
      "state: (0, 0)\n",
      "\taction: (1, 0)\n",
      "\t\tnext state: -0.1\n"
     ]
    }
   ],
   "source": [
    "#reward structure for typical state\n",
    "viewDictionaryStructure(reward[(1,0)], 'r')"
   ]
  },
  {
   "cell_type": "markdown",
   "metadata": {},
   "source": [
    "### Final Optimal State Values after Value Iteration"
   ]
  },
  {
   "cell_type": "code",
   "execution_count": 8,
   "metadata": {
    "ExecuteTime": {
     "end_time": "2019-11-19T23:30:49.437706Z",
     "start_time": "2019-11-19T23:30:49.345588Z"
    },
    "scrolled": false
   },
   "outputs": [
    {
     "data": {
      "image/png": "[encoded data removed]",
      "text/plain": [
       "<Figure size 324x540 with 1 Axes>"
      ]
     },
     "metadata": {
      "needs_background": "light"
     },
     "output_type": "display_data"
    }
   ],
   "source": [
    "visualizeValueTable(gridWidth, gridHeight, goalState, [trapState], optimalValues)"
   ]
  },
  {
   "cell_type": "code",
   "execution_count": 9,
   "metadata": {
    "ExecuteTime": {
     "end_time": "2019-11-19T23:30:49.508142Z",
     "start_time": "2019-11-19T23:30:49.438906Z"
    }
   },
   "outputs": [
    {
     "data": {
      "image/png": "[encoded data removed]",
      "text/plain": [
       "<Figure size 216x432 with 1 Axes>"
      ]
     },
     "metadata": {
      "needs_background": "light"
     },
     "output_type": "display_data"
    }
   ],
   "source": [
    "visualizePolicy(stateSet, policy, (1,1),[], [(1,2)])"
   ]
  },
  {
   "cell_type": "code",
   "execution_count": 10,
   "metadata": {
    "ExecuteTime": {
     "end_time": "2019-11-19T23:30:49.512637Z",
     "start_time": "2019-11-19T23:30:49.509328Z"
    }
   },
   "outputs": [
    {
     "data": {
      "text/plain": [
       "{(0, 0): {(1, 0): 0.5, (0, 1): 0.5},\n",
       " (0, 1): {(1, 0): 1.0},\n",
       " (0, 2): {(0, -1): 1.0},\n",
       " (0, 3): {(0, -1): 1.0},\n",
       " (0, 4): {(0, -1): 1.0},\n",
       " (1, 0): {(0, 1): 1.0},\n",
       " (1, 1): {(0, 0): 1.0},\n",
       " (1, 2): {(0, -1): 1.0},\n",
       " (1, 3): {(1, 0): 0.5, (-1, 0): 0.5},\n",
       " (1, 4): {(1, 0): 0.3333333333333333,\n",
       "  (-1, 0): 0.3333333333333333,\n",
       "  (0, -1): 0.3333333333333333},\n",
       " (2, 0): {(0, 1): 0.5, (-1, 0): 0.5},\n",
       " (2, 1): {(-1, 0): 1.0},\n",
       " (2, 2): {(0, -1): 1.0},\n",
       " (2, 3): {(0, -1): 1.0},\n",
       " (2, 4): {(0, -1): 1.0}}"
      ]
     },
     "execution_count": 10,
     "metadata": {},
     "output_type": "execute_result"
    }
   ],
   "source": [
    "policy"
   ]
  },
  {
   "cell_type": "markdown",
   "metadata": {},
   "source": [
    "## Example 2: Stochastic"
   ]
  },
  {
   "cell_type": "code",
   "execution_count": 11,
   "metadata": {
    "ExecuteTime": {
     "end_time": "2019-11-19T23:30:49.577410Z",
     "start_time": "2019-11-19T23:30:49.513820Z"
    }
   },
   "outputs": [
    {
     "data": {
      "image/png": "[encoded data removed]",
      "text/plain": [
       "<Figure size 324x324 with 1 Axes>"
      ]
     },
     "metadata": {
      "needs_background": "light"
     },
     "output_type": "display_data"
    }
   ],
   "source": [
    "gridWidth = 4\n",
    "gridHeight = 4\n",
    "allActions = [(1,0), (0,1), (-1,0), (0,-1), (0,0)]\n",
    "goalState = (3,1)\n",
    "trapState = (1,1)\n",
    "stateSet = list(itertools.product(range(gridWidth), range(gridHeight)))\n",
    "visualizeEnvironmentByState(states= stateSet, \n",
    "                            goalStates = [goalState], \n",
    "                            trapStates = [trapState])"
   ]
  },
  {
   "cell_type": "code",
   "execution_count": 12,
   "metadata": {
    "ExecuteTime": {
     "end_time": "2019-11-19T23:30:49.595859Z",
     "start_time": "2019-11-19T23:30:49.578619Z"
    }
   },
   "outputs": [],
   "source": [
    "np.random.seed(1000)\n",
    "getTransition = SetupSlipperyTransitionByGrid(gridWidth, gridHeight, allActions)\n",
    "transition = getTransition()\n",
    "\n",
    "getReward = SetupRewardTableWithDistanceMoveCost(transition, allActions, [goalState], [trapState])\n",
    "reward = getReward()\n",
    "\n",
    "value = {state:0 for state in reward.keys()}\n",
    "\n",
    "\n",
    "performValueIteration = ValueIteration(transition, reward, value, .0001, .9)\n",
    "optimalValues, policy = performValueIteration()"
   ]
  },
  {
   "cell_type": "code",
   "execution_count": 13,
   "metadata": {
    "ExecuteTime": {
     "end_time": "2019-11-19T23:30:49.674396Z",
     "start_time": "2019-11-19T23:30:49.597920Z"
    },
    "scrolled": false
   },
   "outputs": [
    {
     "data": {
      "image/png": "[encoded data removed]",
      "text/plain": [
       "<Figure size 432x432 with 1 Axes>"
      ]
     },
     "metadata": {
      "needs_background": "light"
     },
     "output_type": "display_data"
    }
   ],
   "source": [
    "visualizeValueTable(gridWidth, gridHeight, goalState, [trapState], optimalValues)"
   ]
  },
  {
   "cell_type": "code",
   "execution_count": 14,
   "metadata": {
    "ExecuteTime": {
     "end_time": "2019-11-19T23:30:49.744899Z",
     "start_time": "2019-11-19T23:30:49.675467Z"
    }
   },
   "outputs": [
    {
     "data": {
      "image/png": "[encoded data removed]",
      "text/plain": [
       "<Figure size 324x324 with 1 Axes>"
      ]
     },
     "metadata": {
      "needs_background": "light"
     },
     "output_type": "display_data"
    }
   ],
   "source": [
    "visualizePolicy(stateSet, policy, (3,1),[], [(1,1)])"
   ]
  },
  {
   "cell_type": "code",
   "execution_count": 15,
   "metadata": {
    "ExecuteTime": {
     "end_time": "2019-11-19T23:30:49.749776Z",
     "start_time": "2019-11-19T23:30:49.746087Z"
    },
    "scrolled": true
   },
   "outputs": [
    {
     "data": {
      "text/plain": [
       "{(0, 0): {(1, 0): 1.0},\n",
       " (0, 1): {(0, 1): 1.0},\n",
       " (0, 2): {(1, 0): 1.0},\n",
       " (0, 3): {(1, 0): 1.0},\n",
       " (1, 0): {(1, 0): 1.0},\n",
       " (1, 1): {(1, 0): 1.0},\n",
       " (1, 2): {(1, 0): 1.0},\n",
       " (1, 3): {(0, -1): 1.0},\n",
       " (2, 0): {(1, 0): 1.0},\n",
       " (2, 1): {(1, 0): 1.0},\n",
       " (2, 2): {(1, 0): 1.0},\n",
       " (2, 3): {(1, 0): 1.0},\n",
       " (3, 0): {(0, 1): 1.0},\n",
       " (3, 1): {(0, 0): 1.0},\n",
       " (3, 2): {(0, -1): 1.0},\n",
       " (3, 3): {(0, -1): 1.0}}"
      ]
     },
     "execution_count": 15,
     "metadata": {},
     "output_type": "execute_result"
    }
   ],
   "source": [
    "policy"
   ]
  }
 ],
 "metadata": {
  "kernelspec": {
   "display_name": "Python 3",
   "language": "python",
   "name": "python3"
  },
  "language_info": {
   "codemirror_mode": {
    "name": "ipython",
    "version": 3
   },
   "file_extension": ".py",
   "mimetype": "text/x-python",
   "name": "python",
   "nbconvert_exporter": "python",
   "pygments_lexer": "ipython3",
   "version": "3.6.8"
  },
  "toc": {
   "base_numbering": 1,
   "nav_menu": {},
   "number_sections": true,
   "sideBar": true,
   "skip_h1_title": false,
   "title_cell": "Table of Contents",
   "title_sidebar": "Contents",
   "toc_cell": false,
   "toc_position": {
    "height": "calc(100% - 180px)",
    "left": "10px",
    "top": "150px",
    "width": "166.6px"
   },
   "toc_section_display": true,
   "toc_window_display": true
  }
 },
 "nbformat": 4,
 "nbformat_minor": 2
}
