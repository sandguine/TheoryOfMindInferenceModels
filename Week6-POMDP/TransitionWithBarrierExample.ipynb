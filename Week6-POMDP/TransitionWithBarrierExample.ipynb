{
 "cells": [
  {
   "cell_type": "code",
   "execution_count": 1,
   "metadata": {
    "ExecuteTime": {
     "end_time": "2019-02-24T00:19:53.839595Z",
     "start_time": "2019-02-24T00:19:53.800923Z"
    }
   },
   "outputs": [],
   "source": [
    "import itertools\n",
    "import numpy as np "
   ]
  },
  {
   "cell_type": "code",
   "execution_count": 2,
   "metadata": {
    "ExecuteTime": {
     "end_time": "2019-02-24T00:19:53.946727Z",
     "start_time": "2019-02-24T00:19:53.840709Z"
    }
   },
   "outputs": [],
   "source": [
    "import sys\n",
    "sys.path.append('../')\n",
    "from SetupRewardTable import *\n",
    "from visualizations import *\n",
    "from ValueIteration import *"
   ]
  },
  {
   "cell_type": "code",
   "execution_count": 3,
   "metadata": {
    "ExecuteTime": {
     "end_time": "2019-02-24T00:19:53.951732Z",
     "start_time": "2019-02-24T00:19:53.947829Z"
    }
   },
   "outputs": [],
   "source": [
    "class SetupEpsilonTransitionWithBarrier(object):\n",
    "    def __init__(self, stateSet, actionSet):\n",
    "        self.stateSet = stateSet\n",
    "        self.actionSet = actionSet\n",
    "\n",
    "    def __call__(self, barrierList, epsilon=0):\n",
    "        transitionTable = {state: {action:  self.getStateActionTransition(state, action, epsilon, barrierList) \\\n",
    "                                   for action in self.actionSet}\\\n",
    "                           for state in self.stateSet}\n",
    "        return(transitionTable) \n",
    "\n",
    "    \n",
    "    def getStateActionTransition(self, currentState, action, epsilon, barriers):\n",
    "        \n",
    "        nextState = self.getNextState(currentState, action, barriers)\n",
    "        \n",
    "        if currentState == nextState or epsilon == 0:\n",
    "            transitionDistribution = {nextState: 1}\n",
    "        else:\n",
    "            transitionDistribution = {nextState: 1-epsilon, currentState:epsilon}\n",
    "            \n",
    "        return(transitionDistribution)\n",
    "\n",
    "    \n",
    "    def getNextState(self, state, action, barriers):\n",
    "        potentialNextState = tuple([state[i] + action[i] for i in range(len(state))])\n",
    "        \n",
    "        if potentialNextState in self.stateSet and (not [state, potentialNextState] in barriers):\n",
    "            return(potentialNextState)\n",
    "        return(state) "
   ]
  },
  {
   "cell_type": "markdown",
   "metadata": {},
   "source": [
    "# Environments"
   ]
  },
  {
   "cell_type": "code",
   "execution_count": 4,
   "metadata": {
    "ExecuteTime": {
     "end_time": "2019-02-24T00:19:53.956220Z",
     "start_time": "2019-02-24T00:19:53.953074Z"
    }
   },
   "outputs": [],
   "source": [
    "# Actions correspond to E, N, W, S, Stay respectively\n",
    "allActions = [(1,0), (0,1), (-1,0), (0,-1), (0,0)]\n",
    "\n",
    "#all location states in grid\n",
    "gridWidth = 5\n",
    "gridHeight = 5\n",
    "gridSet = set(itertools.product(range(gridWidth), range(gridHeight)))\n",
    "\n",
    "#set of state-next state transitions to remove from each environment\n",
    "transitionBarriers = [[(2,1),(2,2)],[(2,2), (2,1)], [(3,1), (3,2)], [(3,2), (3,1)],[(4,1), (4,2)], [(4,2), (4,1)]]\n",
    "\n",
    "#final environment state sets\n",
    "stateSetC = gridSet\n",
    "\n",
    "#goal locations\n",
    "goal1 = (0,4)\n",
    "goal2 = (4,4)\n",
    "\n",
    "#probability of ineffective action\n",
    "epsilon = .1"
   ]
  },
  {
   "cell_type": "code",
   "execution_count": 5,
   "metadata": {
    "ExecuteTime": {
     "end_time": "2019-02-24T00:19:53.962101Z",
     "start_time": "2019-02-24T00:19:53.957432Z"
    }
   },
   "outputs": [],
   "source": [
    "getTransition = SetupEpsilonTransitionWithBarrier(stateSetC, allActions)\n",
    "\n",
    "# possible environment transitions\n",
    "exampleTransition = getTransition(transitionBarriers, 0)"
   ]
  },
  {
   "cell_type": "code",
   "execution_count": 6,
   "metadata": {
    "ExecuteTime": {
     "end_time": "2019-02-24T00:19:53.965286Z",
     "start_time": "2019-02-24T00:19:53.963198Z"
    }
   },
   "outputs": [],
   "source": [
    "getRewardC = SetupRewardTableWithDistanceMoveCost(exampleTransition, allActions, [goal2])\n",
    "reward = getRewardC()"
   ]
  },
  {
   "cell_type": "code",
   "execution_count": 7,
   "metadata": {
    "ExecuteTime": {
     "end_time": "2019-02-24T00:19:54.179263Z",
     "start_time": "2019-02-24T00:19:53.966489Z"
    }
   },
   "outputs": [],
   "source": [
    "valueTable = {state:0 for state in reward.keys()}\n",
    "\n",
    "getPolicyA = BoltzmannValueIteration(exampleTransition, reward, valueTable, 10e-7, .99, .6)\n",
    "optimalValuesA, policyA = getPolicyA()"
   ]
  },
  {
   "cell_type": "code",
   "execution_count": 8,
   "metadata": {
    "ExecuteTime": {
     "end_time": "2019-02-24T00:19:54.348509Z",
     "start_time": "2019-02-24T00:19:54.180274Z"
    }
   },
   "outputs": [
    {
     "data": {
      "image/png": "[encoded data removed]",
      "text/plain": [
       "<Figure size 432x432 with 1 Axes>"
      ]
     },
     "metadata": {
      "needs_background": "light"
     },
     "output_type": "display_data"
    }
   ],
   "source": [
    "visualizePolicy(states=stateSetC, policy=policyA, trueGoalState=goal2, otherGoals=[], trapStates=[], arrowScale = .3)"
   ]
  },
  {
   "cell_type": "code",
   "execution_count": 9,
   "metadata": {
    "ExecuteTime": {
     "end_time": "2019-02-24T00:19:54.352991Z",
     "start_time": "2019-02-24T00:19:54.349835Z"
    }
   },
   "outputs": [
    {
     "data": {
      "text/plain": [
       "{(1, 0): 0.2688829002494508,\n",
       " (0, 1): 0.2688829002494508,\n",
       " (-1, 0): 0.0004146487744455296,\n",
       " (0, -1): 0.0004146487744455296,\n",
       " (0, 0): 0.46140490195220746}"
      ]
     },
     "execution_count": 9,
     "metadata": {},
     "output_type": "execute_result"
    }
   ],
   "source": [
    "policyA[(4,4)]"
   ]
  },
  {
   "cell_type": "code",
   "execution_count": 11,
   "metadata": {
    "ExecuteTime": {
     "end_time": "2019-02-24T00:19:54.363269Z",
     "start_time": "2019-02-24T00:19:54.358188Z"
    }
   },
   "outputs": [],
   "source": [
    "def visualizePolicyWithBarrier(states, policy, trueGoalState, barrierList, otherGoals=[], trapStates=[], arrowScale = .3):\n",
    "    #grid height/width\n",
    "    gridAdjust = .5\n",
    "    gridScale = 1.5\n",
    "    \n",
    "    minimumx, minimumy = [min(coord) for coord in zip(*states)]\n",
    "    maximumx, maximumy = [max(coord) for coord in zip(*states)]\n",
    "    \n",
    "    plt.rcParams[\"figure.figsize\"] = [(maximumx-minimumx)*gridScale, (maximumy-minimumy)*gridScale]\n",
    "    ax = plt.gca(frameon=False, xticks = range(minimumx-1, maximumx+2), yticks = range(minimumy-1, maximumy+2))\n",
    "\n",
    "    #gridline drawing\n",
    "    for (statex, statey) in states:\n",
    "        ax.add_patch(Rectangle((statex-gridAdjust, statey-gridAdjust), 1, 1, fill=False, color='black', alpha=1))\n",
    "\n",
    "    #goal and trap coloring \n",
    "    ax.add_patch(Rectangle((trueGoalState[0]-gridAdjust, trueGoalState[1]-gridAdjust), 1, 1, fill=True, color='green', alpha=.5))\n",
    "\n",
    "    for (goalx, goaly) in otherGoals:\n",
    "        ax.add_patch(Rectangle((goalx-gridAdjust, goaly-gridAdjust), 1, 1, fill=True, color='green', alpha=.1))\n",
    "    \n",
    "    for (trapx, trapy) in trapStates:\n",
    "        ax.add_patch(Rectangle((trapx-gridAdjust, trapy-gridAdjust), 1, 1, fill=True, color='black', alpha=.1))\n",
    "\n",
    "    for (statex, statey), (nextStatex, nextStatey) in barrierList:\n",
    "        #plt.plot([statex, nextStatex], [statey, nextStatey], color = \"red\")\n",
    "        plt.arrow(statex, statey, (nextStatex-statex)*arrowScale, (nextStatey-statey)*arrowScale, head_width=0.05, head_length=0.1, color = 'red')\n",
    "    #labeled values\n",
    "    for (statex, statey), actionDict in policy.items():\n",
    "        for (optimalActionX, optimalActionY), actionProb in actionDict.items():\n",
    "            plt.arrow(statex, statey, optimalActionX*actionProb*arrowScale, optimalActionY*actionProb*arrowScale, head_width=0.05*actionProb, head_length=0.1*actionProb)    \n",
    "    plt.show()"
   ]
  },
  {
   "cell_type": "code",
   "execution_count": 12,
   "metadata": {
    "ExecuteTime": {
     "end_time": "2019-02-24T00:19:54.503562Z",
     "start_time": "2019-02-24T00:19:54.364254Z"
    },
    "scrolled": false
   },
   "outputs": [
    {
     "data": {
      "image/png": "[encoded data removed]",
      "text/plain": [
       "<Figure size 432x432 with 1 Axes>"
      ]
     },
     "metadata": {
      "needs_background": "light"
     },
     "output_type": "display_data"
    }
   ],
   "source": [
    "visualizePolicyWithBarrier(states=stateSetC, policy=policyA, trueGoalState=goal2, barrierList = transitionBarriers)"
   ]
  }
 ],
 "metadata": {
  "kernelspec": {
   "display_name": "Python 3",
   "language": "python",
   "name": "python3"
  },
  "language_info": {
   "codemirror_mode": {
    "name": "ipython",
    "version": 3
   },
   "file_extension": ".py",
   "mimetype": "text/x-python",
   "name": "python",
   "nbconvert_exporter": "python",
   "pygments_lexer": "ipython3",
   "version": "3.6.8"
  },
  "toc": {
   "base_numbering": 1,
   "nav_menu": {},
   "number_sections": true,
   "sideBar": true,
   "skip_h1_title": false,
   "title_cell": "Table of Contents",
   "title_sidebar": "Contents",
   "toc_cell": false,
   "toc_position": {},
   "toc_section_display": true,
   "toc_window_display": false
  }
 },
 "nbformat": 4,
 "nbformat_minor": 2
}
