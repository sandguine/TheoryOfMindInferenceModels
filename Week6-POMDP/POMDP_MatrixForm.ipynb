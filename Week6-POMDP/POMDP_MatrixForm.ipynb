{
 "cells": [
  {
   "cell_type": "code",
   "execution_count": 1,
   "metadata": {
    "ExecuteTime": {
     "end_time": "2019-02-12T22:16:39.748572Z",
     "start_time": "2019-02-12T22:16:39.707296Z"
    }
   },
   "outputs": [],
   "source": [
    "import itertools\n",
    "import numpy as np "
   ]
  },
  {
   "cell_type": "code",
   "execution_count": null,
   "metadata": {
    "ExecuteTime": {
     "end_time": "2019-02-12T21:57:14.100415Z",
     "start_time": "2019-02-12T21:57:13.973082Z"
    }
   },
   "outputs": [],
   "source": [
    "from setupPOMDP import *\n",
    "from visualizeEnvironment import *"
   ]
  },
  {
   "cell_type": "code",
   "execution_count": 23,
   "metadata": {
    "ExecuteTime": {
     "end_time": "2019-02-12T22:22:04.763577Z",
     "start_time": "2019-02-12T22:22:04.759413Z"
    }
   },
   "outputs": [],
   "source": [
    "# Actions correspond to E, N, W, S, Stay respectively\n",
    "allActions = [(1,0), (0,1), (-1,0), (0,-1), (0,0)]\n",
    "\n",
    "#all location states in grid\n",
    "numWorlds = 6\n",
    "gridWidth = 10\n",
    "gridHeight = 5\n",
    "gridSet = set(itertools.product(range(gridWidth), range(gridHeight)))\n",
    "\n",
    "#set of states to remove from each environment\n",
    "barriersC = {(2,2), (3,2), (4,2), (5,2), (6,2), (7,2), (8,2), (9,2)}\n",
    "barriersReverseC = {(0,2), (1,2), (2,2), (3,2), (4,2), (5,2), (6,2), (7,2)}\n",
    "barriersO = {(2,2), (3,2), (4,2), (5,2), (6,2), (7,2)}\n",
    "\n",
    "#final environment state sets\n",
    "stateSetC = sorted(list(gridSet.difference(barriersC)))\n",
    "stateSetReverseC = sorted(list(gridSet.difference(barriersReverseC)))\n",
    "stateSetO = sorted(list(gridSet.difference(barriersO)))\n",
    "\n",
    "#goal locations\n",
    "goal1 = (0,0)\n",
    "goal2 = (9,4)\n",
    "\n",
    "#probability of ineffective action\n",
    "epsilon = .1"
   ]
  },
  {
   "cell_type": "code",
   "execution_count": 12,
   "metadata": {
    "ExecuteTime": {
     "end_time": "2019-02-12T22:19:43.601079Z",
     "start_time": "2019-02-12T22:19:43.597339Z"
    }
   },
   "outputs": [
    {
     "data": {
      "text/plain": [
       "(50, 2)"
      ]
     },
     "execution_count": 12,
     "metadata": {},
     "output_type": "execute_result"
    }
   ],
   "source": [
    "np.array(list(gridSet)).shape"
   ]
  },
  {
   "cell_type": "code",
   "execution_count": 34,
   "metadata": {
    "ExecuteTime": {
     "end_time": "2019-02-12T22:32:10.552530Z",
     "start_time": "2019-02-12T22:32:10.549804Z"
    }
   },
   "outputs": [
    {
     "data": {
      "text/plain": [
       "array([0, 1])"
      ]
     },
     "execution_count": 34,
     "metadata": {},
     "output_type": "execute_result"
    }
   ],
   "source": [
    "a = np.arange(2)\n",
    "#a[:] = None\n",
    "a"
   ]
  },
  {
   "cell_type": "code",
   "execution_count": 38,
   "metadata": {
    "ExecuteTime": {
     "end_time": "2019-02-12T23:25:50.047571Z",
     "start_time": "2019-02-12T23:25:50.042930Z"
    }
   },
   "outputs": [],
   "source": [
    "world322 = np.arange(12).reshape(3,2,2)"
   ]
  },
  {
   "cell_type": "code",
   "execution_count": 41,
   "metadata": {
    "ExecuteTime": {
     "end_time": "2019-02-12T23:26:12.724776Z",
     "start_time": "2019-02-12T23:26:12.714265Z"
    }
   },
   "outputs": [
    {
     "data": {
      "text/plain": [
       "array([[[ 0,  1],\n",
       "        [ 2,  3]],\n",
       "\n",
       "       [[ 4,  5],\n",
       "        [ 6,  7]],\n",
       "\n",
       "       [[ 8,  9],\n",
       "        [10, 11]]])"
      ]
     },
     "execution_count": 41,
     "metadata": {},
     "output_type": "execute_result"
    }
   ],
   "source": [
    "world322"
   ]
  },
  {
   "cell_type": "code",
   "execution_count": 40,
   "metadata": {
    "ExecuteTime": {
     "end_time": "2019-02-12T23:25:59.606095Z",
     "start_time": "2019-02-12T23:25:59.603087Z"
    }
   },
   "outputs": [
    {
     "data": {
      "text/plain": [
       "array([ 0,  1,  2,  3,  4,  5,  6,  7,  8,  9, 10, 11])"
      ]
     },
     "execution_count": 40,
     "metadata": {},
     "output_type": "execute_result"
    }
   ],
   "source": [
    "world322.flatten()"
   ]
  },
  {
   "cell_type": "code",
   "execution_count": 43,
   "metadata": {
    "ExecuteTime": {
     "end_time": "2019-02-12T23:28:55.914377Z",
     "start_time": "2019-02-12T23:28:55.910463Z"
    }
   },
   "outputs": [
    {
     "data": {
      "text/plain": [
       "array([[0, 1],\n",
       "       [4, 5],\n",
       "       [8, 9]])"
      ]
     },
     "execution_count": 43,
     "metadata": {},
     "output_type": "execute_result"
    }
   ],
   "source": [
    "world322[:,0, :]"
   ]
  }
 ],
 "metadata": {
  "kernelspec": {
   "display_name": "Python 3",
   "language": "python",
   "name": "python3"
  },
  "language_info": {
   "codemirror_mode": {
    "name": "ipython",
    "version": 3
   },
   "file_extension": ".py",
   "mimetype": "text/x-python",
   "name": "python",
   "nbconvert_exporter": "python",
   "pygments_lexer": "ipython3",
   "version": "3.6.6"
  },
  "toc": {
   "base_numbering": 1,
   "nav_menu": {},
   "number_sections": true,
   "sideBar": true,
   "skip_h1_title": false,
   "title_cell": "Table of Contents",
   "title_sidebar": "Contents",
   "toc_cell": false,
   "toc_position": {},
   "toc_section_display": true,
   "toc_window_display": false
  }
 },
 "nbformat": 4,
 "nbformat_minor": 2
}
