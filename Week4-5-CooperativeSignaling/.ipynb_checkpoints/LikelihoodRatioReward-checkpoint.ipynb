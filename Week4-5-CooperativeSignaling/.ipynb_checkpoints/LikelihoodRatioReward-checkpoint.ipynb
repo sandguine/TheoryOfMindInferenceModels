{
 "cells": [
  {
   "cell_type": "code",
   "execution_count": 1,
   "metadata": {
    "ExecuteTime": {
     "end_time": "2019-02-03T09:49:45.926548Z",
     "start_time": "2019-02-03T09:49:45.785616Z"
    }
   },
   "outputs": [],
   "source": [
    "import numpy as np\n",
    "import matplotlib.pyplot as plt\n",
    "from matplotlib.patches import Rectangle\n",
    "import math\n",
    "import itertools\n",
    "\n",
    "from BoltzmannValueIteration import BoltzmannValueIteration\n",
    "from SetupDeterministicTransition import *\n",
    "from SetupTransition import *\n",
    "from SetupRewardTable import *\n",
    "from visualizations import *"
   ]
  },
  {
   "cell_type": "code",
   "execution_count": 2,
   "metadata": {
    "ExecuteTime": {
     "end_time": "2019-02-03T09:49:45.934802Z",
     "start_time": "2019-02-03T09:49:45.927679Z"
    }
   },
   "outputs": [],
   "source": [
    "class getLikelihoodRewardFunction(object):\n",
    "    def __init__(self, transitionTable, goalPolicies):\n",
    "        self.transitionTable = transitionTable\n",
    "        self.goalPolicies  = goalPolicies\n",
    "\n",
    "    def __call__(self, trueGoal, originalReward):\n",
    "        likelihoodRewardFunction = self.createLikelihoodReward(trueGoal)\n",
    "        newReward = self.mergeRewards(originalReward, likelihoodRewardFunction)\n",
    "        return(newReward)\n",
    "    \n",
    "    def createLikelihoodReward(self, trueGoal):\n",
    "        rewardFunction = {state: {action :{nextState :  self.getLikelihoodRatio(state, nextState, trueGoal) \\\n",
    "                                             for nextState in self.transitionTable[state][action].keys() } \\\n",
    "                                    for action in self.transitionTable[state].keys() } \\\n",
    "                            for state in self.transitionTable.keys() }\n",
    "        return(rewardFunction)\n",
    "    \n",
    "    def mergeRewards(self, reward1, reward2):\n",
    "        mergedReward = {state: {action :{nextState :  reward1[state][action][nextState]+reward2[state][action][nextState] \\\n",
    "                                                     for nextState in reward1[state][action].keys() } \\\n",
    "                                            for action in reward1[state].keys() } \\\n",
    "                                    for state in reward1.keys() }\n",
    "        return(mergedReward)\n",
    "    \n",
    "    def getLikelihoodRatio(self, state, nextState, goalTrue):\n",
    "        infoScale =5\n",
    "        goalLikelihood = self.getNextStateProbability(state, nextState, goalTrue)\n",
    "        notGoalLikelihood = sum([self.getNextStateProbability(state, nextState, g)\\\n",
    "                                 for g in self.goalPolicies.keys()])\n",
    "        \n",
    "        likelihoodRatio = infoScale*goalLikelihood/notGoalLikelihood\n",
    "        return(likelihoodRatio)\n",
    "        \n",
    "    def getNextStateProbability(self, state, nextState, goal):\n",
    "        possibleActionsToNextState = [action for action in self.transitionTable[state] \\\n",
    "                                              if nextState in self.transitionTable[state][action]]\n",
    "        probNextState = sum([self.transitionTable[state][action][nextState]*self.goalPolicies[goal][state][action] \\\n",
    "                             for action in possibleActionsToNextState])\n",
    "        return(probNextState)\n"
   ]
  },
  {
   "cell_type": "markdown",
   "metadata": {
    "ExecuteTime": {
     "end_time": "2019-02-01T19:05:24.409967Z",
     "start_time": "2019-02-01T19:05:24.404363Z"
    }
   },
   "source": [
    "# Environment 1"
   ]
  },
  {
   "cell_type": "code",
   "execution_count": 3,
   "metadata": {
    "ExecuteTime": {
     "end_time": "2019-02-03T09:49:45.939517Z",
     "start_time": "2019-02-03T09:49:45.936391Z"
    }
   },
   "outputs": [],
   "source": [
    "gridWidth = 7\n",
    "gridHeight = 6\n",
    "allActions = [(1,0), (0,1), (-1,0), (0,-1), (0,0)]\n",
    "trapStates = [(3,0), (3,2), (3,3)]\n",
    "\n",
    "convergenceThreshold = 10e-7\n",
    "gamma = .9\n",
    "beta = 2\n",
    "\n",
    "getTransition = SetupDeterministicTransition(gridWidth, gridHeight, allActions)\n",
    "environment1Transition = getTransition()"
   ]
  },
  {
   "cell_type": "code",
   "execution_count": 4,
   "metadata": {
    "ExecuteTime": {
     "end_time": "2019-02-03T09:49:45.958152Z",
     "start_time": "2019-02-03T09:49:45.940626Z"
    },
    "scrolled": true
   },
   "outputs": [
    {
     "data": {
      "text/plain": [
       "{(0, 0): {(1, 0): {(1, 0): 1},\n",
       "  (0, 1): {(0, 1): 1},\n",
       "  (-1, 0): {(0, 0): 1},\n",
       "  (0, -1): {(0, 0): 1},\n",
       "  (0, 0): {(0, 0): 1}},\n",
       " (0, 1): {(1, 0): {(1, 1): 1},\n",
       "  (0, 1): {(0, 2): 1},\n",
       "  (-1, 0): {(0, 1): 1},\n",
       "  (0, -1): {(0, 0): 1},\n",
       "  (0, 0): {(0, 1): 1}},\n",
       " (0, 2): {(1, 0): {(1, 2): 1},\n",
       "  (0, 1): {(0, 3): 1},\n",
       "  (-1, 0): {(0, 2): 1},\n",
       "  (0, -1): {(0, 1): 1},\n",
       "  (0, 0): {(0, 2): 1}},\n",
       " (0, 3): {(1, 0): {(1, 3): 1},\n",
       "  (0, 1): {(0, 4): 1},\n",
       "  (-1, 0): {(0, 3): 1},\n",
       "  (0, -1): {(0, 2): 1},\n",
       "  (0, 0): {(0, 3): 1}},\n",
       " (0, 4): {(1, 0): {(1, 4): 1},\n",
       "  (0, 1): {(0, 5): 1},\n",
       "  (-1, 0): {(0, 4): 1},\n",
       "  (0, -1): {(0, 3): 1},\n",
       "  (0, 0): {(0, 4): 1}},\n",
       " (0, 5): {(1, 0): {(1, 5): 1},\n",
       "  (0, 1): {(0, 5): 1},\n",
       "  (-1, 0): {(0, 5): 1},\n",
       "  (0, -1): {(0, 4): 1},\n",
       "  (0, 0): {(0, 5): 1}},\n",
       " (1, 0): {(1, 0): {(2, 0): 1},\n",
       "  (0, 1): {(1, 1): 1},\n",
       "  (-1, 0): {(0, 0): 1},\n",
       "  (0, -1): {(1, 0): 1},\n",
       "  (0, 0): {(1, 0): 1}},\n",
       " (1, 1): {(1, 0): {(2, 1): 1},\n",
       "  (0, 1): {(1, 2): 1},\n",
       "  (-1, 0): {(0, 1): 1},\n",
       "  (0, -1): {(1, 0): 1},\n",
       "  (0, 0): {(1, 1): 1}},\n",
       " (1, 2): {(1, 0): {(2, 2): 1},\n",
       "  (0, 1): {(1, 3): 1},\n",
       "  (-1, 0): {(0, 2): 1},\n",
       "  (0, -1): {(1, 1): 1},\n",
       "  (0, 0): {(1, 2): 1}},\n",
       " (1, 3): {(1, 0): {(2, 3): 1},\n",
       "  (0, 1): {(1, 4): 1},\n",
       "  (-1, 0): {(0, 3): 1},\n",
       "  (0, -1): {(1, 2): 1},\n",
       "  (0, 0): {(1, 3): 1}},\n",
       " (1, 4): {(1, 0): {(2, 4): 1},\n",
       "  (0, 1): {(1, 5): 1},\n",
       "  (-1, 0): {(0, 4): 1},\n",
       "  (0, -1): {(1, 3): 1},\n",
       "  (0, 0): {(1, 4): 1}},\n",
       " (1, 5): {(1, 0): {(2, 5): 1},\n",
       "  (0, 1): {(1, 5): 1},\n",
       "  (-1, 0): {(0, 5): 1},\n",
       "  (0, -1): {(1, 4): 1},\n",
       "  (0, 0): {(1, 5): 1}},\n",
       " (2, 0): {(1, 0): {(3, 0): 1},\n",
       "  (0, 1): {(2, 1): 1},\n",
       "  (-1, 0): {(1, 0): 1},\n",
       "  (0, -1): {(2, 0): 1},\n",
       "  (0, 0): {(2, 0): 1}},\n",
       " (2, 1): {(1, 0): {(3, 1): 1},\n",
       "  (0, 1): {(2, 2): 1},\n",
       "  (-1, 0): {(1, 1): 1},\n",
       "  (0, -1): {(2, 0): 1},\n",
       "  (0, 0): {(2, 1): 1}},\n",
       " (2, 2): {(1, 0): {(3, 2): 1},\n",
       "  (0, 1): {(2, 3): 1},\n",
       "  (-1, 0): {(1, 2): 1},\n",
       "  (0, -1): {(2, 1): 1},\n",
       "  (0, 0): {(2, 2): 1}},\n",
       " (2, 3): {(1, 0): {(3, 3): 1},\n",
       "  (0, 1): {(2, 4): 1},\n",
       "  (-1, 0): {(1, 3): 1},\n",
       "  (0, -1): {(2, 2): 1},\n",
       "  (0, 0): {(2, 3): 1}},\n",
       " (2, 4): {(1, 0): {(3, 4): 1},\n",
       "  (0, 1): {(2, 5): 1},\n",
       "  (-1, 0): {(1, 4): 1},\n",
       "  (0, -1): {(2, 3): 1},\n",
       "  (0, 0): {(2, 4): 1}},\n",
       " (2, 5): {(1, 0): {(3, 5): 1},\n",
       "  (0, 1): {(2, 5): 1},\n",
       "  (-1, 0): {(1, 5): 1},\n",
       "  (0, -1): {(2, 4): 1},\n",
       "  (0, 0): {(2, 5): 1}},\n",
       " (3, 0): {(1, 0): {(4, 0): 1},\n",
       "  (0, 1): {(3, 1): 1},\n",
       "  (-1, 0): {(2, 0): 1},\n",
       "  (0, -1): {(3, 0): 1},\n",
       "  (0, 0): {(3, 0): 1}},\n",
       " (3, 1): {(1, 0): {(4, 1): 1},\n",
       "  (0, 1): {(3, 2): 1},\n",
       "  (-1, 0): {(2, 1): 1},\n",
       "  (0, -1): {(3, 0): 1},\n",
       "  (0, 0): {(3, 1): 1}},\n",
       " (3, 2): {(1, 0): {(4, 2): 1},\n",
       "  (0, 1): {(3, 3): 1},\n",
       "  (-1, 0): {(2, 2): 1},\n",
       "  (0, -1): {(3, 1): 1},\n",
       "  (0, 0): {(3, 2): 1}},\n",
       " (3, 3): {(1, 0): {(4, 3): 1},\n",
       "  (0, 1): {(3, 4): 1},\n",
       "  (-1, 0): {(2, 3): 1},\n",
       "  (0, -1): {(3, 2): 1},\n",
       "  (0, 0): {(3, 3): 1}},\n",
       " (3, 4): {(1, 0): {(4, 4): 1},\n",
       "  (0, 1): {(3, 5): 1},\n",
       "  (-1, 0): {(2, 4): 1},\n",
       "  (0, -1): {(3, 3): 1},\n",
       "  (0, 0): {(3, 4): 1}},\n",
       " (3, 5): {(1, 0): {(4, 5): 1},\n",
       "  (0, 1): {(3, 5): 1},\n",
       "  (-1, 0): {(2, 5): 1},\n",
       "  (0, -1): {(3, 4): 1},\n",
       "  (0, 0): {(3, 5): 1}},\n",
       " (4, 0): {(1, 0): {(5, 0): 1},\n",
       "  (0, 1): {(4, 1): 1},\n",
       "  (-1, 0): {(3, 0): 1},\n",
       "  (0, -1): {(4, 0): 1},\n",
       "  (0, 0): {(4, 0): 1}},\n",
       " (4, 1): {(1, 0): {(5, 1): 1},\n",
       "  (0, 1): {(4, 2): 1},\n",
       "  (-1, 0): {(3, 1): 1},\n",
       "  (0, -1): {(4, 0): 1},\n",
       "  (0, 0): {(4, 1): 1}},\n",
       " (4, 2): {(1, 0): {(5, 2): 1},\n",
       "  (0, 1): {(4, 3): 1},\n",
       "  (-1, 0): {(3, 2): 1},\n",
       "  (0, -1): {(4, 1): 1},\n",
       "  (0, 0): {(4, 2): 1}},\n",
       " (4, 3): {(1, 0): {(5, 3): 1},\n",
       "  (0, 1): {(4, 4): 1},\n",
       "  (-1, 0): {(3, 3): 1},\n",
       "  (0, -1): {(4, 2): 1},\n",
       "  (0, 0): {(4, 3): 1}},\n",
       " (4, 4): {(1, 0): {(5, 4): 1},\n",
       "  (0, 1): {(4, 5): 1},\n",
       "  (-1, 0): {(3, 4): 1},\n",
       "  (0, -1): {(4, 3): 1},\n",
       "  (0, 0): {(4, 4): 1}},\n",
       " (4, 5): {(1, 0): {(5, 5): 1},\n",
       "  (0, 1): {(4, 5): 1},\n",
       "  (-1, 0): {(3, 5): 1},\n",
       "  (0, -1): {(4, 4): 1},\n",
       "  (0, 0): {(4, 5): 1}},\n",
       " (5, 0): {(1, 0): {(6, 0): 1},\n",
       "  (0, 1): {(5, 1): 1},\n",
       "  (-1, 0): {(4, 0): 1},\n",
       "  (0, -1): {(5, 0): 1},\n",
       "  (0, 0): {(5, 0): 1}},\n",
       " (5, 1): {(1, 0): {(6, 1): 1},\n",
       "  (0, 1): {(5, 2): 1},\n",
       "  (-1, 0): {(4, 1): 1},\n",
       "  (0, -1): {(5, 0): 1},\n",
       "  (0, 0): {(5, 1): 1}},\n",
       " (5, 2): {(1, 0): {(6, 2): 1},\n",
       "  (0, 1): {(5, 3): 1},\n",
       "  (-1, 0): {(4, 2): 1},\n",
       "  (0, -1): {(5, 1): 1},\n",
       "  (0, 0): {(5, 2): 1}},\n",
       " (5, 3): {(1, 0): {(6, 3): 1},\n",
       "  (0, 1): {(5, 4): 1},\n",
       "  (-1, 0): {(4, 3): 1},\n",
       "  (0, -1): {(5, 2): 1},\n",
       "  (0, 0): {(5, 3): 1}},\n",
       " (5, 4): {(1, 0): {(6, 4): 1},\n",
       "  (0, 1): {(5, 5): 1},\n",
       "  (-1, 0): {(4, 4): 1},\n",
       "  (0, -1): {(5, 3): 1},\n",
       "  (0, 0): {(5, 4): 1}},\n",
       " (5, 5): {(1, 0): {(6, 5): 1},\n",
       "  (0, 1): {(5, 5): 1},\n",
       "  (-1, 0): {(4, 5): 1},\n",
       "  (0, -1): {(5, 4): 1},\n",
       "  (0, 0): {(5, 5): 1}},\n",
       " (6, 0): {(1, 0): {(6, 0): 1},\n",
       "  (0, 1): {(6, 1): 1},\n",
       "  (-1, 0): {(5, 0): 1},\n",
       "  (0, -1): {(6, 0): 1},\n",
       "  (0, 0): {(6, 0): 1}},\n",
       " (6, 1): {(1, 0): {(6, 1): 1},\n",
       "  (0, 1): {(6, 2): 1},\n",
       "  (-1, 0): {(5, 1): 1},\n",
       "  (0, -1): {(6, 0): 1},\n",
       "  (0, 0): {(6, 1): 1}},\n",
       " (6, 2): {(1, 0): {(6, 2): 1},\n",
       "  (0, 1): {(6, 3): 1},\n",
       "  (-1, 0): {(5, 2): 1},\n",
       "  (0, -1): {(6, 1): 1},\n",
       "  (0, 0): {(6, 2): 1}},\n",
       " (6, 3): {(1, 0): {(6, 3): 1},\n",
       "  (0, 1): {(6, 4): 1},\n",
       "  (-1, 0): {(5, 3): 1},\n",
       "  (0, -1): {(6, 2): 1},\n",
       "  (0, 0): {(6, 3): 1}},\n",
       " (6, 4): {(1, 0): {(6, 4): 1},\n",
       "  (0, 1): {(6, 5): 1},\n",
       "  (-1, 0): {(5, 4): 1},\n",
       "  (0, -1): {(6, 3): 1},\n",
       "  (0, 0): {(6, 4): 1}},\n",
       " (6, 5): {(1, 0): {(6, 5): 1},\n",
       "  (0, 1): {(6, 5): 1},\n",
       "  (-1, 0): {(5, 5): 1},\n",
       "  (0, -1): {(6, 4): 1},\n",
       "  (0, 0): {(6, 5): 1}}}"
      ]
     },
     "execution_count": 4,
     "metadata": {},
     "output_type": "execute_result"
    }
   ],
   "source": [
    "environment1Transition"
   ]
  },
  {
   "cell_type": "markdown",
   "metadata": {},
   "source": [
    "## Goal A"
   ]
  },
  {
   "cell_type": "code",
   "execution_count": 5,
   "metadata": {
    "ExecuteTime": {
     "end_time": "2019-02-03T09:49:45.998309Z",
     "start_time": "2019-02-03T09:49:45.959219Z"
    }
   },
   "outputs": [],
   "source": [
    "goalA = (5,1)\n",
    "getRewardA = SetupRewardTable(environment1Transition, allActions, goalA, trapStates)\n",
    "rewardA = getRewardA()\n",
    "valueA = {state:0 for state in rewardA.keys()}\n",
    "\n",
    "getPolicyA = BoltzmannValueIteration(environment1Transition, rewardA, valueA, convergenceThreshold, gamma, beta)\n",
    "optimalValuesA, policyA = getPolicyA()"
   ]
  },
  {
   "cell_type": "code",
   "execution_count": 6,
   "metadata": {
    "ExecuteTime": {
     "end_time": "2019-02-03T09:49:46.016558Z",
     "start_time": "2019-02-03T09:49:45.999698Z"
    }
   },
   "outputs": [
    {
     "data": {
      "text/plain": [
       "{(0, 0): {(1, 0): {(1, 0): -1},\n",
       "  (0, 1): {(0, 1): -1},\n",
       "  (-1, 0): {(0, 0): -1},\n",
       "  (0, -1): {(0, 0): -1},\n",
       "  (0, 0): {(0, 0): -0.1}},\n",
       " (0, 1): {(1, 0): {(1, 1): -1},\n",
       "  (0, 1): {(0, 2): -1},\n",
       "  (-1, 0): {(0, 1): -1},\n",
       "  (0, -1): {(0, 0): -1},\n",
       "  (0, 0): {(0, 1): -0.1}},\n",
       " (0, 2): {(1, 0): {(1, 2): -1},\n",
       "  (0, 1): {(0, 3): -1},\n",
       "  (-1, 0): {(0, 2): -1},\n",
       "  (0, -1): {(0, 1): -1},\n",
       "  (0, 0): {(0, 2): -0.1}},\n",
       " (0, 3): {(1, 0): {(1, 3): -1},\n",
       "  (0, 1): {(0, 4): -1},\n",
       "  (-1, 0): {(0, 3): -1},\n",
       "  (0, -1): {(0, 2): -1},\n",
       "  (0, 0): {(0, 3): -0.1}},\n",
       " (0, 4): {(1, 0): {(1, 4): -1},\n",
       "  (0, 1): {(0, 5): -1},\n",
       "  (-1, 0): {(0, 4): -1},\n",
       "  (0, -1): {(0, 3): -1},\n",
       "  (0, 0): {(0, 4): -0.1}},\n",
       " (0, 5): {(1, 0): {(1, 5): -1},\n",
       "  (0, 1): {(0, 5): -1},\n",
       "  (-1, 0): {(0, 5): -1},\n",
       "  (0, -1): {(0, 4): -1},\n",
       "  (0, 0): {(0, 5): -0.1}},\n",
       " (1, 0): {(1, 0): {(2, 0): -1},\n",
       "  (0, 1): {(1, 1): -1},\n",
       "  (-1, 0): {(0, 0): -1},\n",
       "  (0, -1): {(1, 0): -1},\n",
       "  (0, 0): {(1, 0): -0.1}},\n",
       " (1, 1): {(1, 0): {(2, 1): -1},\n",
       "  (0, 1): {(1, 2): -1},\n",
       "  (-1, 0): {(0, 1): -1},\n",
       "  (0, -1): {(1, 0): -1},\n",
       "  (0, 0): {(1, 1): -0.1}},\n",
       " (1, 2): {(1, 0): {(2, 2): -1},\n",
       "  (0, 1): {(1, 3): -1},\n",
       "  (-1, 0): {(0, 2): -1},\n",
       "  (0, -1): {(1, 1): -1},\n",
       "  (0, 0): {(1, 2): -0.1}},\n",
       " (1, 3): {(1, 0): {(2, 3): -1},\n",
       "  (0, 1): {(1, 4): -1},\n",
       "  (-1, 0): {(0, 3): -1},\n",
       "  (0, -1): {(1, 2): -1},\n",
       "  (0, 0): {(1, 3): -0.1}},\n",
       " (1, 4): {(1, 0): {(2, 4): -1},\n",
       "  (0, 1): {(1, 5): -1},\n",
       "  (-1, 0): {(0, 4): -1},\n",
       "  (0, -1): {(1, 3): -1},\n",
       "  (0, 0): {(1, 4): -0.1}},\n",
       " (1, 5): {(1, 0): {(2, 5): -1},\n",
       "  (0, 1): {(1, 5): -1},\n",
       "  (-1, 0): {(0, 5): -1},\n",
       "  (0, -1): {(1, 4): -1},\n",
       "  (0, 0): {(1, 5): -0.1}},\n",
       " (2, 0): {(1, 0): {(3, 0): -1},\n",
       "  (0, 1): {(2, 1): -1},\n",
       "  (-1, 0): {(1, 0): -1},\n",
       "  (0, -1): {(2, 0): -1},\n",
       "  (0, 0): {(2, 0): -0.1}},\n",
       " (2, 1): {(1, 0): {(3, 1): -1},\n",
       "  (0, 1): {(2, 2): -1},\n",
       "  (-1, 0): {(1, 1): -1},\n",
       "  (0, -1): {(2, 0): -1},\n",
       "  (0, 0): {(2, 1): -0.1}},\n",
       " (2, 2): {(1, 0): {(3, 2): -1},\n",
       "  (0, 1): {(2, 3): -1},\n",
       "  (-1, 0): {(1, 2): -1},\n",
       "  (0, -1): {(2, 1): -1},\n",
       "  (0, 0): {(2, 2): -0.1}},\n",
       " (2, 3): {(1, 0): {(3, 3): -1},\n",
       "  (0, 1): {(2, 4): -1},\n",
       "  (-1, 0): {(1, 3): -1},\n",
       "  (0, -1): {(2, 2): -1},\n",
       "  (0, 0): {(2, 3): -0.1}},\n",
       " (2, 4): {(1, 0): {(3, 4): -1},\n",
       "  (0, 1): {(2, 5): -1},\n",
       "  (-1, 0): {(1, 4): -1},\n",
       "  (0, -1): {(2, 3): -1},\n",
       "  (0, 0): {(2, 4): -0.1}},\n",
       " (2, 5): {(1, 0): {(3, 5): -1},\n",
       "  (0, 1): {(2, 5): -1},\n",
       "  (-1, 0): {(1, 5): -1},\n",
       "  (0, -1): {(2, 4): -1},\n",
       "  (0, 0): {(2, 5): -0.1}},\n",
       " (3, 0): {(1, 0): {(4, 0): -100},\n",
       "  (0, 1): {(3, 1): -100},\n",
       "  (-1, 0): {(2, 0): -100},\n",
       "  (0, -1): {(3, 0): -100},\n",
       "  (0, 0): {(3, 0): -100}},\n",
       " (3, 1): {(1, 0): {(4, 1): -1},\n",
       "  (0, 1): {(3, 2): -1},\n",
       "  (-1, 0): {(2, 1): -1},\n",
       "  (0, -1): {(3, 0): -1},\n",
       "  (0, 0): {(3, 1): -0.1}},\n",
       " (3, 2): {(1, 0): {(4, 2): -100},\n",
       "  (0, 1): {(3, 3): -100},\n",
       "  (-1, 0): {(2, 2): -100},\n",
       "  (0, -1): {(3, 1): -100},\n",
       "  (0, 0): {(3, 2): -100}},\n",
       " (3, 3): {(1, 0): {(4, 3): -100},\n",
       "  (0, 1): {(3, 4): -100},\n",
       "  (-1, 0): {(2, 3): -100},\n",
       "  (0, -1): {(3, 2): -100},\n",
       "  (0, 0): {(3, 3): -100}},\n",
       " (3, 4): {(1, 0): {(4, 4): -1},\n",
       "  (0, 1): {(3, 5): -1},\n",
       "  (-1, 0): {(2, 4): -1},\n",
       "  (0, -1): {(3, 3): -1},\n",
       "  (0, 0): {(3, 4): -0.1}},\n",
       " (3, 5): {(1, 0): {(4, 5): -1},\n",
       "  (0, 1): {(3, 5): -1},\n",
       "  (-1, 0): {(2, 5): -1},\n",
       "  (0, -1): {(3, 4): -1},\n",
       "  (0, 0): {(3, 5): -0.1}},\n",
       " (4, 0): {(1, 0): {(5, 0): -1},\n",
       "  (0, 1): {(4, 1): -1},\n",
       "  (-1, 0): {(3, 0): -1},\n",
       "  (0, -1): {(4, 0): -1},\n",
       "  (0, 0): {(4, 0): -0.1}},\n",
       " (4, 1): {(1, 0): {(5, 1): -1},\n",
       "  (0, 1): {(4, 2): -1},\n",
       "  (-1, 0): {(3, 1): -1},\n",
       "  (0, -1): {(4, 0): -1},\n",
       "  (0, 0): {(4, 1): -0.1}},\n",
       " (4, 2): {(1, 0): {(5, 2): -1},\n",
       "  (0, 1): {(4, 3): -1},\n",
       "  (-1, 0): {(3, 2): -1},\n",
       "  (0, -1): {(4, 1): -1},\n",
       "  (0, 0): {(4, 2): -0.1}},\n",
       " (4, 3): {(1, 0): {(5, 3): -1},\n",
       "  (0, 1): {(4, 4): -1},\n",
       "  (-1, 0): {(3, 3): -1},\n",
       "  (0, -1): {(4, 2): -1},\n",
       "  (0, 0): {(4, 3): -0.1}},\n",
       " (4, 4): {(1, 0): {(5, 4): -1},\n",
       "  (0, 1): {(4, 5): -1},\n",
       "  (-1, 0): {(3, 4): -1},\n",
       "  (0, -1): {(4, 3): -1},\n",
       "  (0, 0): {(4, 4): -0.1}},\n",
       " (4, 5): {(1, 0): {(5, 5): -1},\n",
       "  (0, 1): {(4, 5): -1},\n",
       "  (-1, 0): {(3, 5): -1},\n",
       "  (0, -1): {(4, 4): -1},\n",
       "  (0, 0): {(4, 5): -0.1}},\n",
       " (5, 0): {(1, 0): {(6, 0): -1},\n",
       "  (0, 1): {(5, 1): -1},\n",
       "  (-1, 0): {(4, 0): -1},\n",
       "  (0, -1): {(5, 0): -1},\n",
       "  (0, 0): {(5, 0): -0.1}},\n",
       " (5, 1): {(1, 0): {(6, 1): 9},\n",
       "  (0, 1): {(5, 2): 9},\n",
       "  (-1, 0): {(4, 1): 9},\n",
       "  (0, -1): {(5, 0): 9},\n",
       "  (0, 0): {(5, 1): 9.9}},\n",
       " (5, 2): {(1, 0): {(6, 2): -1},\n",
       "  (0, 1): {(5, 3): -1},\n",
       "  (-1, 0): {(4, 2): -1},\n",
       "  (0, -1): {(5, 1): -1},\n",
       "  (0, 0): {(5, 2): -0.1}},\n",
       " (5, 3): {(1, 0): {(6, 3): -1},\n",
       "  (0, 1): {(5, 4): -1},\n",
       "  (-1, 0): {(4, 3): -1},\n",
       "  (0, -1): {(5, 2): -1},\n",
       "  (0, 0): {(5, 3): -0.1}},\n",
       " (5, 4): {(1, 0): {(6, 4): -1},\n",
       "  (0, 1): {(5, 5): -1},\n",
       "  (-1, 0): {(4, 4): -1},\n",
       "  (0, -1): {(5, 3): -1},\n",
       "  (0, 0): {(5, 4): -0.1}},\n",
       " (5, 5): {(1, 0): {(6, 5): -1},\n",
       "  (0, 1): {(5, 5): -1},\n",
       "  (-1, 0): {(4, 5): -1},\n",
       "  (0, -1): {(5, 4): -1},\n",
       "  (0, 0): {(5, 5): -0.1}},\n",
       " (6, 0): {(1, 0): {(6, 0): -1},\n",
       "  (0, 1): {(6, 1): -1},\n",
       "  (-1, 0): {(5, 0): -1},\n",
       "  (0, -1): {(6, 0): -1},\n",
       "  (0, 0): {(6, 0): -0.1}},\n",
       " (6, 1): {(1, 0): {(6, 1): -1},\n",
       "  (0, 1): {(6, 2): -1},\n",
       "  (-1, 0): {(5, 1): -1},\n",
       "  (0, -1): {(6, 0): -1},\n",
       "  (0, 0): {(6, 1): -0.1}},\n",
       " (6, 2): {(1, 0): {(6, 2): -1},\n",
       "  (0, 1): {(6, 3): -1},\n",
       "  (-1, 0): {(5, 2): -1},\n",
       "  (0, -1): {(6, 1): -1},\n",
       "  (0, 0): {(6, 2): -0.1}},\n",
       " (6, 3): {(1, 0): {(6, 3): -1},\n",
       "  (0, 1): {(6, 4): -1},\n",
       "  (-1, 0): {(5, 3): -1},\n",
       "  (0, -1): {(6, 2): -1},\n",
       "  (0, 0): {(6, 3): -0.1}},\n",
       " (6, 4): {(1, 0): {(6, 4): -1},\n",
       "  (0, 1): {(6, 5): -1},\n",
       "  (-1, 0): {(5, 4): -1},\n",
       "  (0, -1): {(6, 3): -1},\n",
       "  (0, 0): {(6, 4): -0.1}},\n",
       " (6, 5): {(1, 0): {(6, 5): -1},\n",
       "  (0, 1): {(6, 5): -1},\n",
       "  (-1, 0): {(5, 5): -1},\n",
       "  (0, -1): {(6, 4): -1},\n",
       "  (0, 0): {(6, 5): -0.1}}}"
      ]
     },
     "execution_count": 6,
     "metadata": {},
     "output_type": "execute_result"
    }
   ],
   "source": [
    "rewardA"
   ]
  },
  {
   "cell_type": "markdown",
   "metadata": {},
   "source": [
    "## Goal B"
   ]
  },
  {
   "cell_type": "code",
   "execution_count": 7,
   "metadata": {
    "ExecuteTime": {
     "end_time": "2019-02-03T09:49:46.058333Z",
     "start_time": "2019-02-03T09:49:46.018027Z"
    }
   },
   "outputs": [],
   "source": [
    "goalB = (6,4)\n",
    "getRewardB = SetupRewardTable(environment1Transition, allActions, goalB, trapStates)\n",
    "rewardB = getRewardB()\n",
    "valueB = {state:0 for state in rewardB.keys()}\n",
    "\n",
    "getPolicyB = BoltzmannValueIteration(environment1Transition, rewardB, valueB, convergenceThreshold, gamma, beta)\n",
    "optimalValuesB, policyB = getPolicyB()"
   ]
  },
  {
   "cell_type": "code",
   "execution_count": 8,
   "metadata": {
    "ExecuteTime": {
     "end_time": "2019-02-03T09:49:46.076346Z",
     "start_time": "2019-02-03T09:49:46.059921Z"
    },
    "scrolled": true
   },
   "outputs": [
    {
     "data": {
      "text/plain": [
       "{(0, 0): {(1, 0): {(1, 0): -1},\n",
       "  (0, 1): {(0, 1): -1},\n",
       "  (-1, 0): {(0, 0): -1},\n",
       "  (0, -1): {(0, 0): -1},\n",
       "  (0, 0): {(0, 0): -0.1}},\n",
       " (0, 1): {(1, 0): {(1, 1): -1},\n",
       "  (0, 1): {(0, 2): -1},\n",
       "  (-1, 0): {(0, 1): -1},\n",
       "  (0, -1): {(0, 0): -1},\n",
       "  (0, 0): {(0, 1): -0.1}},\n",
       " (0, 2): {(1, 0): {(1, 2): -1},\n",
       "  (0, 1): {(0, 3): -1},\n",
       "  (-1, 0): {(0, 2): -1},\n",
       "  (0, -1): {(0, 1): -1},\n",
       "  (0, 0): {(0, 2): -0.1}},\n",
       " (0, 3): {(1, 0): {(1, 3): -1},\n",
       "  (0, 1): {(0, 4): -1},\n",
       "  (-1, 0): {(0, 3): -1},\n",
       "  (0, -1): {(0, 2): -1},\n",
       "  (0, 0): {(0, 3): -0.1}},\n",
       " (0, 4): {(1, 0): {(1, 4): -1},\n",
       "  (0, 1): {(0, 5): -1},\n",
       "  (-1, 0): {(0, 4): -1},\n",
       "  (0, -1): {(0, 3): -1},\n",
       "  (0, 0): {(0, 4): -0.1}},\n",
       " (0, 5): {(1, 0): {(1, 5): -1},\n",
       "  (0, 1): {(0, 5): -1},\n",
       "  (-1, 0): {(0, 5): -1},\n",
       "  (0, -1): {(0, 4): -1},\n",
       "  (0, 0): {(0, 5): -0.1}},\n",
       " (1, 0): {(1, 0): {(2, 0): -1},\n",
       "  (0, 1): {(1, 1): -1},\n",
       "  (-1, 0): {(0, 0): -1},\n",
       "  (0, -1): {(1, 0): -1},\n",
       "  (0, 0): {(1, 0): -0.1}},\n",
       " (1, 1): {(1, 0): {(2, 1): -1},\n",
       "  (0, 1): {(1, 2): -1},\n",
       "  (-1, 0): {(0, 1): -1},\n",
       "  (0, -1): {(1, 0): -1},\n",
       "  (0, 0): {(1, 1): -0.1}},\n",
       " (1, 2): {(1, 0): {(2, 2): -1},\n",
       "  (0, 1): {(1, 3): -1},\n",
       "  (-1, 0): {(0, 2): -1},\n",
       "  (0, -1): {(1, 1): -1},\n",
       "  (0, 0): {(1, 2): -0.1}},\n",
       " (1, 3): {(1, 0): {(2, 3): -1},\n",
       "  (0, 1): {(1, 4): -1},\n",
       "  (-1, 0): {(0, 3): -1},\n",
       "  (0, -1): {(1, 2): -1},\n",
       "  (0, 0): {(1, 3): -0.1}},\n",
       " (1, 4): {(1, 0): {(2, 4): -1},\n",
       "  (0, 1): {(1, 5): -1},\n",
       "  (-1, 0): {(0, 4): -1},\n",
       "  (0, -1): {(1, 3): -1},\n",
       "  (0, 0): {(1, 4): -0.1}},\n",
       " (1, 5): {(1, 0): {(2, 5): -1},\n",
       "  (0, 1): {(1, 5): -1},\n",
       "  (-1, 0): {(0, 5): -1},\n",
       "  (0, -1): {(1, 4): -1},\n",
       "  (0, 0): {(1, 5): -0.1}},\n",
       " (2, 0): {(1, 0): {(3, 0): -1},\n",
       "  (0, 1): {(2, 1): -1},\n",
       "  (-1, 0): {(1, 0): -1},\n",
       "  (0, -1): {(2, 0): -1},\n",
       "  (0, 0): {(2, 0): -0.1}},\n",
       " (2, 1): {(1, 0): {(3, 1): -1},\n",
       "  (0, 1): {(2, 2): -1},\n",
       "  (-1, 0): {(1, 1): -1},\n",
       "  (0, -1): {(2, 0): -1},\n",
       "  (0, 0): {(2, 1): -0.1}},\n",
       " (2, 2): {(1, 0): {(3, 2): -1},\n",
       "  (0, 1): {(2, 3): -1},\n",
       "  (-1, 0): {(1, 2): -1},\n",
       "  (0, -1): {(2, 1): -1},\n",
       "  (0, 0): {(2, 2): -0.1}},\n",
       " (2, 3): {(1, 0): {(3, 3): -1},\n",
       "  (0, 1): {(2, 4): -1},\n",
       "  (-1, 0): {(1, 3): -1},\n",
       "  (0, -1): {(2, 2): -1},\n",
       "  (0, 0): {(2, 3): -0.1}},\n",
       " (2, 4): {(1, 0): {(3, 4): -1},\n",
       "  (0, 1): {(2, 5): -1},\n",
       "  (-1, 0): {(1, 4): -1},\n",
       "  (0, -1): {(2, 3): -1},\n",
       "  (0, 0): {(2, 4): -0.1}},\n",
       " (2, 5): {(1, 0): {(3, 5): -1},\n",
       "  (0, 1): {(2, 5): -1},\n",
       "  (-1, 0): {(1, 5): -1},\n",
       "  (0, -1): {(2, 4): -1},\n",
       "  (0, 0): {(2, 5): -0.1}},\n",
       " (3, 0): {(1, 0): {(4, 0): -100},\n",
       "  (0, 1): {(3, 1): -100},\n",
       "  (-1, 0): {(2, 0): -100},\n",
       "  (0, -1): {(3, 0): -100},\n",
       "  (0, 0): {(3, 0): -100}},\n",
       " (3, 1): {(1, 0): {(4, 1): -1},\n",
       "  (0, 1): {(3, 2): -1},\n",
       "  (-1, 0): {(2, 1): -1},\n",
       "  (0, -1): {(3, 0): -1},\n",
       "  (0, 0): {(3, 1): -0.1}},\n",
       " (3, 2): {(1, 0): {(4, 2): -100},\n",
       "  (0, 1): {(3, 3): -100},\n",
       "  (-1, 0): {(2, 2): -100},\n",
       "  (0, -1): {(3, 1): -100},\n",
       "  (0, 0): {(3, 2): -100}},\n",
       " (3, 3): {(1, 0): {(4, 3): -100},\n",
       "  (0, 1): {(3, 4): -100},\n",
       "  (-1, 0): {(2, 3): -100},\n",
       "  (0, -1): {(3, 2): -100},\n",
       "  (0, 0): {(3, 3): -100}},\n",
       " (3, 4): {(1, 0): {(4, 4): -1},\n",
       "  (0, 1): {(3, 5): -1},\n",
       "  (-1, 0): {(2, 4): -1},\n",
       "  (0, -1): {(3, 3): -1},\n",
       "  (0, 0): {(3, 4): -0.1}},\n",
       " (3, 5): {(1, 0): {(4, 5): -1},\n",
       "  (0, 1): {(3, 5): -1},\n",
       "  (-1, 0): {(2, 5): -1},\n",
       "  (0, -1): {(3, 4): -1},\n",
       "  (0, 0): {(3, 5): -0.1}},\n",
       " (4, 0): {(1, 0): {(5, 0): -1},\n",
       "  (0, 1): {(4, 1): -1},\n",
       "  (-1, 0): {(3, 0): -1},\n",
       "  (0, -1): {(4, 0): -1},\n",
       "  (0, 0): {(4, 0): -0.1}},\n",
       " (4, 1): {(1, 0): {(5, 1): -1},\n",
       "  (0, 1): {(4, 2): -1},\n",
       "  (-1, 0): {(3, 1): -1},\n",
       "  (0, -1): {(4, 0): -1},\n",
       "  (0, 0): {(4, 1): -0.1}},\n",
       " (4, 2): {(1, 0): {(5, 2): -1},\n",
       "  (0, 1): {(4, 3): -1},\n",
       "  (-1, 0): {(3, 2): -1},\n",
       "  (0, -1): {(4, 1): -1},\n",
       "  (0, 0): {(4, 2): -0.1}},\n",
       " (4, 3): {(1, 0): {(5, 3): -1},\n",
       "  (0, 1): {(4, 4): -1},\n",
       "  (-1, 0): {(3, 3): -1},\n",
       "  (0, -1): {(4, 2): -1},\n",
       "  (0, 0): {(4, 3): -0.1}},\n",
       " (4, 4): {(1, 0): {(5, 4): -1},\n",
       "  (0, 1): {(4, 5): -1},\n",
       "  (-1, 0): {(3, 4): -1},\n",
       "  (0, -1): {(4, 3): -1},\n",
       "  (0, 0): {(4, 4): -0.1}},\n",
       " (4, 5): {(1, 0): {(5, 5): -1},\n",
       "  (0, 1): {(4, 5): -1},\n",
       "  (-1, 0): {(3, 5): -1},\n",
       "  (0, -1): {(4, 4): -1},\n",
       "  (0, 0): {(4, 5): -0.1}},\n",
       " (5, 0): {(1, 0): {(6, 0): -1},\n",
       "  (0, 1): {(5, 1): -1},\n",
       "  (-1, 0): {(4, 0): -1},\n",
       "  (0, -1): {(5, 0): -1},\n",
       "  (0, 0): {(5, 0): -0.1}},\n",
       " (5, 1): {(1, 0): {(6, 1): -1},\n",
       "  (0, 1): {(5, 2): -1},\n",
       "  (-1, 0): {(4, 1): -1},\n",
       "  (0, -1): {(5, 0): -1},\n",
       "  (0, 0): {(5, 1): -0.1}},\n",
       " (5, 2): {(1, 0): {(6, 2): -1},\n",
       "  (0, 1): {(5, 3): -1},\n",
       "  (-1, 0): {(4, 2): -1},\n",
       "  (0, -1): {(5, 1): -1},\n",
       "  (0, 0): {(5, 2): -0.1}},\n",
       " (5, 3): {(1, 0): {(6, 3): -1},\n",
       "  (0, 1): {(5, 4): -1},\n",
       "  (-1, 0): {(4, 3): -1},\n",
       "  (0, -1): {(5, 2): -1},\n",
       "  (0, 0): {(5, 3): -0.1}},\n",
       " (5, 4): {(1, 0): {(6, 4): -1},\n",
       "  (0, 1): {(5, 5): -1},\n",
       "  (-1, 0): {(4, 4): -1},\n",
       "  (0, -1): {(5, 3): -1},\n",
       "  (0, 0): {(5, 4): -0.1}},\n",
       " (5, 5): {(1, 0): {(6, 5): -1},\n",
       "  (0, 1): {(5, 5): -1},\n",
       "  (-1, 0): {(4, 5): -1},\n",
       "  (0, -1): {(5, 4): -1},\n",
       "  (0, 0): {(5, 5): -0.1}},\n",
       " (6, 0): {(1, 0): {(6, 0): -1},\n",
       "  (0, 1): {(6, 1): -1},\n",
       "  (-1, 0): {(5, 0): -1},\n",
       "  (0, -1): {(6, 0): -1},\n",
       "  (0, 0): {(6, 0): -0.1}},\n",
       " (6, 1): {(1, 0): {(6, 1): -1},\n",
       "  (0, 1): {(6, 2): -1},\n",
       "  (-1, 0): {(5, 1): -1},\n",
       "  (0, -1): {(6, 0): -1},\n",
       "  (0, 0): {(6, 1): -0.1}},\n",
       " (6, 2): {(1, 0): {(6, 2): -1},\n",
       "  (0, 1): {(6, 3): -1},\n",
       "  (-1, 0): {(5, 2): -1},\n",
       "  (0, -1): {(6, 1): -1},\n",
       "  (0, 0): {(6, 2): -0.1}},\n",
       " (6, 3): {(1, 0): {(6, 3): -1},\n",
       "  (0, 1): {(6, 4): -1},\n",
       "  (-1, 0): {(5, 3): -1},\n",
       "  (0, -1): {(6, 2): -1},\n",
       "  (0, 0): {(6, 3): -0.1}},\n",
       " (6, 4): {(1, 0): {(6, 4): 9},\n",
       "  (0, 1): {(6, 5): 9},\n",
       "  (-1, 0): {(5, 4): 9},\n",
       "  (0, -1): {(6, 3): 9},\n",
       "  (0, 0): {(6, 4): 9.9}},\n",
       " (6, 5): {(1, 0): {(6, 5): -1},\n",
       "  (0, 1): {(6, 5): -1},\n",
       "  (-1, 0): {(5, 5): -1},\n",
       "  (0, -1): {(6, 4): -1},\n",
       "  (0, 0): {(6, 5): -0.1}}}"
      ]
     },
     "execution_count": 8,
     "metadata": {},
     "output_type": "execute_result"
    }
   ],
   "source": [
    "rewardB"
   ]
  },
  {
   "cell_type": "markdown",
   "metadata": {},
   "source": [
    "## Joint Policies"
   ]
  },
  {
   "cell_type": "code",
   "execution_count": 9,
   "metadata": {
    "ExecuteTime": {
     "end_time": "2019-02-03T09:49:46.080365Z",
     "start_time": "2019-02-03T09:49:46.077858Z"
    },
    "scrolled": true
   },
   "outputs": [],
   "source": [
    "environment1Policies = {'a':policyA, 'b':policyB}"
   ]
  },
  {
   "cell_type": "code",
   "execution_count": 10,
   "metadata": {
    "ExecuteTime": {
     "end_time": "2019-02-03T09:49:46.087225Z",
     "start_time": "2019-02-03T09:49:46.081954Z"
    }
   },
   "outputs": [
    {
     "data": {
      "text/plain": [
       "{(1, 0): 4.982105179111398e-10,\n",
       " (0, 1): 4.982105179111398e-10,\n",
       " (-1, 0): 4.98209720528641e-10,\n",
       " (0, -1): 4.98209720528641e-10,\n",
       " (0, 0): 0.9999999980071596}"
      ]
     },
     "execution_count": 10,
     "metadata": {},
     "output_type": "execute_result"
    }
   ],
   "source": [
    "policyA[(5,1)]"
   ]
  },
  {
   "cell_type": "code",
   "execution_count": 11,
   "metadata": {
    "ExecuteTime": {
     "end_time": "2019-02-03T09:49:46.489575Z",
     "start_time": "2019-02-03T09:49:46.088268Z"
    }
   },
   "outputs": [
    {
     "data": {
      "image/png": "[encoded data removed]",
      "text/plain": [
       "<Figure size 756x648 with 1 Axes>"
      ]
     },
     "metadata": {
      "needs_background": "light"
     },
     "output_type": "display_data"
    },
    {
     "data": {
      "image/png": "[encoded data removed]",
      "text/plain": [
       "<Figure size 756x648 with 1 Axes>"
      ]
     },
     "metadata": {
      "needs_background": "light"
     },
     "output_type": "display_data"
    }
   ],
   "source": [
    "visualizeValueTable(gridWidth = gridWidth, gridHeight = gridHeight, goalState = goalA, trapStates = trapStates, valueTable = optimalValuesA)\n",
    "visualizePolicy(gridWidth, gridHeight, goalA, trapStates, policyA)"
   ]
  },
  {
   "cell_type": "code",
   "execution_count": 12,
   "metadata": {
    "ExecuteTime": {
     "end_time": "2019-02-03T09:49:46.816968Z",
     "start_time": "2019-02-03T09:49:46.490674Z"
    }
   },
   "outputs": [
    {
     "data": {
      "image/png": "[encoded data removed]",
      "text/plain": [
       "<Figure size 756x648 with 1 Axes>"
      ]
     },
     "metadata": {
      "needs_background": "light"
     },
     "output_type": "display_data"
    },
    {
     "data": {
      "image/png": "[encoded data removed]",
      "text/plain": [
       "<Figure size 756x648 with 1 Axes>"
      ]
     },
     "metadata": {
      "needs_background": "light"
     },
     "output_type": "display_data"
    }
   ],
   "source": [
    "visualizeValueTable(gridWidth = gridWidth, gridHeight = gridHeight, goalState = goalB, trapStates = trapStates, valueTable = optimalValuesB)\n",
    "visualizePolicy(gridWidth, gridHeight, goalB, trapStates, policyB)"
   ]
  },
  {
   "cell_type": "code",
   "execution_count": 13,
   "metadata": {
    "ExecuteTime": {
     "end_time": "2019-02-03T09:49:46.823146Z",
     "start_time": "2019-02-03T09:49:46.818020Z"
    }
   },
   "outputs": [],
   "source": [
    "getLikelihoodReward = getLikelihoodRewardFunction(environment1Transition, environment1Policies)\n",
    "infoRewardA = getLikelihoodReward('a', rewardA)\n",
    "infoRewardB = getLikelihoodReward('b', rewardB)"
   ]
  },
  {
   "cell_type": "code",
   "execution_count": 14,
   "metadata": {
    "ExecuteTime": {
     "end_time": "2019-02-03T09:49:46.862689Z",
     "start_time": "2019-02-03T09:49:46.824425Z"
    }
   },
   "outputs": [],
   "source": [
    "newValueA = {state:0 for state in infoRewardA.keys()}\n",
    "\n",
    "getNewPolicyA = BoltzmannValueIteration(environment1Transition, infoRewardA, newValueA, convergenceThreshold, gamma, beta)\n",
    "newOptimalA, newPolicyA = getNewPolicyA()"
   ]
  },
  {
   "cell_type": "code",
   "execution_count": 15,
   "metadata": {
    "ExecuteTime": {
     "end_time": "2019-02-03T09:49:47.193347Z",
     "start_time": "2019-02-03T09:49:46.863896Z"
    }
   },
   "outputs": [
    {
     "data": {
      "image/png": "[encoded data removed]",
      "text/plain": [
       "<Figure size 756x648 with 1 Axes>"
      ]
     },
     "metadata": {
      "needs_background": "light"
     },
     "output_type": "display_data"
    },
    {
     "data": {
      "image/png": "[encoded data removed]",
      "text/plain": [
       "<Figure size 756x648 with 1 Axes>"
      ]
     },
     "metadata": {
      "needs_background": "light"
     },
     "output_type": "display_data"
    }
   ],
   "source": [
    "visualizeValueTable(gridWidth = gridWidth, gridHeight = gridHeight, goalState = goalA, trapStates = trapStates, valueTable = newOptimalA)\n",
    "visualizePolicy(gridWidth, gridHeight, goalA, trapStates, newPolicyA)"
   ]
  },
  {
   "cell_type": "code",
   "execution_count": 16,
   "metadata": {
    "ExecuteTime": {
     "end_time": "2019-02-03T09:49:47.232928Z",
     "start_time": "2019-02-03T09:49:47.194464Z"
    }
   },
   "outputs": [],
   "source": [
    "newValueB = {state:0 for state in infoRewardB.keys()}\n",
    "\n",
    "getNewPolicyB = BoltzmannValueIteration(environment1Transition, infoRewardB, newValueB, convergenceThreshold, gamma, beta)\n",
    "newOptimalB, newPolicyB = getNewPolicyB()"
   ]
  },
  {
   "cell_type": "code",
   "execution_count": 17,
   "metadata": {
    "ExecuteTime": {
     "end_time": "2019-02-03T09:49:47.555226Z",
     "start_time": "2019-02-03T09:49:47.234017Z"
    },
    "scrolled": false
   },
   "outputs": [
    {
     "data": {
      "image/png": "[encoded data removed]",
      "text/plain": [
       "<Figure size 756x648 with 1 Axes>"
      ]
     },
     "metadata": {
      "needs_background": "light"
     },
     "output_type": "display_data"
    },
    {
     "data": {
      "image/png": "[encoded data removed]",
      "text/plain": [
       "<Figure size 756x648 with 1 Axes>"
      ]
     },
     "metadata": {
      "needs_background": "light"
     },
     "output_type": "display_data"
    }
   ],
   "source": [
    "visualizeValueTable(gridWidth = gridWidth, gridHeight = gridHeight, goalState = goalB, trapStates = trapStates, valueTable = newOptimalB)\n",
    "visualizePolicy(gridWidth, gridHeight, goalB, trapStates, newPolicyB)"
   ]
  },
  {
   "cell_type": "markdown",
   "metadata": {},
   "source": [
    "# Environment 2"
   ]
  },
  {
   "cell_type": "code",
   "execution_count": 18,
   "metadata": {
    "ExecuteTime": {
     "end_time": "2019-02-03T09:49:47.595542Z",
     "start_time": "2019-02-03T09:49:47.556281Z"
    }
   },
   "outputs": [],
   "source": [
    "\n",
    "gridWidth = 7\n",
    "gridHeight = 6\n",
    "allActions = [(1,0), (0,1), (-1,0), (0,-1), (0,0)]\n",
    "trapStates = [(3,0), (3,1), (3,2), (3,3)]\n",
    "\n",
    "convergenceThreshold = 10e-7\n",
    "gamma = .9\n",
    "beta = 2\n",
    "\n",
    "np.random.seed(124)\n",
    "getTransition = SetupTransition(gridWidth, gridHeight, allActions)\n",
    "environment1Transition = getTransition()"
   ]
  },
  {
   "cell_type": "code",
   "execution_count": null,
   "metadata": {},
   "outputs": [],
   "source": []
  },
  {
   "cell_type": "code",
   "execution_count": null,
   "metadata": {},
   "outputs": [],
   "source": []
  },
  {
   "cell_type": "code",
   "execution_count": null,
   "metadata": {},
   "outputs": [],
   "source": []
  },
  {
   "cell_type": "code",
   "execution_count": null,
   "metadata": {},
   "outputs": [],
   "source": []
  },
  {
   "cell_type": "code",
   "execution_count": null,
   "metadata": {},
   "outputs": [],
   "source": []
  }
 ],
 "metadata": {
  "kernelspec": {
   "display_name": "Python 3",
   "language": "python",
   "name": "python3"
  },
  "language_info": {
   "codemirror_mode": {
    "name": "ipython",
    "version": 3
   },
   "file_extension": ".py",
   "mimetype": "text/x-python",
   "name": "python",
   "nbconvert_exporter": "python",
   "pygments_lexer": "ipython3",
   "version": "3.6.6"
  },
  "toc": {
   "base_numbering": 1,
   "nav_menu": {},
   "number_sections": true,
   "sideBar": true,
   "skip_h1_title": false,
   "title_cell": "Table of Contents",
   "title_sidebar": "Contents",
   "toc_cell": false,
   "toc_position": {},
   "toc_section_display": true,
   "toc_window_display": false
  }
 },
 "nbformat": 4,
 "nbformat_minor": 2
}
