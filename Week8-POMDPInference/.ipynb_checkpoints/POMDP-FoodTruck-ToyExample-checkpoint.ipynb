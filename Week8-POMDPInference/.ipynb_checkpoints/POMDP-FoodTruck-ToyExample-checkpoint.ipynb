{
 "cells": [
  {
   "cell_type": "code",
   "execution_count": 1,
   "metadata": {
    "ExecuteTime": {
     "end_time": "2019-02-27T22:40:15.761395Z",
     "start_time": "2019-02-27T22:40:15.607651Z"
    }
   },
   "outputs": [],
   "source": [
    "import itertools\n",
    "import numpy as np \n",
    "import sys\n",
    "sys.path.append('../')\n",
    "from SetupTransitionTable import SetupDeterministicTransitionByStateSet\n",
    "from SetupRewardTable import SetupStateActionRewardWithUserSpecifiedCosts\n",
    "from visualizations import *"
   ]
  },
  {
   "cell_type": "code",
   "execution_count": 2,
   "metadata": {
    "ExecuteTime": {
     "end_time": "2019-02-27T22:40:15.766720Z",
     "start_time": "2019-02-27T22:40:15.762906Z"
    }
   },
   "outputs": [],
   "source": [
    "# Actions correspond to E, N, W, S, Stay respectively\n",
    "allActions = [(1,0), (0,1), (-1,0), (0,-1), (0,0)]\n",
    "\n",
    "#all location states in grid\n",
    "gridWidth = 5\n",
    "gridHeight = 4\n",
    "gridSet = set(itertools.product(range(gridWidth), range(gridHeight)))\n",
    "\n",
    "#set of states to remove from each environment\n",
    "barriersC = {(2,2), (3,2), (4,2)}\n",
    "\n",
    "#final environment state sets\n",
    "stateSetC = list(gridSet.difference(barriersC))\n",
    "\n",
    "#goal locations\n",
    "goalTruck1 = (0,0)\n",
    "goalTruck2 = (4,3)"
   ]
  },
  {
   "cell_type": "code",
   "execution_count": 3,
   "metadata": {
    "ExecuteTime": {
     "end_time": "2019-02-27T22:40:15.772107Z",
     "start_time": "2019-02-27T22:40:15.768072Z"
    }
   },
   "outputs": [],
   "source": [
    "getTransitionC = SetupDeterministicTransitionByStateSet(stateSetC, allActions)\n",
    "environmentC = getTransitionC()"
   ]
  },
  {
   "cell_type": "code",
   "execution_count": null,
   "metadata": {},
   "outputs": [],
   "source": [
    "class SetupBeliefTransition(object):\n",
    "    def __init__(self, positionSet, beliefSet, actionSet, observationPositionSet):\n",
    "        self.positionSet = positionSet\n",
    "        self.beliefSet = beliefSet\n",
    "        self.actionSet = actionSet\n",
    "        self.observationPositionSet = observationPositionSet\n",
    "\n",
    "    def __call__(self, world):\n",
    "        beliefTransition = {(position, belief): {action: self.getNewBeliefOfAction(position, belief, action, world)\\\n",
    "                             for action in self.actionSet} \\\n",
    "         for position in self.positionSet \\\n",
    "         for belief in self.beliefSet}\n",
    "        return(beliefTransition)\n",
    "        \n",
    "    def getNewBeliefOfAction(self, position, belief, action, world):\n",
    "        observation = self.getObservation(position, action, world)\n",
    "        #########################################################\n",
    "        newBelief = \n",
    "        \n",
    "        newPosition = self.getNextPosition(position, action)\n",
    "        newBeliefDictionary = {(newPosition, newBelief):1}\n",
    "        return(newBeliefDictionary)\n",
    "    \n",
    "    def getObservation(self, position, action, world):\n",
    "        nextPosition = self.getNextPosition(position, action)\n",
    "        ########################################################\n",
    "        observation = []\n",
    "        for observationSet in self.observationPositionSet:\n",
    "            if nextPosition in observationSet:\n",
    "                observation.append()\n",
    "                \n",
    "    \n",
    "    def getNextPosition(self, position, action):\n",
    "        potentialNextState = tuple([position[i] + action[i] for i in range(len(position))])\n",
    "        if potentialNextState in self.positionSet:\n",
    "            return(potentialNextState)\n",
    "        return(position) "
   ]
  },
  {
   "cell_type": "code",
   "execution_count": null,
   "metadata": {},
   "outputs": [],
   "source": []
  },
  {
   "cell_type": "code",
   "execution_count": null,
   "metadata": {},
   "outputs": [],
   "source": []
  },
  {
   "cell_type": "code",
   "execution_count": 4,
   "metadata": {
    "ExecuteTime": {
     "end_time": "2019-02-27T22:40:15.899884Z",
     "start_time": "2019-02-27T22:40:15.773283Z"
    }
   },
   "outputs": [
    {
     "data": {
      "image/png": "[encoded data removed]",
      "text/plain": [
       "<Figure size 432x324 with 1 Axes>"
      ]
     },
     "metadata": {
      "needs_background": "light"
     },
     "output_type": "display_data"
    }
   ],
   "source": [
    "#viewDictionaryStructure(environmentC, \"t\")\n",
    "visualizeEnvironmentByState(states = stateSetC, goalStates = [goalTruck1, goalTruck2])"
   ]
  },
  {
   "cell_type": "code",
   "execution_count": 5,
   "metadata": {
    "ExecuteTime": {
     "end_time": "2019-02-27T22:40:15.904121Z",
     "start_time": "2019-02-27T22:40:15.901214Z"
    }
   },
   "outputs": [],
   "source": [
    "allWorlds = [''.join(trucks) for trucks in itertools.permutations(\"KLM\", 2)]\n",
    "allPreferences = [''.join(preference) for preference in itertools.permutations(\"KLM\",3)]"
   ]
  },
  {
   "cell_type": "code",
   "execution_count": 6,
   "metadata": {
    "ExecuteTime": {
     "end_time": "2019-02-27T22:40:15.909230Z",
     "start_time": "2019-02-27T22:40:15.905749Z"
    }
   },
   "outputs": [],
   "source": [
    "def constructGoalStateRewards(truck1truck2,  preference, truckLocations = [(0,0), (4,3)], preferenceRewards = [1000, 400, 100]):\n",
    "    goalPreferences = {location : preferenceRewards[preference.index(truck)] for location, truck in zip(truckLocations, truck1truck2)}\n",
    "    return(goalPreferences)"
   ]
  },
  {
   "cell_type": "code",
   "execution_count": 7,
   "metadata": {
    "ExecuteTime": {
     "end_time": "2019-02-27T22:40:15.917393Z",
     "start_time": "2019-02-27T22:40:15.911254Z"
    }
   },
   "outputs": [
    {
     "data": {
      "text/plain": [
       "{(0, 0): 1000, (4, 3): 100}"
      ]
     },
     "execution_count": 7,
     "metadata": {},
     "output_type": "execute_result"
    }
   ],
   "source": [
    "constructGoalStateRewards('KM', 'KLM')"
   ]
  },
  {
   "cell_type": "code",
   "execution_count": 20,
   "metadata": {
    "ExecuteTime": {
     "end_time": "2019-02-27T22:45:54.756835Z",
     "start_time": "2019-02-27T22:45:54.753244Z"
    }
   },
   "outputs": [],
   "source": [
    "getRewardC = SetupStateActionRewardWithUserSpecifiedCosts(environmentC, allActions, [goalTruck1,goalTruck2])"
   ]
  },
  {
   "cell_type": "code",
   "execution_count": 24,
   "metadata": {
    "ExecuteTime": {
     "end_time": "2019-02-27T22:46:52.489086Z",
     "start_time": "2019-02-27T22:46:52.478278Z"
    }
   },
   "outputs": [],
   "source": [
    "# example reward function dictionaries for environment C dynamics, Preference M > K > L \n",
    "rewards_EnvC_PrefMLK = {world : getRewardC(constructGoalStateRewards(world, 'MLK')) \\\n",
    "                        for world in allWorlds}"
   ]
  },
  {
   "cell_type": "code",
   "execution_count": 25,
   "metadata": {
    "ExecuteTime": {
     "end_time": "2019-02-27T22:46:59.736156Z",
     "start_time": "2019-02-27T22:46:59.703180Z"
    },
    "collapsed": true
   },
   "outputs": [
    {
     "data": {
      "text/plain": [
       "{'KL': {(0, 0): {(1, 0): 99,\n",
       "   (0, 1): 99,\n",
       "   (-1, 0): 99,\n",
       "   (0, -1): 99,\n",
       "   (0, 0): 99.9},\n",
       "  (1, 3): {(1, 0): -1, (0, 1): -1, (-1, 0): -1, (0, -1): -1, (0, 0): -0.1},\n",
       "  (3, 0): {(1, 0): -1, (0, 1): -1, (-1, 0): -1, (0, -1): -1, (0, 0): -0.1},\n",
       "  (0, 2): {(1, 0): -1, (0, 1): -1, (-1, 0): -1, (0, -1): -1, (0, 0): -0.1},\n",
       "  (2, 1): {(1, 0): -1, (0, 1): -1, (-1, 0): -1, (0, -1): -1, (0, 0): -0.1},\n",
       "  (2, 3): {(1, 0): -1, (0, 1): -1, (-1, 0): -1, (0, -1): -1, (0, 0): -0.1},\n",
       "  (1, 0): {(1, 0): -1, (0, 1): -1, (-1, 0): -1, (0, -1): -1, (0, 0): -0.1},\n",
       "  (0, 3): {(1, 0): -1, (0, 1): -1, (-1, 0): -1, (0, -1): -1, (0, 0): -0.1},\n",
       "  (4, 0): {(1, 0): -1, (0, 1): -1, (-1, 0): -1, (0, -1): -1, (0, 0): -0.1},\n",
       "  (0, 1): {(1, 0): -1, (0, 1): -1, (-1, 0): -1, (0, -1): -1, (0, 0): -0.1},\n",
       "  (1, 2): {(1, 0): -1, (0, 1): -1, (-1, 0): -1, (0, -1): -1, (0, 0): -0.1},\n",
       "  (3, 3): {(1, 0): -1, (0, 1): -1, (-1, 0): -1, (0, -1): -1, (0, 0): -0.1},\n",
       "  (3, 1): {(1, 0): -1, (0, 1): -1, (-1, 0): -1, (0, -1): -1, (0, 0): -0.1},\n",
       "  (2, 0): {(1, 0): -1, (0, 1): -1, (-1, 0): -1, (0, -1): -1, (0, 0): -0.1},\n",
       "  (4, 3): {(1, 0): 399,\n",
       "   (0, 1): 399,\n",
       "   (-1, 0): 399,\n",
       "   (0, -1): 399,\n",
       "   (0, 0): 399.9},\n",
       "  (4, 1): {(1, 0): -1, (0, 1): -1, (-1, 0): -1, (0, -1): -1, (0, 0): -0.1},\n",
       "  (1, 1): {(1, 0): -1, (0, 1): -1, (-1, 0): -1, (0, -1): -1, (0, 0): -0.1}},\n",
       " 'KM': {(0, 0): {(1, 0): 99,\n",
       "   (0, 1): 99,\n",
       "   (-1, 0): 99,\n",
       "   (0, -1): 99,\n",
       "   (0, 0): 99.9},\n",
       "  (1, 3): {(1, 0): -1, (0, 1): -1, (-1, 0): -1, (0, -1): -1, (0, 0): -0.1},\n",
       "  (3, 0): {(1, 0): -1, (0, 1): -1, (-1, 0): -1, (0, -1): -1, (0, 0): -0.1},\n",
       "  (0, 2): {(1, 0): -1, (0, 1): -1, (-1, 0): -1, (0, -1): -1, (0, 0): -0.1},\n",
       "  (2, 1): {(1, 0): -1, (0, 1): -1, (-1, 0): -1, (0, -1): -1, (0, 0): -0.1},\n",
       "  (2, 3): {(1, 0): -1, (0, 1): -1, (-1, 0): -1, (0, -1): -1, (0, 0): -0.1},\n",
       "  (1, 0): {(1, 0): -1, (0, 1): -1, (-1, 0): -1, (0, -1): -1, (0, 0): -0.1},\n",
       "  (0, 3): {(1, 0): -1, (0, 1): -1, (-1, 0): -1, (0, -1): -1, (0, 0): -0.1},\n",
       "  (4, 0): {(1, 0): -1, (0, 1): -1, (-1, 0): -1, (0, -1): -1, (0, 0): -0.1},\n",
       "  (0, 1): {(1, 0): -1, (0, 1): -1, (-1, 0): -1, (0, -1): -1, (0, 0): -0.1},\n",
       "  (1, 2): {(1, 0): -1, (0, 1): -1, (-1, 0): -1, (0, -1): -1, (0, 0): -0.1},\n",
       "  (3, 3): {(1, 0): -1, (0, 1): -1, (-1, 0): -1, (0, -1): -1, (0, 0): -0.1},\n",
       "  (3, 1): {(1, 0): -1, (0, 1): -1, (-1, 0): -1, (0, -1): -1, (0, 0): -0.1},\n",
       "  (2, 0): {(1, 0): -1, (0, 1): -1, (-1, 0): -1, (0, -1): -1, (0, 0): -0.1},\n",
       "  (4, 3): {(1, 0): 999,\n",
       "   (0, 1): 999,\n",
       "   (-1, 0): 999,\n",
       "   (0, -1): 999,\n",
       "   (0, 0): 999.9},\n",
       "  (4, 1): {(1, 0): -1, (0, 1): -1, (-1, 0): -1, (0, -1): -1, (0, 0): -0.1},\n",
       "  (1, 1): {(1, 0): -1, (0, 1): -1, (-1, 0): -1, (0, -1): -1, (0, 0): -0.1}},\n",
       " 'LK': {(0, 0): {(1, 0): 399,\n",
       "   (0, 1): 399,\n",
       "   (-1, 0): 399,\n",
       "   (0, -1): 399,\n",
       "   (0, 0): 399.9},\n",
       "  (1, 3): {(1, 0): -1, (0, 1): -1, (-1, 0): -1, (0, -1): -1, (0, 0): -0.1},\n",
       "  (3, 0): {(1, 0): -1, (0, 1): -1, (-1, 0): -1, (0, -1): -1, (0, 0): -0.1},\n",
       "  (0, 2): {(1, 0): -1, (0, 1): -1, (-1, 0): -1, (0, -1): -1, (0, 0): -0.1},\n",
       "  (2, 1): {(1, 0): -1, (0, 1): -1, (-1, 0): -1, (0, -1): -1, (0, 0): -0.1},\n",
       "  (2, 3): {(1, 0): -1, (0, 1): -1, (-1, 0): -1, (0, -1): -1, (0, 0): -0.1},\n",
       "  (1, 0): {(1, 0): -1, (0, 1): -1, (-1, 0): -1, (0, -1): -1, (0, 0): -0.1},\n",
       "  (0, 3): {(1, 0): -1, (0, 1): -1, (-1, 0): -1, (0, -1): -1, (0, 0): -0.1},\n",
       "  (4, 0): {(1, 0): -1, (0, 1): -1, (-1, 0): -1, (0, -1): -1, (0, 0): -0.1},\n",
       "  (0, 1): {(1, 0): -1, (0, 1): -1, (-1, 0): -1, (0, -1): -1, (0, 0): -0.1},\n",
       "  (1, 2): {(1, 0): -1, (0, 1): -1, (-1, 0): -1, (0, -1): -1, (0, 0): -0.1},\n",
       "  (3, 3): {(1, 0): -1, (0, 1): -1, (-1, 0): -1, (0, -1): -1, (0, 0): -0.1},\n",
       "  (3, 1): {(1, 0): -1, (0, 1): -1, (-1, 0): -1, (0, -1): -1, (0, 0): -0.1},\n",
       "  (2, 0): {(1, 0): -1, (0, 1): -1, (-1, 0): -1, (0, -1): -1, (0, 0): -0.1},\n",
       "  (4, 3): {(1, 0): 99, (0, 1): 99, (-1, 0): 99, (0, -1): 99, (0, 0): 99.9},\n",
       "  (4, 1): {(1, 0): -1, (0, 1): -1, (-1, 0): -1, (0, -1): -1, (0, 0): -0.1},\n",
       "  (1, 1): {(1, 0): -1, (0, 1): -1, (-1, 0): -1, (0, -1): -1, (0, 0): -0.1}},\n",
       " 'LM': {(0, 0): {(1, 0): 399,\n",
       "   (0, 1): 399,\n",
       "   (-1, 0): 399,\n",
       "   (0, -1): 399,\n",
       "   (0, 0): 399.9},\n",
       "  (1, 3): {(1, 0): -1, (0, 1): -1, (-1, 0): -1, (0, -1): -1, (0, 0): -0.1},\n",
       "  (3, 0): {(1, 0): -1, (0, 1): -1, (-1, 0): -1, (0, -1): -1, (0, 0): -0.1},\n",
       "  (0, 2): {(1, 0): -1, (0, 1): -1, (-1, 0): -1, (0, -1): -1, (0, 0): -0.1},\n",
       "  (2, 1): {(1, 0): -1, (0, 1): -1, (-1, 0): -1, (0, -1): -1, (0, 0): -0.1},\n",
       "  (2, 3): {(1, 0): -1, (0, 1): -1, (-1, 0): -1, (0, -1): -1, (0, 0): -0.1},\n",
       "  (1, 0): {(1, 0): -1, (0, 1): -1, (-1, 0): -1, (0, -1): -1, (0, 0): -0.1},\n",
       "  (0, 3): {(1, 0): -1, (0, 1): -1, (-1, 0): -1, (0, -1): -1, (0, 0): -0.1},\n",
       "  (4, 0): {(1, 0): -1, (0, 1): -1, (-1, 0): -1, (0, -1): -1, (0, 0): -0.1},\n",
       "  (0, 1): {(1, 0): -1, (0, 1): -1, (-1, 0): -1, (0, -1): -1, (0, 0): -0.1},\n",
       "  (1, 2): {(1, 0): -1, (0, 1): -1, (-1, 0): -1, (0, -1): -1, (0, 0): -0.1},\n",
       "  (3, 3): {(1, 0): -1, (0, 1): -1, (-1, 0): -1, (0, -1): -1, (0, 0): -0.1},\n",
       "  (3, 1): {(1, 0): -1, (0, 1): -1, (-1, 0): -1, (0, -1): -1, (0, 0): -0.1},\n",
       "  (2, 0): {(1, 0): -1, (0, 1): -1, (-1, 0): -1, (0, -1): -1, (0, 0): -0.1},\n",
       "  (4, 3): {(1, 0): 999,\n",
       "   (0, 1): 999,\n",
       "   (-1, 0): 999,\n",
       "   (0, -1): 999,\n",
       "   (0, 0): 999.9},\n",
       "  (4, 1): {(1, 0): -1, (0, 1): -1, (-1, 0): -1, (0, -1): -1, (0, 0): -0.1},\n",
       "  (1, 1): {(1, 0): -1, (0, 1): -1, (-1, 0): -1, (0, -1): -1, (0, 0): -0.1}},\n",
       " 'MK': {(0, 0): {(1, 0): 999,\n",
       "   (0, 1): 999,\n",
       "   (-1, 0): 999,\n",
       "   (0, -1): 999,\n",
       "   (0, 0): 999.9},\n",
       "  (1, 3): {(1, 0): -1, (0, 1): -1, (-1, 0): -1, (0, -1): -1, (0, 0): -0.1},\n",
       "  (3, 0): {(1, 0): -1, (0, 1): -1, (-1, 0): -1, (0, -1): -1, (0, 0): -0.1},\n",
       "  (0, 2): {(1, 0): -1, (0, 1): -1, (-1, 0): -1, (0, -1): -1, (0, 0): -0.1},\n",
       "  (2, 1): {(1, 0): -1, (0, 1): -1, (-1, 0): -1, (0, -1): -1, (0, 0): -0.1},\n",
       "  (2, 3): {(1, 0): -1, (0, 1): -1, (-1, 0): -1, (0, -1): -1, (0, 0): -0.1},\n",
       "  (1, 0): {(1, 0): -1, (0, 1): -1, (-1, 0): -1, (0, -1): -1, (0, 0): -0.1},\n",
       "  (0, 3): {(1, 0): -1, (0, 1): -1, (-1, 0): -1, (0, -1): -1, (0, 0): -0.1},\n",
       "  (4, 0): {(1, 0): -1, (0, 1): -1, (-1, 0): -1, (0, -1): -1, (0, 0): -0.1},\n",
       "  (0, 1): {(1, 0): -1, (0, 1): -1, (-1, 0): -1, (0, -1): -1, (0, 0): -0.1},\n",
       "  (1, 2): {(1, 0): -1, (0, 1): -1, (-1, 0): -1, (0, -1): -1, (0, 0): -0.1},\n",
       "  (3, 3): {(1, 0): -1, (0, 1): -1, (-1, 0): -1, (0, -1): -1, (0, 0): -0.1},\n",
       "  (3, 1): {(1, 0): -1, (0, 1): -1, (-1, 0): -1, (0, -1): -1, (0, 0): -0.1},\n",
       "  (2, 0): {(1, 0): -1, (0, 1): -1, (-1, 0): -1, (0, -1): -1, (0, 0): -0.1},\n",
       "  (4, 3): {(1, 0): 99, (0, 1): 99, (-1, 0): 99, (0, -1): 99, (0, 0): 99.9},\n",
       "  (4, 1): {(1, 0): -1, (0, 1): -1, (-1, 0): -1, (0, -1): -1, (0, 0): -0.1},\n",
       "  (1, 1): {(1, 0): -1, (0, 1): -1, (-1, 0): -1, (0, -1): -1, (0, 0): -0.1}},\n",
       " 'ML': {(0, 0): {(1, 0): 999,\n",
       "   (0, 1): 999,\n",
       "   (-1, 0): 999,\n",
       "   (0, -1): 999,\n",
       "   (0, 0): 999.9},\n",
       "  (1, 3): {(1, 0): -1, (0, 1): -1, (-1, 0): -1, (0, -1): -1, (0, 0): -0.1},\n",
       "  (3, 0): {(1, 0): -1, (0, 1): -1, (-1, 0): -1, (0, -1): -1, (0, 0): -0.1},\n",
       "  (0, 2): {(1, 0): -1, (0, 1): -1, (-1, 0): -1, (0, -1): -1, (0, 0): -0.1},\n",
       "  (2, 1): {(1, 0): -1, (0, 1): -1, (-1, 0): -1, (0, -1): -1, (0, 0): -0.1},\n",
       "  (2, 3): {(1, 0): -1, (0, 1): -1, (-1, 0): -1, (0, -1): -1, (0, 0): -0.1},\n",
       "  (1, 0): {(1, 0): -1, (0, 1): -1, (-1, 0): -1, (0, -1): -1, (0, 0): -0.1},\n",
       "  (0, 3): {(1, 0): -1, (0, 1): -1, (-1, 0): -1, (0, -1): -1, (0, 0): -0.1},\n",
       "  (4, 0): {(1, 0): -1, (0, 1): -1, (-1, 0): -1, (0, -1): -1, (0, 0): -0.1},\n",
       "  (0, 1): {(1, 0): -1, (0, 1): -1, (-1, 0): -1, (0, -1): -1, (0, 0): -0.1},\n",
       "  (1, 2): {(1, 0): -1, (0, 1): -1, (-1, 0): -1, (0, -1): -1, (0, 0): -0.1},\n",
       "  (3, 3): {(1, 0): -1, (0, 1): -1, (-1, 0): -1, (0, -1): -1, (0, 0): -0.1},\n",
       "  (3, 1): {(1, 0): -1, (0, 1): -1, (-1, 0): -1, (0, -1): -1, (0, 0): -0.1},\n",
       "  (2, 0): {(1, 0): -1, (0, 1): -1, (-1, 0): -1, (0, -1): -1, (0, 0): -0.1},\n",
       "  (4, 3): {(1, 0): 399,\n",
       "   (0, 1): 399,\n",
       "   (-1, 0): 399,\n",
       "   (0, -1): 399,\n",
       "   (0, 0): 399.9},\n",
       "  (4, 1): {(1, 0): -1, (0, 1): -1, (-1, 0): -1, (0, -1): -1, (0, 0): -0.1},\n",
       "  (1, 1): {(1, 0): -1, (0, 1): -1, (-1, 0): -1, (0, -1): -1, (0, 0): -0.1}}}"
      ]
     },
     "execution_count": 25,
     "metadata": {},
     "output_type": "execute_result"
    }
   ],
   "source": [
    "rewards_EnvC_PrefMLK"
   ]
  },
  {
   "cell_type": "code",
   "execution_count": null,
   "metadata": {
    "ExecuteTime": {
     "end_time": "2019-02-27T22:40:15.997401Z",
     "start_time": "2019-02-27T22:40:15.623Z"
    }
   },
   "outputs": [],
   "source": [
    "class SetupRewardBeliefTable(object):\n",
    "    def __init__(self, positionSet, beliefSet, actionSet):\n",
    "        self.positionSet = positionSet\n",
    "        self.beliefSet = beliefSet\n",
    "        self.actionSet = actionSet\n",
    "        \n",
    "    def __call__(self, beliefTransition, worldRewardList):\n",
    "        rewardTable = {(position, worldBelief): {action: {nextState:\n",
    "                        self.getRewardBelief(position, self.getProbabilityWorld1(worldBelief), action, worldRewardList) \\\n",
    "                                                         for nextState in beliefTransition[(position, worldBelief)][action].keys()}\\\n",
    "                             for action in self.actionSet} \\\n",
    "         for position in self.positionSet \\\n",
    "         for worldBelief in self.beliefSet}\n",
    "        return(rewardTable)\n",
    "    \n",
    "    def getProbabilityWorld1(self, worldBelief):\n",
    "        if worldBelief < 0:\n",
    "            return(0)\n",
    "        elif worldBelief > 0:\n",
    "            return(1)\n",
    "        return(.5)\n",
    "    \n",
    "    def getRewardBelief(self, position, probWorld1, action, worldRewards):\n",
    "        rewardBelief = probWorld1*worldRewards[0][position][action] \\\n",
    "        + (1-probWorld1)*worldRewards[1][position][action]\n",
    "        return(rewardBelief)\n"
   ]
  },
  {
   "cell_type": "code",
   "execution_count": null,
   "metadata": {},
   "outputs": [],
   "source": []
  },
  {
   "cell_type": "code",
   "execution_count": null,
   "metadata": {},
   "outputs": [],
   "source": []
  }
 ],
 "metadata": {
  "kernelspec": {
   "display_name": "Python 3",
   "language": "python",
   "name": "python3"
  },
  "language_info": {
   "codemirror_mode": {
    "name": "ipython",
    "version": 3
   },
   "file_extension": ".py",
   "mimetype": "text/x-python",
   "name": "python",
   "nbconvert_exporter": "python",
   "pygments_lexer": "ipython3",
   "version": "3.6.6"
  },
  "toc": {
   "base_numbering": 1,
   "nav_menu": {},
   "number_sections": true,
   "sideBar": true,
   "skip_h1_title": false,
   "title_cell": "Table of Contents",
   "title_sidebar": "Contents",
   "toc_cell": false,
   "toc_position": {},
   "toc_section_display": true,
   "toc_window_display": false
  }
 },
 "nbformat": 4,
 "nbformat_minor": 2
}
